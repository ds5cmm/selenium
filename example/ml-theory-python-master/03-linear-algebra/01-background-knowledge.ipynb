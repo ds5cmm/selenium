{
 "cells": [
  {
   "cell_type": "markdown",
   "metadata": {},
   "source": [
    "# Background knowledge"
   ]
  },
  {
   "cell_type": "markdown",
   "metadata": {},
   "source": [
    "### Eigen Vector, Eigen Value (고유 분해)\n",
    "\n",
    "- Assuming we can find the $v$, $\\lambda$ satisfying follow equiations\n",
    "\n",
    "$$ Av = \\lambda v $$\n",
    "\n",
    "$$ Av - \\lambda v = (A-\\lambda I)v = 0 $$\n",
    "\n",
    "- $\\lambda$ is called `eigen value` and $v$ is called `eigen vector`.\n",
    "- Eigenvector's size changes but direction does not change.\n",
    "- $c*v$ is also eigenvector. So, eigenvector is normalized in usual. $ \\frac{v}{||v||} $\n",
    "- Now we have to find eigen value and vector. matrix A's eigenvalue is can be found by follow process.\n",
    "    - We know $ (A-\\lambda I)v = 0 $\n",
    "    - It means, $ (A-\\lambda I) $ has no inverse matrix. If $ (A-\\lambda I) $ has inverse matrix, v is always 0.\n",
    "    - Using this mean (`there is no inverse matrix A`)\n",
    "        - in $ (A-\\lambda I) $ = ([[a, b], [c, d]]), we knows `ad-bc=0`. and we can solve this to find $\\lambda$.\n",
    "- Then, we can also find eigenvector using this equation. $ (A-\\lambda I)v = 0 $"
   ]
  },
  {
   "cell_type": "code",
   "execution_count": 5,
   "metadata": {},
   "outputs": [
    {
     "name": "stdout",
     "output_type": "stream",
     "text": [
      "[-0.99999998 -1.00000002]\n",
      "[[0.70710678 0.70710678]\n",
      " [0.70710678 0.70710678]]\n"
     ]
    }
   ],
   "source": [
    "%matplotlib inline\n",
    "\n",
    "import numpy as np\n",
    "import matplotlib.pyplot as plt\n",
    "\n",
    "A = np.array([[1,-2], [2,-3]])\n",
    "eigenvalue, eigenvector = np.linalg.eig(A)\n",
    "\n",
    "print(eigenvalue)\n",
    "print(eigenvector)"
   ]
  },
  {
   "cell_type": "markdown",
   "metadata": {},
   "source": [
    "#### diagonalization\n",
    "\n",
    "- Now we knows $ \\lambda_1, \\lambda_2, \\lambda_3, ... \\lambda_N$ and $ v_1, v_2, v_3, ... v_N $\n",
    "- And we can define belows\n",
    "    - $ V = [v_1, v_2, v_3, ... v_N] $\n",
    "    - <img src=\"img/diagonal.png\" alt=\"diagonal\" style=\"width: 200px;\"/>\n",
    "    - If V has inverse matrix, then $A = V\\bigwedge V^{-1}$. And it is the matrix's diagonalization.\n",
    "    - And $AA^T = V\\bigwedge V^{T}$."
   ]
  },
  {
   "cell_type": "markdown",
   "metadata": {},
   "source": [
    "----\n",
    "### Singular Value Decomposition (특잇값 분해)\n",
    "\n",
    "Express as 3 matrixes product from N x M size matrix A is singular value decomposition. PCA can be applied diagonal matrix, but SVD can be applied MxN matrix.\n",
    "\n",
    "- $ A = U\\Sigma V^T $\n",
    "    - Diagonal matrix with positive diagonal component : $\\Sigma \\in R^{NxM}$\n",
    "    - N'th Square matrix. All of column vectors are unit vector and orthogonal for each other : $U \\in R^{NxN}$\n",
    "        - It calls orthogonal matrix.\n",
    "        - $ U^TU = UU^T = I $\n",
    "        - $ U^{-1} = U^T $\n",
    "    - M'th Square matrix. All of column vectors are unit vector and orthogonal for each other : $V \\in R^{MxM}$\n",
    "\n",
    "<img src=\"img/svd.png\" alt=\"MF\" style=\"width: 500px;\"/>\n",
    "\n",
    "- In recommender system, each U's row means `User Latent Factor` and each $V^T$'s column means `Item Latent Factor`\n",
    "\n",
    "#### How to find $ U, \\Sigma, V $?\n",
    "\n",
    "- 1. find eigenvalue, eigenvector of $A^TA$.\n",
    "- 2. find $U, V$\n",
    "- more detail - https://www.d.umn.edu/~mhampton/m4326svd_example.pdf"
   ]
  },
  {
   "cell_type": "markdown",
   "metadata": {},
   "source": [
    "----\n",
    "## Optimization"
   ]
  },
  {
   "cell_type": "markdown",
   "metadata": {},
   "source": [
    "### 1) Gradient Descent\n",
    "\n",
    "- Summarize in regression part : [Link](https://github.com/yoonkt200/recommender-system/tree/master/02-regression)"
   ]
  },
  {
   "cell_type": "markdown",
   "metadata": {},
   "source": [
    "----\n",
    "### 2) Others\n",
    "\n",
    "#### Newton Method\n",
    "- Newton method using when approximating the solution of an equation.\n",
    "- If the cost function $f(x)$ is n'th function(n>2), for example, $f(x) = x^7 + 5x^6 + ... + x = 0$, we can't find the solution of equation.\n",
    "- Below image can explain the process of newton method.\n",
    "\n",
    "<img src=\"img/newton.png\" alt=\"MF\" style=\"width: 300px;\"/>\n",
    "\n",
    "- Equation of newton method is : $ x^{t+1} = x^t - \\frac{f(x^)}{f`(x^)} $\n",
    "\n",
    "\n",
    "#### Greedy Search **(Pass)**"
   ]
  },
  {
   "cell_type": "markdown",
   "metadata": {},
   "source": [
    "----\n",
    "### 3) Lagrange Multiplier\n",
    "\n",
    "In optimization problem, some cases have constrained condition.\n",
    "\n",
    "- The below situation is the case. $f(x)$ is objective function to minimize, and g(x) is a constrain condition.\n",
    "\n",
    "$$ \\underset{x}{argmin}f(x) $$\n",
    "\n",
    "$$ x \\in R^N $$\n",
    "\n",
    "$$ g_j(x) (j=1, ..., M) $$\n",
    "\n",
    "- for example, in this situation(`minimize f(x) and satisfy g(x)`), we have to find point $ (x_1, x_2) $\n",
    "    - $ f(x_1, x_2) = x_1^2 + x_2^2 $\n",
    "    - $ g(x_1, x_2) = x_1+x_2-1=0 $"
   ]
  },
  {
   "cell_type": "code",
   "execution_count": 3,
   "metadata": {},
   "outputs": [
    {
     "data": {
      "text/plain": [
       "[<matplotlib.lines.Line2D at 0x1147df518>]"
      ]
     },
     "execution_count": 3,
     "metadata": {},
     "output_type": "execute_result"
    },
    {
     "data": {
      "image/png": "[encoded data removed]",
      "text/plain": [
       "<Figure size 432x288 with 1 Axes>"
      ]
     },
     "metadata": {
      "needs_background": "light"
     },
     "output_type": "display_data"
    }
   ],
   "source": [
    "# f(x)\n",
    "def f1(x1, x2):\n",
    "    return x1 ** 2 + x2 ** 2\n",
    "\n",
    "x1 = np.linspace(-5, 5, 100)\n",
    "x2 = np.linspace(-3, 3, 100)\n",
    "X1, X2 = np.meshgrid(x1, x2)\n",
    "Y = f1(X1, X2)\n",
    "\n",
    "# g(x)\n",
    "x2_g = 1-x1\n",
    "\n",
    "plt.contour(X1, X2, Y, colors='gray', levels=[0.5,2,8,32])\n",
    "plt.plot(x1, x2_g)\n",
    "\n",
    "plt.plot([0], [0], 'rP')\n",
    "plt.plot([0.5], [0.5], 'ro', ms=10)"
   ]
  },
  {
   "cell_type": "markdown",
   "metadata": {},
   "source": [
    "- Lagrange multiplier make new objective function $ h(x) $.\n",
    "    - $ h(x, \\lambda) = h(x_1, x_2, ..., x_N, \\lambda_1, ... \\lambda_M) $\n",
    "    - $ = f(x) + \\sum_{j=1}^{M}\\lambda_j g_j(x)$\n",
    "- And we have to find belows.\n",
    "    - $ \\frac{dh}{dx_1} = \\frac{df}{dx_1} + \\sum_{j=1}^{M}\\lambda_j\\frac{dg_j}{dx_1} = 0 $\n",
    "    - $ \\frac{dh}{dx_2} = \\frac{df}{dx_2} + \\sum_{j=1}^{M}\\lambda_j\\frac{dg_j}{dx_2} = 0 $\n",
    "    - $ ... $\n",
    "    - $ \\frac{dh}{d\\lambda_1} = g_1 = 0 $\n",
    "    - $ \\frac{dh}{d\\lambda_2} = g_1 = 0 $\n",
    "    - $ ... $\n",
    "    \n",
    "- Then we can find $ x_1, x_2.... $"
   ]
  },
  {
   "cell_type": "markdown",
   "metadata": {},
   "source": [
    "----\n",
    "- Other example : Find the maximum and minimum values of 4𝑥 − 3𝑦 subject to the constraint 2𝑥2 + 𝑦2 = 68.\n",
    "\n",
    "<img src=\"img/lagrange.png\" alt=\"MF\" style=\"width: 300px;\"/>"
   ]
  },
  {
   "cell_type": "markdown",
   "metadata": {},
   "source": [
    "----\n",
    "#### Appendix : KKT(Karush-Kuhn-Tucker)\n",
    "\n",
    "- If the $g(x)$ is inequality condition like this, we consider KKT(Karush-Kuhn-Tucker).\n",
    "    - $ g_j(x) \\le 0 $\n",
    "- KKT has 3 rule\n",
    "    - $ \\frac{dh(x,\\lambda)}{dx_i} = 0 $ for all $i$\n",
    "    - $ \\lambda_j * \\frac{dh(x,\\lambda)}{d\\lambda_i} = 0 $\n",
    "    - $\\lambda_j \\ge 0$"
   ]
  },
  {
   "cell_type": "markdown",
   "metadata": {},
   "source": [
    "----\n",
    "#### references\n",
    "- https://datascienceschool.net/view-notebook/04358acdcf3347fc989c4cfc0ef6121c/\n",
    "- https://ratsgo.github.io/from%20frequency%20to%20semantics/2017/04/06/pcasvdlsa/\n",
    "- https://angeloyeo.github.io/2019/08/01/SVD.html"
   ]
  }
 ],
 "metadata": {
  "kernelspec": {
   "display_name": "Python 3",
   "language": "python",
   "name": "python3"
  },
  "language_info": {
   "codemirror_mode": {
    "name": "ipython",
    "version": 3
   },
   "file_extension": ".py",
   "mimetype": "text/x-python",
   "name": "python",
   "nbconvert_exporter": "python",
   "pygments_lexer": "ipython3",
   "version": "3.7.3"
  }
 },
 "nbformat": 4,
 "nbformat_minor": 2
}
