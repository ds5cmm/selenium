{
 "cells": [
  {
   "cell_type": "code",
   "execution_count": 2,
   "metadata": {},
   "outputs": [],
   "source": [
    "%matplotlib inline\n",
    "\n",
    "import numpy as np\n",
    "import pandas as pd\n",
    "import matplotlib.pyplot as plt"
   ]
  },
  {
   "cell_type": "code",
   "execution_count": 58,
   "metadata": {},
   "outputs": [],
   "source": [
    "def cumulative_gain_score(rel_list, p):\n",
    "    return sum(rel_list[:p])"
   ]
  },
  {
   "cell_type": "markdown",
   "metadata": {},
   "source": [
    "$$ CG_p = \\sum_{i=1}^{p}{rel_i} $$"
   ]
  },
  {
   "cell_type": "code",
   "execution_count": 59,
   "metadata": {},
   "outputs": [],
   "source": [
    "def discounted_cumulative_gain_score(rel_list, p):\n",
    "    dcg = rel_list[0]\n",
    "    for idx in range(1, p):\n",
    "        dcg += (rel_list[idx] / np.log2(idx+1))\n",
    "    return dcg"
   ]
  },
  {
   "cell_type": "markdown",
   "metadata": {},
   "source": [
    "$$ DCG_p = rel_1 + \\sum_{i=2}^{p}{\\frac{rel_i}{log_2i}} $$"
   ]
  },
  {
   "cell_type": "markdown",
   "metadata": {},
   "source": [
    "$$ NDCG_p = \\frac{DCG_p}{IDCG_p} $$"
   ]
  },
  {
   "cell_type": "code",
   "execution_count": 73,
   "metadata": {},
   "outputs": [],
   "source": [
    "rank_relevant_score = [4,3,4,2,1]\n",
    "ideal_vector = [4,4,3,2,1]"
   ]
  },
  {
   "cell_type": "code",
   "execution_count": 74,
   "metadata": {},
   "outputs": [
    {
     "name": "stdout",
     "output_type": "stream",
     "text": [
      "CG : 14\n"
     ]
    }
   ],
   "source": [
    "print(\"CG :\", cumulative_gain_score(rank_relevant_score, p=len(rank_relevant_score)))"
   ]
  },
  {
   "cell_type": "code",
   "execution_count": 75,
   "metadata": {},
   "outputs": [
    {
     "name": "stdout",
     "output_type": "stream",
     "text": [
      "ICG : 14\n"
     ]
    }
   ],
   "source": [
    "print(\"ICG :\", cumulative_gain_score(ideal_vector, p=len(ideal_vector)))"
   ]
  },
  {
   "cell_type": "code",
   "execution_count": 76,
   "metadata": {},
   "outputs": [
    {
     "name": "stdout",
     "output_type": "stream",
     "text": [
      "DCG : 10.954395572359225\n"
     ]
    }
   ],
   "source": [
    "print(\"DCG :\", discounted_cumulative_gain_score(rank_relevant_score, p=len(rank_relevant_score)))"
   ]
  },
  {
   "cell_type": "code",
   "execution_count": 77,
   "metadata": {},
   "outputs": [
    {
     "name": "stdout",
     "output_type": "stream",
     "text": [
      "IDCG : 11.323465818787767\n"
     ]
    }
   ],
   "source": [
    "print(\"IDCG :\", discounted_cumulative_gain_score(ideal_vector, p=len(ideal_vector)))"
   ]
  },
  {
   "cell_type": "code",
   "execution_count": 78,
   "metadata": {},
   "outputs": [
    {
     "name": "stdout",
     "output_type": "stream",
     "text": [
      "NDCG : 0.9674066003876495\n"
     ]
    }
   ],
   "source": [
    "dcg = discounted_cumulative_gain_score(rank_relevant_score, p=len(rank_relevant_score))\n",
    "idcg = discounted_cumulative_gain_score(ideal_vector, p=len(ideal_vector))\n",
    "ndcg = dcg / idcg\n",
    "print(\"NDCG :\", ndcg)"
   ]
  }
 ],
 "metadata": {
  "kernelspec": {
   "display_name": "Python 3",
   "language": "python",
   "name": "python3"
  },
  "language_info": {
   "codemirror_mode": {
    "name": "ipython",
    "version": 3
   },
   "file_extension": ".py",
   "mimetype": "text/x-python",
   "name": "python",
   "nbconvert_exporter": "python",
   "pygments_lexer": "ipython3",
   "version": "3.7.4"
  }
 },
 "nbformat": 4,
 "nbformat_minor": 2
}
