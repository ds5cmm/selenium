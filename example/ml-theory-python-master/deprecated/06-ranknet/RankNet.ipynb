{
 "cells": [
  {
   "cell_type": "markdown",
   "metadata": {},
   "source": [
    "## Network Architecture"
   ]
  },
  {
   "cell_type": "markdown",
   "metadata": {},
   "source": [
    "![Network](architecture.png)"
   ]
  },
  {
   "cell_type": "markdown",
   "metadata": {},
   "source": [
    "-----"
   ]
  },
  {
   "cell_type": "markdown",
   "metadata": {},
   "source": [
    "## Theory"
   ]
  },
  {
   "cell_type": "markdown",
   "metadata": {},
   "source": [
    "- Probability of RankNet's problem\n",
    "$$ P_{ij} = P(x_j > x_i) $$"
   ]
  },
  {
   "cell_type": "markdown",
   "metadata": {},
   "source": [
    "- Output Node's result\n",
    "$$ o_{ij} = f(x_i) - f(x_j)$$"
   ]
  },
  {
   "cell_type": "markdown",
   "metadata": {},
   "source": [
    "- re-define probability of output node\n",
    "$$ \\overline{P_{ij}} = {\\frac{e^{o_{ij}}}{1 + e^{o_{ij}}}} $$"
   ]
  },
  {
   "cell_type": "markdown",
   "metadata": {},
   "source": [
    "- cost function\n",
    "$$ C_{ij} = -\\overline{P_{ij}}log(P_{ij}) - (1-\\overline{P_{ij}}log(1-P_{ij})) $$"
   ]
  },
  {
   "cell_type": "markdown",
   "metadata": {},
   "source": [
    "-----"
   ]
  },
  {
   "cell_type": "markdown",
   "metadata": {},
   "source": [
    "## Implementation"
   ]
  },
  {
   "cell_type": "code",
   "execution_count": 2,
   "metadata": {},
   "outputs": [],
   "source": [
    "import numpy as np\n",
    "\n",
    "import keras\n",
    "from keras import backend\n",
    "from keras.layers import Activation, Dense, Input, Subtract\n",
    "from keras.models import Model, Sequential"
   ]
  },
  {
   "cell_type": "code",
   "execution_count": 3,
   "metadata": {},
   "outputs": [],
   "source": [
    "def base_network(input_dim):\n",
    "    model = Sequential()\n",
    "    model.add(Dense(input_dim, input_shape=(input_dim,), activation='relu'))\n",
    "    model.add(Dense(100, activation='relu'))\n",
    "    model.add(Dense(50, activation='relu'))\n",
    "    model.add(Dense(1))\n",
    "    return model"
   ]
  },
  {
   "cell_type": "code",
   "execution_count": 4,
   "metadata": {},
   "outputs": [
    {
     "name": "stdout",
     "output_type": "stream",
     "text": [
      "WARNING:tensorflow:From /Users/gshs/anaconda3/envs/gryta/lib/python3.7/site-packages/tensorflow/python/ops/nn_impl.py:180: add_dispatch_support.<locals>.wrapper (from tensorflow.python.ops.array_ops) is deprecated and will be removed in a future version.\n",
      "Instructions for updating:\n",
      "Use tf.where in 2.0, which has the same broadcast rule as np.where\n",
      "WARNING:tensorflow:From /Users/gshs/anaconda3/envs/gryta/lib/python3.7/site-packages/keras/backend/tensorflow_backend.py:422: The name tf.global_variables is deprecated. Please use tf.compat.v1.global_variables instead.\n",
      "\n",
      "Train on 80 samples, validate on 20 samples\n",
      "Epoch 1/10\n",
      "80/80 [==============================] - 0s 2ms/step - loss: 0.9398 - accuracy: 0.0125 - val_loss: 0.3847 - val_accuracy: 1.0000\n",
      "Epoch 2/10\n",
      "80/80 [==============================] - 0s 84us/step - loss: 0.3763 - accuracy: 1.0000 - val_loss: 0.2081 - val_accuracy: 1.0000\n",
      "Epoch 3/10\n",
      "80/80 [==============================] - 0s 54us/step - loss: 0.1981 - accuracy: 1.0000 - val_loss: 0.1079 - val_accuracy: 1.0000\n",
      "Epoch 4/10\n",
      "80/80 [==============================] - 0s 73us/step - loss: 0.1017 - accuracy: 1.0000 - val_loss: 0.0601 - val_accuracy: 1.0000\n",
      "Epoch 5/10\n",
      "80/80 [==============================] - 0s 53us/step - loss: 0.0560 - accuracy: 1.0000 - val_loss: 0.0316 - val_accuracy: 1.0000\n",
      "Epoch 6/10\n",
      "80/80 [==============================] - 0s 49us/step - loss: 0.0296 - accuracy: 1.0000 - val_loss: 0.0165 - val_accuracy: 1.0000\n",
      "Epoch 7/10\n",
      "80/80 [==============================] - 0s 44us/step - loss: 0.0155 - accuracy: 1.0000 - val_loss: 0.0086 - val_accuracy: 1.0000\n",
      "Epoch 8/10\n",
      "80/80 [==============================] - 0s 52us/step - loss: 0.0080 - accuracy: 1.0000 - val_loss: 0.0046 - val_accuracy: 1.0000\n",
      "Epoch 9/10\n",
      "80/80 [==============================] - 0s 45us/step - loss: 0.0042 - accuracy: 1.0000 - val_loss: 0.0024 - val_accuracy: 1.0000\n",
      "Epoch 10/10\n",
      "80/80 [==============================] - 0s 46us/step - loss: 0.0022 - accuracy: 1.0000 - val_loss: 0.0013 - val_accuracy: 1.0000\n"
     ]
    }
   ],
   "source": [
    "input_dim = 200\n",
    "n = 100\n",
    "\n",
    "# define input\n",
    "pre_pair_input = Input(shape=(input_dim,))\n",
    "post_pair_input = Input(shape=(input_dim,))\n",
    "\n",
    "# get pair network\n",
    "base_model = base_network(input_dim=input_dim)\n",
    "rel_score = base_model(pre_pair_input)\n",
    "irr_score = base_model(post_pair_input)\n",
    "\n",
    "# subtract each score\n",
    "diff = Subtract()([rel_score, irr_score])\n",
    "\n",
    "# activate sigmoid function\n",
    "prob = Activation(\"sigmoid\")(diff)\n",
    "\n",
    "# build\n",
    "model = Model(inputs=[pre_pair_input, post_pair_input], outputs=prob)\n",
    "model.compile(optimizer=\"adam\", loss=\"binary_crossentropy\", metrics=['accuracy'])\n",
    "\n",
    "# data : a is always higher than b\n",
    "doc_a_feature = np.random.uniform(size=(n, input_dim)) + 1\n",
    "doc_b_feature = np.random.uniform(size=(n, input_dim))\n",
    "y = np.ones((n, 1))\n",
    "\n",
    "# train\n",
    "history = model.fit([doc_a_feature, doc_b_feature], y, epochs=10, batch_size=100, validation_split=0.2)"
   ]
  },
  {
   "cell_type": "code",
   "execution_count": 5,
   "metadata": {},
   "outputs": [
    {
     "data": {
      "image/png": "[encoded data removed]",
      "text/plain": [
       "<Figure size 432x288 with 1 Axes>"
      ]
     },
     "metadata": {
      "needs_background": "light"
     },
     "output_type": "display_data"
    }
   ],
   "source": [
    "%matplotlib inline\n",
    "import matplotlib.pyplot as plt\n",
    "\n",
    "# visualize model acc\n",
    "history = history.history\n",
    "plt.plot(history['accuracy'])\n",
    "plt.plot(history['val_accuracy'])\n",
    "plt.ylabel('Accracy')\n",
    "plt.xlabel('Epoch')\n",
    "plt.legend(['Training data', 'Validation data'], loc=0)\n",
    "plt.show()"
   ]
  },
  {
   "cell_type": "code",
   "execution_count": null,
   "metadata": {},
   "outputs": [],
   "source": []
  }
 ],
 "metadata": {
  "kernelspec": {
   "display_name": "Python 3",
   "language": "python",
   "name": "python3"
  },
  "language_info": {
   "codemirror_mode": {
    "name": "ipython",
    "version": 3
   },
   "file_extension": ".py",
   "mimetype": "text/x-python",
   "name": "python",
   "nbconvert_exporter": "python",
   "pygments_lexer": "ipython3",
   "version": "3.7.4"
  }
 },
 "nbformat": 4,
 "nbformat_minor": 2
}
