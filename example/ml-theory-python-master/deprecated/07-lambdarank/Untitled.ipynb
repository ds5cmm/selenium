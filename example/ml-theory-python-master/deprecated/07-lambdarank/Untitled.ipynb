{
 "cells": [
  {
   "cell_type": "code",
   "execution_count": null,
   "metadata": {},
   "outputs": [],
   "source": [
    "from keras import backend as K\n",
    "from keras.layers import Activation, Dense, Input, Subtract\n",
    "from keras.models import Model\n",
    "import numpy as np\n",
    "import math"
   ]
  },
  {
   "cell_type": "code",
   "execution_count": 65,
   "metadata": {},
   "outputs": [],
   "source": [
    "class RankerNN(object):\n",
    "\n",
    "    def __init__(self, input_size, hidden_layer_sizes=(100,), activation=('relu',), solver='adam'):\n",
    "        if len(hidden_layer_sizes) != len(activation):\n",
    "            raise ValueError('hidden_layer_sizes and activation should have the same size.')\n",
    "        self.model = self._build_model(input_size, hidden_layer_sizes, activation)\n",
    "        self.model.compile(optimizer=solver, loss=\"binary_crossentropy\")\n",
    "\n",
    "    @staticmethod\n",
    "    def _build_model(input_shape, hidden_layer_sizes, activation):\n",
    "        # Neural network structure\n",
    "        hidden_layers = []\n",
    "        for i in range(len(hidden_layer_sizes)):\n",
    "            hidden_layers.append(Dense(hidden_layer_sizes[i], activation=activation[i], name=str(activation[i]) + '_layer' + str(i)))\n",
    "        h0 = Dense(1, activation='linear', name='Identity_layer')\n",
    "        input1 = Input(shape=(input_shape,), name='Input_layer1')\n",
    "        input2 = Input(shape=(input_shape,), name='Input_layer2')\n",
    "        x1 = input1\n",
    "        x2 = input2\n",
    "        for i in range(len(hidden_layer_sizes)):\n",
    "            x1 = hidden_layers[i](x1)\n",
    "            x2 = hidden_layers[i](x2)\n",
    "        x1 = h0(x1)\n",
    "        x2 = h0(x2)\n",
    "        # Subtract layer\n",
    "        subtracted = Subtract(name='Subtract_layer')([x1, x2])\n",
    "        # sigmoid\n",
    "        out = Activation('sigmoid', name='Activation_layer')(subtracted)\n",
    "        # build model\n",
    "        model = Model(inputs=[input1, input2], outputs=out)\n",
    "        return model\n",
    "\n",
    "    @staticmethod\n",
    "    def _CalcDCG(labels):\n",
    "        sumdcg = 0.0\n",
    "        for i in range(len(labels)):\n",
    "            rel = labels[i]\n",
    "            if rel != 0:\n",
    "                sumdcg += ((2 ** rel) - 1) / math.log2(i + 2)\n",
    "        return sumdcg\n",
    "\n",
    "    def _fetch_qid_data(self, y, qid, eval_at=None):\n",
    "        qid_unique, qid2indices, qid_inverse_indices = np.unique(qid, return_index=True, return_inverse=True)\n",
    "        # get item releveance for each query id\n",
    "        qid2rel = [[] for _ in range(len(qid_unique))]\n",
    "        for i, qid_unique_index in enumerate(qid_inverse_indices):\n",
    "            qid2rel[qid_unique_index].append(y[i])\n",
    "        # get dcg, idcg for each query id @eval_at\n",
    "        if eval_at:\n",
    "            qid2dcg = [self._CalcDCG(qid2rel[i][:eval_at]) for i in range(len(qid_unique))]\n",
    "            qid2idcg = [self._CalcDCG(sorted(qid2rel[i], reverse=True)[:eval_at]) for i in range(len(qid_unique))]\n",
    "        else:\n",
    "            qid2dcg = [self._CalcDCG(qid2rel[i]) for i in range(len(qid_unique))]\n",
    "            qid2idcg = [self._CalcDCG(sorted(qid2rel[i], reverse=True)) for i in range(len(qid_unique))]\n",
    "        return qid2indices, qid2rel, qid2idcg, qid2dcg\n",
    "\n",
    "\n",
    "    def _transform_pairwise(self, X, y, qid):\n",
    "        return None, None, None, None\n",
    "\n",
    "\n",
    "    def fit(self, X, y, qid, batch_size=None, epochs=1, verbose=1, validation_split=0.0):\n",
    "        X1_trans, X2_trans, y_trans, weight = self._transform_pairwise(X, y, qid)\n",
    "        self.model.fit([X1_trans, X2_trans], y_trans, sample_weight=weight, batch_size=batch_size, epochs=epochs,\n",
    "                       verbose=verbose, validation_split=validation_split)\n",
    "        self.evaluate(X, y, qid)\n",
    "\n",
    "    def predict(self, X):\n",
    "        ranker_output = K.function([self.model.layers[0].input], [self.model.layers[-3].get_output_at(0)])\n",
    "        return ranker_output([X])[0].ravel()\n",
    "\n",
    "    def evaluate(self, X, y, qid, eval_at=None):\n",
    "        y_pred = self.predict(X)\n",
    "        tmp = np.array(np.hstack([y.reshape(-1, 1), y_pred.reshape(-1, 1), qid.reshape(-1, 1)]))\n",
    "        tmp = tmp[np.lexsort((-tmp[:, 1], tmp[:, 2]))]\n",
    "        y_sorted = tmp[:, 0]\n",
    "        qid_sorted = tmp[:, 2]\n",
    "        ndcg = self._EvalNDCG(y_sorted, qid_sorted, eval_at)\n",
    "        if eval_at:\n",
    "            print('ndcg@' + str(eval_at) + ': ' + str(ndcg))\n",
    "        else:\n",
    "            print('ndcg: ' + str(ndcg))\n",
    "\n",
    "    def _EvalNDCG(self, y, qid, eval_at=None):\n",
    "        _, _, qid2idcg, qid2dcg = self._fetch_qid_data(y, qid, eval_at)\n",
    "        sumndcg = 0\n",
    "        count = 0.0\n",
    "        for qid_unique_idx in range(len(qid2idcg)):\n",
    "            count += 1\n",
    "            if qid2idcg[qid_unique_idx] == 0:\n",
    "                continue\n",
    "            idcg = qid2idcg[qid_unique_idx]\n",
    "            dcg = qid2dcg[qid_unique_idx]\n",
    "            sumndcg += dcg / idcg\n",
    "        return sumndcg / count\n",
    "\n",
    "\n",
    "class RankNetNN(RankerNN):\n",
    "\n",
    "    def __init__(self, input_size, hidden_layer_sizes=(100,), activation=('relu',), solver='adam'):\n",
    "        super(RankNetNN, self).__init__(input_size, hidden_layer_sizes, activation, solver)\n",
    "\n",
    "    def _transform_pairwise(self, X, y, qid):\n",
    "        qid2indices, qid2rel, qid2idcg, _ = self._fetch_qid_data(y, qid)\n",
    "        X1 = []\n",
    "        X2 = []\n",
    "        weight = []\n",
    "        Y = []\n",
    "        for qid_unique_idx in range(len(qid2indices)):\n",
    "            if qid2idcg[qid_unique_idx] == 0: # 해당 쿼리의 idcg가 0인 경우 : relevance score가 존재하는 point가 하나도 없는 경우\n",
    "                continue\n",
    "            rel_list = qid2rel[qid_unique_idx] # 해당 쿼리의 rel_list\n",
    "            qid_start_idx = qid2indices[qid_unique_idx] \n",
    "            for pos_idx in range(len(rel_list)): # 이중 for loop 으로, pair(i, j)를 iteration (pos:i, neg:j)\n",
    "                for neg_idx in range(len(rel_list)):\n",
    "                    if rel_list[pos_idx] <= rel_list[neg_idx]: # i번째 rel이 j보다 큰 경우만 경우를 따짐 (쇼당은 안붙음)\n",
    "                        continue\n",
    "                    # balanced class : pos의 index가 neg의 index보다 큰 경우\n",
    "                    if 1 != (-1) ** (qid_unique_idx + pos_idx + neg_idx):\n",
    "                        X1.append(X[qid_start_idx + pos_idx])\n",
    "                        X2.append(X[qid_start_idx + neg_idx])\n",
    "                        weight.append(1)\n",
    "                        Y.append(1)\n",
    "                    else:\n",
    "                        X1.append(X[qid_start_idx + neg_idx])\n",
    "                        X2.append(X[qid_start_idx + pos_idx])\n",
    "                        weight.append(1)\n",
    "                        Y.append(0)\n",
    "        return np.asarray(X1), np.asarray(X2), np.asarray(Y), np.asarray(weight)\n",
    "\n",
    "\n",
    "class LambdaRankNN(RankerNN):\n",
    "\n",
    "    def __init__(self, input_size, hidden_layer_sizes=(100,), activation=('relu',), solver='adam'):\n",
    "        super(LambdaRankNN, self).__init__(input_size, hidden_layer_sizes, activation, solver)\n",
    "\n",
    "    def _transform_pairwise(self, X, y, qid):\n",
    "        qid2indices, qid2rel, qid2idcg, _ = self._fetch_qid_data(y, qid)\n",
    "        X1 = []\n",
    "        X2 = []\n",
    "        weight = []\n",
    "        Y = []\n",
    "        for qid_unique_idx in range(len(qid2indices)):\n",
    "            if qid2idcg[qid_unique_idx] == 0:\n",
    "                continue\n",
    "            IDCG = 1.0 / qid2idcg[qid_unique_idx]\n",
    "            rel_list = qid2rel[qid_unique_idx]\n",
    "            qid_start_idx = qid2indices[qid_unique_idx]\n",
    "            for pos_idx in range(len(rel_list)):\n",
    "                for neg_idx in range(len(rel_list)):\n",
    "                    if rel_list[pos_idx] <= rel_list[neg_idx]:\n",
    "                        continue\n",
    "                        \n",
    "                        \n",
    "                    \"\"\"\"\"\"\n",
    "                    # calculate lambda\n",
    "                    pos_loginv = 1.0 / math.log2(pos_idx + 2) # ???\n",
    "                    neg_loginv = 1.0 / math.log2(neg_idx + 2) # ???\n",
    "                    pos_label = rel_list[pos_idx] # \n",
    "                    neg_label = rel_list[neg_idx] # ???\n",
    "                    original = ((2 ** pos_label) - 1) * pos_loginv + ((2 ** neg_label) - 1) * neg_loginv\n",
    "                    changed = ((2 ** neg_label) - 1) * pos_loginv + ((2 ** pos_label) - 1) * neg_loginv\n",
    "                    delta = (original - changed) * IDCG\n",
    "                    if delta < 0:\n",
    "                        delta = -delta\n",
    "                    \"\"\"\"\"\"\n",
    "                        \n",
    "                        \n",
    "                        \n",
    "                    # balanced class\n",
    "                    if 1 != (-1) ** (qid_unique_idx + pos_idx + neg_idx):\n",
    "                        X1.append(X[qid_start_idx + pos_idx])\n",
    "                        X2.append(X[qid_start_idx + neg_idx])\n",
    "                        weight.append(delta)\n",
    "                        Y.append(1)\n",
    "                    else:\n",
    "                        X1.append(X[qid_start_idx + neg_idx])\n",
    "                        X2.append(X[qid_start_idx + pos_idx])\n",
    "                        weight.append(delta)\n",
    "                        Y.append(0)\n",
    "        return np.asarray(X1), np.asarray(X2), np.asarray(Y), np.asarray(weight)"
   ]
  },
  {
   "cell_type": "code",
   "execution_count": 66,
   "metadata": {},
   "outputs": [
    {
     "name": "stdout",
     "output_type": "stream",
     "text": [
      "-------------\n",
      "qid: 0\n",
      "pos: 0 0\n",
      "neg: 0 0\n",
      "-------------\n",
      "-------------\n",
      "qid: 0\n",
      "pos: 0 0\n",
      "neg: 1 1\n",
      "-------------\n",
      "-------------\n",
      "qid: 0\n",
      "pos: 0 0\n",
      "neg: 2 0\n",
      "-------------\n",
      "-------------\n",
      "qid: 0\n",
      "pos: 1 1\n",
      "neg: 0 0\n",
      "-------------\n",
      "-------------\n",
      "bal qid: 0\n",
      "bal pos: 1 1\n",
      "bal neg: 0 0\n",
      "1\n",
      "-1\n",
      "-------------\n",
      "-------------\n",
      "qid: 0\n",
      "pos: 1 1\n",
      "neg: 1 1\n",
      "-------------\n",
      "-------------\n",
      "qid: 0\n",
      "pos: 1 1\n",
      "neg: 2 0\n",
      "-------------\n",
      "-------------\n",
      "bal qid: 0\n",
      "bal pos: 1 1\n",
      "bal neg: 2 0\n",
      "3\n",
      "-1\n",
      "-------------\n",
      "-------------\n",
      "qid: 0\n",
      "pos: 2 0\n",
      "neg: 0 0\n",
      "-------------\n",
      "-------------\n",
      "qid: 0\n",
      "pos: 2 0\n",
      "neg: 1 1\n",
      "-------------\n",
      "-------------\n",
      "qid: 0\n",
      "pos: 2 0\n",
      "neg: 2 0\n",
      "-------------\n",
      "-------------\n",
      "qid: 1\n",
      "pos: 0 0\n",
      "neg: 0 0\n",
      "-------------\n",
      "-------------\n",
      "qid: 1\n",
      "pos: 0 0\n",
      "neg: 1 2\n",
      "-------------\n",
      "-------------\n",
      "qid: 1\n",
      "pos: 1 2\n",
      "neg: 0 0\n",
      "-------------\n",
      "-------------\n",
      "bal qid: 1\n",
      "bal pos: 1 2\n",
      "bal neg: 0 0\n",
      "2\n",
      "1\n",
      "-------------\n",
      "-------------\n",
      "qid: 1\n",
      "pos: 1 2\n",
      "neg: 1 2\n",
      "-------------\n",
      "Epoch 1/5\n",
      "3/3 [==============================] - 0s 103ms/step - loss: 0.7606\n",
      "Epoch 2/5\n",
      "3/3 [==============================] - 0s 579us/step - loss: 0.7585\n",
      "Epoch 3/5\n",
      "3/3 [==============================] - 0s 538us/step - loss: 0.7565\n",
      "Epoch 4/5\n",
      "3/3 [==============================] - 0s 515us/step - loss: 0.7545\n",
      "Epoch 5/5\n",
      "3/3 [==============================] - 0s 566us/step - loss: 0.7522\n",
      "ndcg: 0.5654648767857287\n",
      "ndcg@2: 0.3154648767857287\n"
     ]
    }
   ],
   "source": [
    "import numpy as np\n",
    "\n",
    "# query feature\n",
    "X = np.array([[0.2, 0.3, 0.4],\n",
    "              [0.1, 0.7, 0.4],\n",
    "              [0.3, 0.4, 0.1],\n",
    "              [0.8, 0.4, 0.3],\n",
    "              [0.9, 0.35, 0.25]])\n",
    "y = np.array([0, 1, 0, 0, 2]) # 쿼리의 relevance score (ideal rank : left to right)\n",
    "qid = np.array([1, 1, 1, 2, 2]) # 쿼리 구분\n",
    "\n",
    "# train model\n",
    "ranker = RankNetNN(input_size=X.shape[1], hidden_layer_sizes=(16,8,), activation=('relu', 'relu',), solver='adam')\n",
    "ranker.fit(X, y, qid, epochs=5)\n",
    "y_pred = ranker.predict(X)\n",
    "ranker.evaluate(X, y, qid, eval_at=2)"
   ]
  },
  {
   "cell_type": "code",
   "execution_count": 50,
   "metadata": {},
   "outputs": [
    {
     "name": "stdout",
     "output_type": "stream",
     "text": [
      "[1 2]\n",
      "__---___----\n",
      "[0 3]\n",
      "__---___----\n",
      "[0 0 0 1 1]\n",
      "__---___----\n"
     ]
    }
   ],
   "source": [
    "qid = np.array([1, 1, 1, 2, 2])\n",
    "qid_unique, qid2indices, qid_inverse_indices = np.unique(qid, return_index=True, return_inverse=True)\n",
    "print(qid_unique)\n",
    "print(\"__---___----\")\n",
    "print(qid2indices)\n",
    "print(\"__---___----\")\n",
    "print(qid_inverse_indices)\n",
    "print(\"__---___----\")"
   ]
  },
  {
   "cell_type": "code",
   "execution_count": 51,
   "metadata": {},
   "outputs": [],
   "source": [
    "qid2rel = [[] for _ in range(len(qid_unique))]"
   ]
  },
  {
   "cell_type": "code",
   "execution_count": 52,
   "metadata": {},
   "outputs": [
    {
     "data": {
      "text/plain": [
       "[[], []]"
      ]
     },
     "execution_count": 52,
     "metadata": {},
     "output_type": "execute_result"
    }
   ],
   "source": [
    "qid2rel"
   ]
  },
  {
   "cell_type": "code",
   "execution_count": 54,
   "metadata": {},
   "outputs": [
    {
     "name": "stdout",
     "output_type": "stream",
     "text": [
      "[[], []]\n",
      "[[], []]\n"
     ]
    }
   ],
   "source": [
    "print([qid2rel[i][:2] for i in range(len(qid_unique))])\n",
    "print([sorted(qid2rel[i], reverse=True)[:2] for i in range(len(qid_unique))])"
   ]
  },
  {
   "cell_type": "code",
   "execution_count": 48,
   "metadata": {},
   "outputs": [
    {
     "data": {
      "text/plain": [
       "-1"
      ]
     },
     "execution_count": 48,
     "metadata": {},
     "output_type": "execute_result"
    }
   ],
   "source": [
    "(-1) ** (0 + 1 + 2)"
   ]
  },
  {
   "cell_type": "code",
   "execution_count": 71,
   "metadata": {},
   "outputs": [
    {
     "name": "stdout",
     "output_type": "stream",
     "text": [
      "8\n",
      "8\n"
     ]
    }
   ],
   "source": [
    "print(1 << 3)\n",
    "print(2 ** 3)"
   ]
  },
  {
   "cell_type": "code",
   "execution_count": 72,
   "metadata": {},
   "outputs": [
    {
     "name": "stdout",
     "output_type": "stream",
     "text": [
      "16\n",
      "16\n"
     ]
    }
   ],
   "source": [
    "print(1 << 4)\n",
    "print(2 ** 4)"
   ]
  },
  {
   "cell_type": "code",
   "execution_count": 73,
   "metadata": {},
   "outputs": [
    {
     "name": "stdout",
     "output_type": "stream",
     "text": [
      "4\n",
      "4\n"
     ]
    }
   ],
   "source": [
    "print(1 << 2)\n",
    "print(2 ** 2)"
   ]
  },
  {
   "cell_type": "code",
   "execution_count": 70,
   "metadata": {},
   "outputs": [
    {
     "data": {
      "text/plain": [
       "2"
      ]
     },
     "execution_count": 70,
     "metadata": {},
     "output_type": "execute_result"
    }
   ],
   "source": [
    "1 << 1"
   ]
  },
  {
   "cell_type": "code",
   "execution_count": null,
   "metadata": {},
   "outputs": [],
   "source": []
  }
 ],
 "metadata": {
  "kernelspec": {
   "display_name": "Python 3",
   "language": "python",
   "name": "python3"
  },
  "language_info": {
   "codemirror_mode": {
    "name": "ipython",
    "version": 3
   },
   "file_extension": ".py",
   "mimetype": "text/x-python",
   "name": "python",
   "nbconvert_exporter": "python",
   "pygments_lexer": "ipython3",
   "version": "3.7.4"
  }
 },
 "nbformat": 4,
 "nbformat_minor": 2
}
