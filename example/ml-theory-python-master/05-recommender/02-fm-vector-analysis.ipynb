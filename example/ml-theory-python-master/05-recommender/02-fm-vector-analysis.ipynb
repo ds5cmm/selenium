{
 "cells": [
  {
   "cell_type": "markdown",
   "metadata": {
    "pycharm": {
     "name": "#%% md\n"
    }
   },
   "source": [
    "# Analysis Vector in Factorization Machine\n",
    "----\n",
    "\n",
    "### 1. Train FM model\n"
   ]
  },
  {
   "cell_type": "code",
   "execution_count": 17,
   "metadata": {},
   "outputs": [],
   "source": [
    "# -*- coding: utf-8 -*-\n",
    "%matplotlib inline\n",
    "\n",
    "import pandas as pd\n",
    "import numpy as np\n",
    "import matplotlib.pyplot as plt"
   ]
  },
  {
   "cell_type": "code",
   "execution_count": 3,
   "metadata": {
    "pycharm": {
     "is_executing": false,
     "name": "#%%\n"
    },
    "scrolled": true
   },
   "outputs": [
    {
     "name": "stdout",
     "output_type": "stream",
     "text": [
      "Start to init FM vectors.\n",
      "Finish init FM vectors.\n",
      "epoch: 1 || train_loss: 1804.1051052521334 || valid_loss: 457.5450381978844 || Train AUC: 0.45259619020608804 || Test AUC: 0.47206147424343037\n",
      "epoch: 2 || train_loss: 668.2102310271476 || valid_loss: 168.18904448681212 || Train AUC: 0.7339820854603893 || Test AUC: 0.7208044777535338\n",
      "epoch: 3 || train_loss: 546.5581486031728 || valid_loss: 139.90800082622167 || Train AUC: 0.7794774532047647 || Test AUC: 0.7712740726686274\n",
      "epoch: 4 || train_loss: 491.69883379501306 || valid_loss: 128.61092370304888 || Train AUC: 0.7959030535072792 || Test AUC: 0.7940423109761883\n",
      "epoch: 5 || train_loss: 458.61869703838437 || valid_loss: 122.01367771104306 || Train AUC: 0.809055350727926 || Test AUC: 0.8013471207665306\n",
      "epoch: 6 || train_loss: 436.5948955594991 || valid_loss: 117.72227046763815 || Train AUC: 0.8211086689355265 || Test AUC: 0.8077981216203396\n",
      "epoch: 7 || train_loss: 421.1556019440605 || valid_loss: 114.83105997357883 || Train AUC: 0.8285474569861977 || Test AUC: 0.8132055782183853\n",
      "epoch: 8 || train_loss: 409.83671198994125 || valid_loss: 112.82699056087864 || Train AUC: 0.8343968614104745 || Test AUC: 0.8161464756664453\n",
      "epoch: 9 || train_loss: 401.17144605035253 || valid_loss: 111.39072093879275 || Train AUC: 0.8388223199092455 || Test AUC: 0.8176643582202827\n",
      "epoch: 10 || train_loss: 394.27087400025846 || valid_loss: 110.32206516414101 || Train AUC: 0.8421842503308754 || Test AUC: 0.8179489611991271\n",
      "epoch: 11 || train_loss: 388.58762434701856 || valid_loss: 109.4961840701378 || Train AUC: 0.8466392512762339 || Test AUC: 0.8210795939664168\n",
      "epoch: 12 || train_loss: 383.776133628065 || valid_loss: 108.83533198249097 || Train AUC: 0.8492035356400075 || Test AUC: 0.8243050943933212\n",
      "epoch: 13 || train_loss: 379.6112337167356 || valid_loss: 108.29082868372294 || Train AUC: 0.8517796369824164 || Test AUC: 0.8276254624798407\n",
      "epoch: 14 || train_loss: 375.9411559147238 || valid_loss: 107.83183104379435 || Train AUC: 0.8548343259595386 || Test AUC: 0.8245896973721659\n",
      "epoch: 15 || train_loss: 372.66023831035193 || valid_loss: 107.43846733850859 || Train AUC: 0.8572449896010589 || Test AUC: 0.8243050943933213\n",
      "epoch: 16 || train_loss: 369.6927775750587 || valid_loss: 107.09767517043817 || Train AUC: 0.8588639156740403 || Test AUC: 0.8241153590740917\n",
      "epoch: 17 || train_loss: 366.98320511480506 || valid_loss: 106.800674362965 || Train AUC: 0.8603114955568161 || Test AUC: 0.8223128735414097\n",
      "epoch: 18 || train_loss: 364.4899047539128 || valid_loss: 106.5414161866454 || Train AUC: 0.8612804878048781 || Test AUC: 0.8217436675837207\n",
      "epoch: 19 || train_loss: 362.1811765554379 || valid_loss: 106.31561506644334 || Train AUC: 0.863165295897145 || Test AUC: 0.8220282705625652\n",
      "epoch: 20 || train_loss: 360.0325048935146 || valid_loss: 106.1201313621641 || Train AUC: 0.8647133200983173 || Test AUC: 0.8225026088606393\n",
      "epoch: 21 || train_loss: 358.0246488957726 || valid_loss: 105.95257008407985 || Train AUC: 0.8670767158252979 || Test AUC: 0.8208898586471871\n",
      "epoch: 22 || train_loss: 356.1422730135228 || valid_loss: 105.81101620882403 || Train AUC: 0.869121053129136 || Test AUC: 0.8185181671568162\n",
      "epoch: 23 || train_loss: 354.3729473193336 || valid_loss: 105.693859199067 || Train AUC: 0.8709349593495934 || Test AUC: 0.8188027701356607\n",
      "epoch: 24 || train_loss: 352.7064106026527 || valid_loss: 105.59967753482387 || Train AUC: 0.8729556626961619 || Test AUC: 0.8189925054548903\n",
      "epoch: 25 || train_loss: 351.1340259448738 || valid_loss: 105.52716450661238 || Train AUC: 0.8739955568160334 || Test AUC: 0.8206052556683426\n",
      "epoch: 26 || train_loss: 349.64838005532033 || valid_loss: 105.47508264276969 || Train AUC: 0.8752954244658726 || Test AUC: 0.8214590646048763\n",
      "epoch: 27 || train_loss: 348.242990855527 || valid_loss: 105.44223789023216 || Train AUC: 0.8765362072225373 || Test AUC: 0.820415520349113\n",
      "epoch: 28 || train_loss: 346.91209634723435 || valid_loss: 105.42746711334546 || Train AUC: 0.8771743240688221 || Test AUC: 0.8188976377952757\n",
      "epoch: 29 || train_loss: 345.6505037906047 || valid_loss: 105.42963419143798 || Train AUC: 0.878220126678011 || Test AUC: 0.819751446731809\n",
      "epoch: 30 || train_loss: 344.45348279149124 || valid_loss: 105.44763127581906 || Train AUC: 0.8793722820949139 || Test AUC: 0.8181386965183568\n",
      "Early stop at epoch: 30\n"
     ]
    },
    {
     "data": {
      "text/plain": [
       "0"
      ]
     },
     "execution_count": 3,
     "metadata": {},
     "output_type": "execute_result"
    }
   ],
   "source": [
    "# Dataset : Titanic Dataset\n",
    "from FM import FactorizationMachine\n",
    "fm = FactorizationMachine(k=4,\n",
    "                          lr=0.005,\n",
    "                          l2_reg=True,\n",
    "                          l2_lambda=0.0001,\n",
    "                          epoch=200,\n",
    "                          early_stop_window=3,\n",
    "                          train_data='../dataset/train.txt',\n",
    "                          valid_data='../dataset/test.txt')\n",
    "fm.train()"
   ]
  },
  {
   "cell_type": "markdown",
   "metadata": {
    "pycharm": {
     "is_executing": false,
     "name": "#%% md\n"
    }
   },
   "source": [
    "### 2. Vector index mapping to named-featue"
   ]
  },
  {
   "cell_type": "code",
   "execution_count": 6,
   "metadata": {
    "pycharm": {
     "is_executing": false,
     "name": "#%%\n"
    },
    "scrolled": true
   },
   "outputs": [
    {
     "name": "stdout",
     "output_type": "stream",
     "text": [
      "[[ 1.10050251 -0.38239444  0.91067812  0.55331615]\n",
      " [ 0.00573129 -0.48027542  0.32697313 -0.6778266 ]\n",
      " [ 0.60342298 -0.69912154  1.02728541 -1.12951835]\n",
      " [-0.37942832 -0.34053592 -0.52513848  1.52301207]\n",
      " [-0.0417112   0.1111625   0.09052609  0.13953872]\n",
      " [-0.1253578  -0.39465638 -1.21507345  1.32418379]\n",
      " [-0.79547968  0.23844118 -0.97518877  0.6853466 ]\n",
      " [-0.49875238  0.56337998 -0.6571298   0.8041756 ]\n",
      " [-0.02042607 -0.63565406 -2.23282737  1.04346589]\n",
      " [-0.44202232 -0.497357   -1.83849239  0.32268909]\n",
      " [-1.40642683  1.60721955  0.16508047  0.46968406]\n",
      " [ 0.42757877  0.24315178 -0.54023731 -0.70519662]\n",
      " [-0.07196376 -1.72853498  1.82622318 -1.01385855]\n",
      " [-0.23332159 -0.25820252  0.06161768  0.27818936]\n",
      " [ 0.25080309 -0.19751464  0.49527935  0.28954427]\n",
      " [-0.8641436  -1.53553175 -0.83309021 -0.54710871]\n",
      " [ 0.45263018  1.2335235  -1.00211105  1.13060814]\n",
      " [-0.3265323  -1.68313979  0.31342726 -0.81314439]\n",
      " [-1.31731601 -0.72410214 -0.65780761  0.1214698 ]\n",
      " [-0.40954254 -0.57156196 -0.20000178 -0.56291022]\n",
      " [ 1.33694607 -1.25195557  1.10990746  0.1976764 ]\n",
      " [-0.15420833 -0.15410204  0.09284258 -0.22222751]\n",
      " [ 0.62065851 -0.60094697  0.77473855  0.47836963]\n",
      " [ 0.06944389 -1.40149335  0.78809358 -0.4487126 ]\n",
      " [-0.70590434 -0.36764859  0.03199299  1.49583225]\n",
      " [ 0.5482398  -0.41810091  2.08871308 -0.30110872]\n",
      " [-0.15594636  0.97548619 -0.39401277  2.19099352]\n",
      " [-0.30362785  0.69631174  0.14792883  0.06489337]\n",
      " [-0.74767443  0.13602216  0.68370486  0.25826255]\n",
      " [ 0.53711948  0.99100983  0.25624633  1.13404002]\n",
      " [ 0.92642204  0.23245899  0.33578794 -0.21609104]\n",
      " [-1.60326531  0.19312483  1.0251988   0.21486183]\n",
      " [-0.03774509 -0.60967406 -0.0940766  -0.46454432]\n",
      " [-0.16534043  0.79801453 -0.90628051  1.0265348 ]\n",
      " [ 0.08913771  0.77407155  0.10042605  0.73296302]\n",
      " [-1.48808615 -0.31255722  1.09555662  0.47136094]\n",
      " [ 0.15614759  0.26198258 -0.56242053  0.32882941]]\n",
      "[-0.90593809  1.18106246  0.40183312  2.09711372  0.17212046 -0.63844896\n",
      "  0.7403705   0.39456628  0.39100924  0.74322098  0.83328596 -1.10074391\n",
      " -1.53721934  0.31602061 -0.36163976  0.26579047  0.07857317  0.11642851\n",
      " -0.61852649 -0.67404195 -0.85055913  0.52628725 -1.08181345 -0.18511678\n",
      " -0.09051748 -1.66207749  1.37875589  1.03225838 -0.82489014 -1.01282694\n",
      " -0.79189622 -0.77246953 -0.36191664 -0.63755959 -0.89031174  0.03409891\n",
      "  0.19016425]\n"
     ]
    }
   ],
   "source": [
    "print(fm.v)\n",
    "print(fm.w)"
   ]
  },
  {
   "cell_type": "code",
   "execution_count": 8,
   "metadata": {},
   "outputs": [
    {
     "name": "stdout",
     "output_type": "stream",
     "text": [
      "37\n"
     ]
    }
   ],
   "source": [
    "print(len(fm.w))"
   ]
  },
  {
   "cell_type": "code",
   "execution_count": 28,
   "metadata": {
    "pycharm": {
     "is_executing": false,
     "name": "#%%\n"
    }
   },
   "outputs": [],
   "source": [
    "# sum of dict's value : 37\n",
    "col_len_dict = {'pclass': 3, 'sex': 1, 'age': 9, 'sibsp': 7, 'parch': 7, 'fare': 10}\n",
    "\n",
    "# calculate start index of each feature\n",
    "col_accum_index_dict = {}\n",
    "cumulative = 0\n",
    "for key, value in col_len_dict.items():\n",
    "    col_accum_index_dict[key] = cumulative\n",
    "    cumulative = cumulative + value\n",
    "col_accum_index_dict\n",
    "\n",
    "# get feature list\n",
    "feature_list = []\n",
    "for k, v in col_len_dict.items():\n",
    "    for v in range(0, v):\n",
    "        feature_list.append(k + \" \" + str(v))"
   ]
  },
  {
   "cell_type": "markdown",
   "metadata": {},
   "source": [
    "### W vector : feature importance\n",
    "- analysis of positive, negative effect by showing x feature's coefs"
   ]
  },
  {
   "cell_type": "code",
   "execution_count": 29,
   "metadata": {},
   "outputs": [
    {
     "data": {
      "text/plain": [
       "[Text(0, 0, 'pclass 0'),\n",
       " Text(0, 0, 'pclass 1'),\n",
       " Text(0, 0, 'pclass 2'),\n",
       " Text(0, 0, 'sex 0'),\n",
       " Text(0, 0, 'age 0'),\n",
       " Text(0, 0, 'age 1'),\n",
       " Text(0, 0, 'age 2'),\n",
       " Text(0, 0, 'age 3'),\n",
       " Text(0, 0, 'age 4'),\n",
       " Text(0, 0, 'age 5'),\n",
       " Text(0, 0, 'age 6'),\n",
       " Text(0, 0, 'age 7'),\n",
       " Text(0, 0, 'age 8'),\n",
       " Text(0, 0, 'sibsp 0'),\n",
       " Text(0, 0, 'sibsp 1'),\n",
       " Text(0, 0, 'sibsp 2'),\n",
       " Text(0, 0, 'sibsp 3'),\n",
       " Text(0, 0, 'sibsp 4'),\n",
       " Text(0, 0, 'sibsp 5'),\n",
       " Text(0, 0, 'sibsp 6'),\n",
       " Text(0, 0, 'parch 0'),\n",
       " Text(0, 0, 'parch 1'),\n",
       " Text(0, 0, 'parch 2'),\n",
       " Text(0, 0, 'parch 3'),\n",
       " Text(0, 0, 'parch 4'),\n",
       " Text(0, 0, 'parch 5'),\n",
       " Text(0, 0, 'parch 6'),\n",
       " Text(0, 0, 'fare 0'),\n",
       " Text(0, 0, 'fare 1'),\n",
       " Text(0, 0, 'fare 2'),\n",
       " Text(0, 0, 'fare 3'),\n",
       " Text(0, 0, 'fare 4'),\n",
       " Text(0, 0, 'fare 5'),\n",
       " Text(0, 0, 'fare 6'),\n",
       " Text(0, 0, 'fare 7'),\n",
       " Text(0, 0, 'fare 8'),\n",
       " Text(0, 0, 'fare 9')]"
      ]
     },
     "execution_count": 29,
     "metadata": {},
     "output_type": "execute_result"
    },
    {
     "data": {
      "image/png": "[encoded data removed]",
      "text/plain": [
       "<Figure size 1440x1152 with 1 Axes>"
      ]
     },
     "metadata": {
      "needs_background": "light"
     },
     "output_type": "display_data"
    }
   ],
   "source": [
    "plt.rcParams['figure.figsize'] = [20, 16]\n",
    "coefs = fm.w.tolist()\n",
    "coefs_series = pd.Series(coefs)\n",
    "x_labels = feature_list\n",
    "\n",
    "ax = coefs_series.plot(kind='bar')\n",
    "ax.set_title('feature_coef_graph')\n",
    "ax.set_xlabel('x_features')\n",
    "ax.set_ylabel('coef')\n",
    "ax.set_xticklabels(x_labels)"
   ]
  },
  {
   "cell_type": "markdown",
   "metadata": {},
   "source": [
    "- analysis of abs effect each feature\n",
    "    - step 1: convert w values to absolute\n",
    "    - step 2: group by feature (pclass, sex, age...) and calculate sum of coefs\n",
    "    - step 3: show each groups coefs"
   ]
  },
  {
   "cell_type": "code",
   "execution_count": 43,
   "metadata": {},
   "outputs": [],
   "source": [
    "abs_feature_list = ['pclass', 'sex', 'age', 'sibsp', 'parch', 'fare']"
   ]
  },
  {
   "cell_type": "code",
   "execution_count": 44,
   "metadata": {},
   "outputs": [
    {
     "data": {
      "text/plain": [
       "array([0.90593809, 1.18106246, 0.40183312, 2.09711372, 0.17212046,\n",
       "       0.63844896, 0.7403705 , 0.39456628, 0.39100924, 0.74322098,\n",
       "       0.83328596, 1.10074391, 1.53721934, 0.31602061, 0.36163976,\n",
       "       0.26579047, 0.07857317, 0.11642851, 0.61852649, 0.67404195,\n",
       "       0.85055913, 0.52628725, 1.08181345, 0.18511678, 0.09051748,\n",
       "       1.66207749, 1.37875589, 1.03225838, 0.82489014, 1.01282694,\n",
       "       0.79189622, 0.77246953, 0.36191664, 0.63755959, 0.89031174,\n",
       "       0.03409891, 0.19016425])"
      ]
     },
     "execution_count": 44,
     "metadata": {},
     "output_type": "execute_result"
    }
   ],
   "source": [
    "np.abs(fm.w)"
   ]
  },
  {
   "cell_type": "code",
   "execution_count": 49,
   "metadata": {},
   "outputs": [],
   "source": [
    "abs_feature_value_list = []\n",
    "for start_index, length in zip([*col_accum_index_dict.values()], [*col_len_dict.values()]):\n",
    "    abs_feature_value_list.append(np.sum(np.abs(fm.w)[start_index:start_index+length]))"
   ]
  },
  {
   "cell_type": "code",
   "execution_count": 51,
   "metadata": {},
   "outputs": [
    {
     "data": {
      "text/plain": [
       "[Text(0, 0, 'pclass'),\n",
       " Text(0, 0, 'sex'),\n",
       " Text(0, 0, 'age'),\n",
       " Text(0, 0, 'sibsp'),\n",
       " Text(0, 0, 'parch'),\n",
       " Text(0, 0, 'fare')]"
      ]
     },
     "execution_count": 51,
     "metadata": {},
     "output_type": "execute_result"
    },
    {
     "data": {
      "image/png": "[encoded data removed]",
      "text/plain": [
       "<Figure size 1440x1152 with 1 Axes>"
      ]
     },
     "metadata": {
      "needs_background": "light"
     },
     "output_type": "display_data"
    }
   ],
   "source": [
    "plt.rcParams['figure.figsize'] = [20, 16]\n",
    "coefs = abs_feature_value_list\n",
    "coefs_series = pd.Series(coefs)\n",
    "x_labels = abs_feature_list\n",
    "\n",
    "ax = coefs_series.plot(kind='bar')\n",
    "ax.set_title('feature_coef_graph')\n",
    "ax.set_xlabel('x_features')\n",
    "ax.set_ylabel('coef')\n",
    "ax.set_xticklabels(x_labels)"
   ]
  },
  {
   "cell_type": "markdown",
   "metadata": {},
   "source": [
    "### V vector : feature complexity\n",
    "- positive, negative effect by feature factorizing (= role as independent pair-wise latent vector. usually using for cold-start)"
   ]
  },
  {
   "cell_type": "code",
   "execution_count": 35,
   "metadata": {},
   "outputs": [
    {
     "data": {
      "text/plain": [
       "[Text(0, 0, 'pclass 0'),\n",
       " Text(0, 0, 'pclass 1'),\n",
       " Text(0, 0, 'pclass 2'),\n",
       " Text(0, 0, 'sex 0'),\n",
       " Text(0, 0, 'age 0'),\n",
       " Text(0, 0, 'age 1'),\n",
       " Text(0, 0, 'age 2'),\n",
       " Text(0, 0, 'age 3'),\n",
       " Text(0, 0, 'age 4'),\n",
       " Text(0, 0, 'age 5'),\n",
       " Text(0, 0, 'age 6'),\n",
       " Text(0, 0, 'age 7'),\n",
       " Text(0, 0, 'age 8'),\n",
       " Text(0, 0, 'sibsp 0'),\n",
       " Text(0, 0, 'sibsp 1'),\n",
       " Text(0, 0, 'sibsp 2'),\n",
       " Text(0, 0, 'sibsp 3'),\n",
       " Text(0, 0, 'sibsp 4'),\n",
       " Text(0, 0, 'sibsp 5'),\n",
       " Text(0, 0, 'sibsp 6'),\n",
       " Text(0, 0, 'parch 0'),\n",
       " Text(0, 0, 'parch 1'),\n",
       " Text(0, 0, 'parch 2'),\n",
       " Text(0, 0, 'parch 3'),\n",
       " Text(0, 0, 'parch 4'),\n",
       " Text(0, 0, 'parch 5'),\n",
       " Text(0, 0, 'parch 6'),\n",
       " Text(0, 0, 'fare 0'),\n",
       " Text(0, 0, 'fare 1'),\n",
       " Text(0, 0, 'fare 2'),\n",
       " Text(0, 0, 'fare 3'),\n",
       " Text(0, 0, 'fare 4'),\n",
       " Text(0, 0, 'fare 5'),\n",
       " Text(0, 0, 'fare 6'),\n",
       " Text(0, 0, 'fare 7'),\n",
       " Text(0, 0, 'fare 8'),\n",
       " Text(0, 0, 'fare 9')]"
      ]
     },
     "execution_count": 35,
     "metadata": {},
     "output_type": "execute_result"
    },
    {
     "data": {
      "image/png": "[encoded data removed]",
      "text/plain": [
       "<Figure size 1440x1152 with 1 Axes>"
      ]
     },
     "metadata": {
      "needs_background": "light"
     },
     "output_type": "display_data"
    }
   ],
   "source": [
    "plt.rcParams['figure.figsize'] = [20, 16]\n",
    "coefs = np.sum(fm.v, axis=1).tolist()\n",
    "coefs_series = pd.Series(coefs)\n",
    "x_labels = feature_list\n",
    "\n",
    "ax = coefs_series.plot(kind='bar')\n",
    "ax.set_title('feature_coef_graph')\n",
    "ax.set_xlabel('x_features')\n",
    "ax.set_ylabel('coef')\n",
    "ax.set_xticklabels(x_labels)"
   ]
  },
  {
   "cell_type": "markdown",
   "metadata": {},
   "source": [
    "- analysis of feature complexity (affect to train other feature and result of model's equation)\n",
    "    - step 1: convert v values to absolute\n",
    "    - step 2: group by feature (pclass, sex, age...) and calculate sum of coefs\n",
    "    - step 3: show each groups coefs"
   ]
  },
  {
   "cell_type": "code",
   "execution_count": 55,
   "metadata": {},
   "outputs": [
    {
     "data": {
      "text/plain": [
       "array([2.94689122, 1.49080643, 3.45934827, 2.76811479, 0.3829385 ,\n",
       "       3.05927143, 2.69445624, 2.52343776, 3.93237339, 3.10056079,\n",
       "       3.64841091, 1.91616448, 4.64058048, 0.83133115, 1.23314135,\n",
       "       3.77987428, 3.81887287, 3.13624374, 2.82069555, 1.7440165 ,\n",
       "       3.8964855 , 0.62338047, 2.47471366, 2.70774342, 2.60137817,\n",
       "       3.35616252, 3.71643884, 1.21276179, 1.825664  , 2.91841567,\n",
       "       1.71076002, 3.03645077, 1.20604007, 2.89617028, 1.69659834,\n",
       "       3.36756093, 1.30938011])"
      ]
     },
     "execution_count": 55,
     "metadata": {},
     "output_type": "execute_result"
    }
   ],
   "source": [
    "np.sum(np.abs(fm.v), axis=1)"
   ]
  },
  {
   "cell_type": "code",
   "execution_count": 56,
   "metadata": {},
   "outputs": [],
   "source": [
    "abs_feature_value_list = []\n",
    "for start_index, length in zip([*col_accum_index_dict.values()], [*col_len_dict.values()]):\n",
    "    abs_feature_value_list.append(np.sum(np.sum(np.abs(fm.v), axis=1)[start_index:start_index+length]))"
   ]
  },
  {
   "cell_type": "code",
   "execution_count": 57,
   "metadata": {},
   "outputs": [
    {
     "data": {
      "text/plain": [
       "[Text(0, 0, 'pclass'),\n",
       " Text(0, 0, 'sex'),\n",
       " Text(0, 0, 'age'),\n",
       " Text(0, 0, 'sibsp'),\n",
       " Text(0, 0, 'parch'),\n",
       " Text(0, 0, 'fare')]"
      ]
     },
     "execution_count": 57,
     "metadata": {},
     "output_type": "execute_result"
    },
    {
     "data": {
      "image/png": "[encoded data removed]",
      "text/plain": [
       "<Figure size 1440x1152 with 1 Axes>"
      ]
     },
     "metadata": {
      "needs_background": "light"
     },
     "output_type": "display_data"
    }
   ],
   "source": [
    "plt.rcParams['figure.figsize'] = [20, 16]\n",
    "coefs = abs_feature_value_list\n",
    "coefs_series = pd.Series(coefs)\n",
    "x_labels = abs_feature_list\n",
    "\n",
    "ax = coefs_series.plot(kind='bar')\n",
    "ax.set_title('feature_coef_graph')\n",
    "ax.set_xlabel('x_features')\n",
    "ax.set_ylabel('coef')\n",
    "ax.set_xticklabels(x_labels)"
   ]
  }
 ],
 "metadata": {
  "kernelspec": {
   "display_name": "Python 3",
   "language": "python",
   "name": "python3"
  },
  "language_info": {
   "codemirror_mode": {
    "name": "ipython",
    "version": 3
   },
   "file_extension": ".py",
   "mimetype": "text/x-python",
   "name": "python",
   "nbconvert_exporter": "python",
   "pygments_lexer": "ipython3",
   "version": "3.7.3"
  },
  "pycharm": {
   "stem_cell": {
    "cell_type": "raw",
    "metadata": {
     "collapsed": false
    },
    "source": []
   }
  }
 },
 "nbformat": 4,
 "nbformat_minor": 1
}
