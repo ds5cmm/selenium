{
 "cells": [
  {
   "cell_type": "markdown",
   "metadata": {},
   "source": [
    "# Thompson Sampling\n",
    "----\n",
    "\n",
    "### Concept\n",
    "- Thompson Sampling is one of method used in MAB system.\n",
    "- It Estimates the distribution of values instead of directly estimating the expected reward for a case.\n",
    "- Probabilistically, it can be said that the expected reward for the case is made in PDF.\n",
    "- And through this, when selecting the next case, the value is randomly extracted from this distribution and the highest one is selected. And from that reward, iteratively performs the work of updating the distribution of values using Bayes' theorem.\n",
    "- Many recommendation systems already use this. (Netflix, Uber, Naver, Kakao..)\n",
    "- In this chapter, we study about thompson sampling with mab.\n",
    "\n",
    "### Using Beta Distribution\n",
    "\n",
    "$$ Q_t(A) = \\frac{x^{\\alpha-1} (1-x)^{\\beta-1} }{B(\\alpha, \\beta)} $$\n",
    "\n",
    "- Beta distribution can be used in recommendation system.\n",
    "\n",
    "$$ \\alpha = clicked \\, count \\, + \\, 1$$\n",
    "\n",
    "$$ \\beta = impression \\, count \\, - \\, clicked \\, count \\, + \\, 1$$\n",
    "\n",
    "- the below code show distribution of items(in recsys)."
   ]
  },
  {
   "cell_type": "code",
   "execution_count": 3,
   "metadata": {},
   "outputs": [],
   "source": [
    "# This code is from the link below\n",
    "# https://github.com/chris-chris/bandits-baseline/blob/master/beta.py\n",
    "\n",
    "from scipy.stats import beta\n",
    "import matplotlib.pyplot as plt\n",
    "import numpy as np"
   ]
  },
  {
   "cell_type": "code",
   "execution_count": 31,
   "metadata": {},
   "outputs": [
    {
     "data": {
      "text/plain": [
       "[<matplotlib.lines.Line2D at 0x7fa44891ddc0>]"
      ]
     },
     "execution_count": 31,
     "metadata": {},
     "output_type": "execute_result"
    },
    {
     "data": {
      "image/png": "[encoded data removed]",
      "text/plain": [
       "<Figure size 432x288 with 1 Axes>"
      ]
     },
     "metadata": {
      "needs_background": "light"
     },
     "output_type": "display_data"
    }
   ],
   "source": [
    "fig, ax = plt.subplots(1, 1)\n",
    "x = np.linspace(0, 1, 100)\n",
    "\n",
    "# item logs\n",
    "item1 = [10, 100]  # CTR 20%\n",
    "item2 = [20, 100]  # CTR 20%\n",
    "item3 = [40, 100]  # CTR 40%\n",
    "\n",
    "ax.plot(x, beta.pdf(x, item1[0]+1, item1[1]-item1[0]+1), 'r')\n",
    "ax.plot(x, beta.pdf(x, item2[0]+1, item2[1]-item2[0]+1), 'g')\n",
    "ax.plot(x, beta.pdf(x, item3[0]+1, item3[1]-item3[0]+1), 'b')"
   ]
  },
  {
   "cell_type": "code",
   "execution_count": 32,
   "metadata": {},
   "outputs": [
    {
     "name": "stdout",
     "output_type": "stream",
     "text": [
      "[0.10791849]\n",
      "[0.23552932]\n",
      "[0.40851855]\n"
     ]
    }
   ],
   "source": [
    "item1_rvs = beta.rvs(item1[0]+1, item1[1]-item1[0]+1, size=1)\n",
    "item2_rvs = beta.rvs(item2[0]+1, item2[1]-item2[0]+1, size=1)\n",
    "item3_rvs = beta.rvs(item3[0]+1, item3[1]-item3[0]+1, size=1)\n",
    "print(item1_rvs)\n",
    "print(item2_rvs)\n",
    "print(item3_rvs)"
   ]
  },
  {
   "cell_type": "code",
   "execution_count": 33,
   "metadata": {},
   "outputs": [
    {
     "data": {
      "text/plain": [
       "[<matplotlib.lines.Line2D at 0x7fa4589c0e80>]"
      ]
     },
     "execution_count": 33,
     "metadata": {},
     "output_type": "execute_result"
    },
    {
     "data": {
      "image/png": "[encoded data removed]",
      "text/plain": [
       "<Figure size 432x288 with 1 Axes>"
      ]
     },
     "metadata": {
      "needs_background": "light"
     },
     "output_type": "display_data"
    }
   ],
   "source": [
    "fig, ax = plt.subplots(1, 1)\n",
    "x = np.linspace(0, 1, 100)\n",
    "\n",
    "ax.plot(x, beta.pdf(x, item1[0]+1, item1[1]-item1[0]+1), 'r')\n",
    "ax.plot(x, beta.pdf(x, item2[0]+1, item2[1]-item2[0]+1), 'g')\n",
    "ax.plot(x, beta.pdf(x, item3[0]+1, item3[1]-item3[0]+1), 'b')\n",
    "ax.plot(item1_rvs, 0, 'x', color='r')\n",
    "ax.plot(item2_rvs, 0, 'x', color='g')\n",
    "ax.plot(item3_rvs, 0, 'x', color='b')"
   ]
  },
  {
   "cell_type": "markdown",
   "metadata": {},
   "source": [
    "----\n",
    "\n",
    "### In Recommender System\n",
    "- In greedy MAB or UCB MAB system, the winner is item 3. Because it has the highest CTR empirically.\n",
    "- But in Thompson sampling, result of sampling is the action.\n",
    "- In this situation, item 2 or item 1 could be the winner because the distribution has not yet converged.\n",
    "- If the winner in this round is item 2, and next impression item is also item 2.\n",
    "- As a result of this exposure, the alpha and beta are updated again and the above process is repeated over and over again.\n",
    "- Accordingly, the distribution of each item is naturally determined.\n",
    "- And the exposure probability of the item is determined according to the distribution."
   ]
  },
  {
   "cell_type": "code",
   "execution_count": 50,
   "metadata": {
    "collapsed": false,
    "jupyter": {
     "outputs_hidden": false
    },
    "pycharm": {
     "name": "#%%\n"
    }
   },
   "outputs": [],
   "source": [
    "import random\n",
    "\n",
    "item1 = [10, 100]\n",
    "item2 = [20, 100]\n",
    "item3 = [40, 100]\n",
    "item_list = [item1, item2, item3]\n",
    "\n",
    "for i in range(1000):\n",
    "    # 베타 분포 기반 샘플링 : 가장 샘플링 값이 큰 item 선택\n",
    "    item1_rvs = beta.rvs(item_list[0][0]+1, item_list[0][1]-item_list[0][0]+1, size=1)\n",
    "    item2_rvs = beta.rvs(item_list[1][0]+1, item_list[1][1]-item_list[1][0]+1, size=1)\n",
    "    item3_rvs = beta.rvs(item_list[2][0]+1, item_list[2][1]-item_list[2][0]+1, size=1)\n",
    "    rvs_list = [item1_rvs, item2_rvs, item3_rvs]\n",
    "    max_result_item_index = rvs_list.index(max(rvs_list))\n",
    "\n",
    "    # 현재까지의 CTR을 확률로 하여 조회 여부를 시뮬레이션\n",
    "    exposure_item = item_list[max_result_item_index]\n",
    "    prob_by_ctr = exposure_item[0] / exposure_item[1]\n",
    "    is_click = random.choices(\n",
    "        population = [True, False],\n",
    "        weights = [prob_by_ctr, 1-prob_by_ctr]\n",
    "    )\n",
    "    \n",
    "    # 시뮬레이션 결과에 따라 item status 업데이트\n",
    "    if is_click[0]:  # click count ++\n",
    "        item_list[max_result_item_index][0] += 1\n",
    "    item_list[max_result_item_index][1] += 1  # impression(exposure) count ++"
   ]
  },
  {
   "cell_type": "code",
   "execution_count": 51,
   "metadata": {},
   "outputs": [
    {
     "name": "stdout",
     "output_type": "stream",
     "text": [
      "[[10, 100], [20, 100], [411, 1100]]\n"
     ]
    }
   ],
   "source": [
    "print(item_list)"
   ]
  },
  {
   "cell_type": "code",
   "execution_count": 52,
   "metadata": {},
   "outputs": [
    {
     "data": {
      "text/plain": [
       "[<matplotlib.lines.Line2D at 0x7fa42871b6a0>]"
      ]
     },
     "execution_count": 52,
     "metadata": {},
     "output_type": "execute_result"
    },
    {
     "data": {
      "image/png": "[encoded data removed]",
      "text/plain": [
       "<Figure size 432x288 with 1 Axes>"
      ]
     },
     "metadata": {
      "needs_background": "light"
     },
     "output_type": "display_data"
    }
   ],
   "source": [
    "fig, ax = plt.subplots(1, 1)\n",
    "x = np.linspace(0, 1, 100)\n",
    "ax.plot(x, beta.pdf(x, item_list[0][0]+1, item_list[0][1]-item_list[0][0]+1), 'r')\n",
    "ax.plot(x, beta.pdf(x, item_list[1][0]+1, item_list[1][1]-item_list[1][0]+1), 'g')\n",
    "ax.plot(x, beta.pdf(x, item_list[2][0]+1, item_list[2][1]-item_list[2][0]+1), 'b')"
   ]
  },
  {
   "cell_type": "markdown",
   "metadata": {},
   "source": [
    "----\n",
    "\n",
    "### Regret in MAB\n",
    "- regret is a concept of loss\n",
    "- it can be said that the reward in the most ideal situation minus the reward when the action was taken according to the current policy.\n",
    "- In Summary, it can be defined like this. $ REGRET \\, = \\, (Ideal \\, reward) - (Current \\, reward \\, based \\, on \\, current \\, policy) $\n",
    "- But in real world, we couldn't know about the ideal reward. So, we have to calculate the expectation belongs.\n",
    "\n",
    "$$ Regret = E(\\sum_{t=1}^{T}( \\mu_t^* - \\mu_t) ) $$\n",
    "\n",
    "- And there are some notations\n",
    "\n",
    "$$ \\mu_t^* \\, : \\, ideal \\, reward \\, in \\, time \\, t $$\n",
    "$$ \\mu_t \\, : \\, expected \\, reward \\, in \\, time \\, t $$\n",
    "$$ \\Delta_i : = \\, \\mu^* \\, - \\, \\mu_i $$\n",
    "\n",
    "- Also, let $ k_i(t) $ denote the number of times arm $i$ has been played up to step $t$ − 1\n",
    "\n",
    "$$ Regret = E(\\sum_{t=1}^{T}( \\mu_t^* - \\mu_t) ) = (\\sum_{i} \\Delta_i E[k_i(T+1)] $$"
   ]
  },
  {
   "cell_type": "markdown",
   "metadata": {},
   "source": [
    "----\n",
    "\n",
    "### Regret Bounds for Thompson Sampling\n",
    "- In TS-MAB problem, for arm $i$ the probability of success (reward =1) is $\\mu_i$ [0~1]\n",
    "- So, $\\mu_{i(t)}$ is CTR in recommender system's expected reward (time $t$ when play arm $i$)\n",
    "- Ideal reward is most higher CTR(item $i$'s) in time $t$\n",
    "- Expected reward is expected CTR based on beta distribution in time $t-1$\n"
   ]
  },
  {
   "cell_type": "code",
   "execution_count": null,
   "metadata": {},
   "outputs": [],
   "source": [
    "# pseudocode\n",
    "regret_in_t = 0\n",
    "for expected_reward_in_t-1 in arms:\n",
    "    regret_ratio = ideal_reward_in_t - expected_reward_in_t-1\n",
    "    regret_in_t += regret_ratio * (arm's expected play count in t, or real play count in t)\n",
    "normalized_regret_in_t = regret_in_t / (whole play count)"
   ]
  },
  {
   "cell_type": "markdown",
   "metadata": {},
   "source": [
    "----\n",
    "- https://arxiv.org/pdf/1209.3353.pdf\n",
    "- https://www.cs.umd.edu/~slivkins/CMSC858G-fall16/Lecture%205.pdf"
   ]
  }
 ],
 "metadata": {
  "kernelspec": {
   "display_name": "Python 3",
   "language": "python",
   "name": "python3"
  },
  "language_info": {
   "codemirror_mode": {
    "name": "ipython",
    "version": 3
   },
   "file_extension": ".py",
   "mimetype": "text/x-python",
   "name": "python",
   "nbconvert_exporter": "python",
   "pygments_lexer": "ipython3",
   "version": "3.8.5"
  }
 },
 "nbformat": 4,
 "nbformat_minor": 4
}
