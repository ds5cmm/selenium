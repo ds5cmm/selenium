{
 "cells": [
  {
   "cell_type": "markdown",
   "metadata": {
    "collapsed": true,
    "pycharm": {
     "name": "#%% md\n"
    }
   },
   "source": [
    "# 1. linear regression"
   ]
  },
  {
   "cell_type": "code",
   "execution_count": 1,
   "metadata": {
    "pycharm": {
     "is_executing": false,
     "name": "#%%\n"
    }
   },
   "outputs": [],
   "source": [
    "# note from : https://github.com/yunjey/pytorch-tutorial/blob/master/tutorials/01-basics/pytorch_basics/main.py\n",
    "\n",
    "import torch\n",
    "import torch.nn as nn\n",
    "import torch.nn.functional as F\n",
    "import numpy as np\n",
    "import matplotlib.pyplot as plt\n",
    "from sklearn.metrics import roc_auc_score"
   ]
  },
  {
   "cell_type": "code",
   "execution_count": 2,
   "metadata": {
    "pycharm": {
     "is_executing": false,
     "name": "#%%\n"
    }
   },
   "outputs": [],
   "source": [
    "x_train = np.array([[3.3], [4.4], [5.5], [6.71], [6.93], [4.168], \n",
    "                    [9.779], [6.182], [7.59], [2.167], [7.042], \n",
    "                    [10.791], [5.313], [7.997], [3.1]], dtype=np.float32)\n",
    "\n",
    "y_train = np.array([[1.7], [2.76], [2.09], [3.19], [1.694], [1.573], \n",
    "                    [3.366], [2.596], [2.53], [1.221], [2.827], \n",
    "                    [3.465], [1.65], [2.904], [1.3]], dtype=np.float32)"
   ]
  },
  {
   "cell_type": "code",
   "execution_count": 3,
   "metadata": {
    "pycharm": {
     "is_executing": false,
     "name": "#%%\n"
    }
   },
   "outputs": [],
   "source": [
    "# define model\n",
    "model = nn.Linear(1, 1)"
   ]
  },
  {
   "cell_type": "code",
   "execution_count": 4,
   "metadata": {
    "pycharm": {
     "is_executing": false,
     "name": "#%%\n"
    }
   },
   "outputs": [],
   "source": [
    "# define loss function & optimizer\n",
    "criterion = nn.MSELoss()\n",
    "optimizer = torch.optim.SGD(model.parameters(), lr=0.01)  "
   ]
  },
  {
   "cell_type": "code",
   "execution_count": 5,
   "metadata": {
    "pycharm": {
     "is_executing": false,
     "name": "#%%\n"
    }
   },
   "outputs": [
    {
     "name": "stdout",
     "text": [
      "Epoch [5/10], Loss: 0.2476\nEpoch [10/10], Loss: 0.2456\nEpoch [15/10], Loss: 0.2437\nEpoch [20/10], Loss: 0.2418\nEpoch [25/10], Loss: 0.2399\nEpoch [30/10], Loss: 0.2381\nEpoch [35/10], Loss: 0.2363\nEpoch [40/10], Loss: 0.2346\nEpoch [45/10], Loss: 0.2330\nEpoch [50/10], Loss: 0.2313\nEpoch [55/10], Loss: 0.2298\nEpoch [60/10], Loss: 0.2282\nEpoch [65/10], Loss: 0.2267\nEpoch [70/10], Loss: 0.2252\nEpoch [75/10], Loss: 0.2238\nEpoch [80/10], Loss: 0.2224\nEpoch [85/10], Loss: 0.2211\nEpoch [90/10], Loss: 0.2197\nEpoch [95/10], Loss: 0.2184\nEpoch [100/10], Loss: 0.2172\nEpoch [105/10], Loss: 0.2160\nEpoch [110/10], Loss: 0.2148\nEpoch [115/10], Loss: 0.2136\nEpoch [120/10], Loss: 0.2125\nEpoch [125/10], Loss: 0.2114\nEpoch [130/10], Loss: 0.2103\nEpoch [135/10], Loss: 0.2092\nEpoch [140/10], Loss: 0.2082\nEpoch [145/10], Loss: 0.2072\nEpoch [150/10], Loss: 0.2062\nEpoch [155/10], Loss: 0.2053\nEpoch [160/10], Loss: 0.2044\nEpoch [165/10], Loss: 0.2035\nEpoch [170/10], Loss: 0.2026\nEpoch [175/10], Loss: 0.2017\nEpoch [180/10], Loss: 0.2009\nEpoch [185/10], Loss: 0.2001\nEpoch [190/10], Loss: 0.1993\nEpoch [195/10], Loss: 0.1985\nEpoch [200/10], Loss: 0.1978\nEpoch [205/10], Loss: 0.1970\nEpoch [210/10], Loss: 0.1963\nEpoch [215/10], Loss: 0.1956\nEpoch [220/10], Loss: 0.1950\nEpoch [225/10], Loss: 0.1943\nEpoch [230/10], Loss: 0.1937\nEpoch [235/10], Loss: 0.1930\nEpoch [240/10], Loss: 0.1924\nEpoch [245/10], Loss: 0.1918\nEpoch [250/10], Loss: 0.1912\nEpoch [255/10], Loss: 0.1907\nEpoch [260/10], Loss: 0.1901\nEpoch [265/10], Loss: 0.1896\nEpoch [270/10], Loss: 0.1891\nEpoch [275/10], Loss: 0.1885\nEpoch [280/10], Loss: 0.1880\nEpoch [285/10], Loss: 0.1876\nEpoch [290/10], Loss: 0.1871\nEpoch [295/10], Loss: 0.1866\nEpoch [300/10], Loss: 0.1862\nEpoch [305/10], Loss: 0.1857\nEpoch [310/10], Loss: 0.1853\nEpoch [315/10], Loss: 0.1849\nEpoch [320/10], Loss: 0.1845\nEpoch [325/10], Loss: 0.1841\nEpoch [330/10], Loss: 0.1837\nEpoch [335/10], Loss: 0.1833\nEpoch [340/10], Loss: 0.1830\nEpoch [345/10], Loss: 0.1826\nEpoch [350/10], Loss: 0.1823\nEpoch [355/10], Loss: 0.1819\nEpoch [360/10], Loss: 0.1816\nEpoch [365/10], Loss: 0.1813\nEpoch [370/10], Loss: 0.1810\nEpoch [375/10], Loss: 0.1806\nEpoch [380/10], Loss: 0.1804\nEpoch [385/10], Loss: 0.1801\nEpoch [390/10], Loss: 0.1798\nEpoch [395/10], Loss: 0.1795\nEpoch [400/10], Loss: 0.1792\nEpoch [405/10], Loss: 0.1790\nEpoch [410/10], Loss: 0.1787\nEpoch [415/10], Loss: 0.1785\nEpoch [420/10], Loss: 0.1782\nEpoch [425/10], Loss: 0.1780\nEpoch [430/10], Loss: 0.1778\nEpoch [435/10], Loss: 0.1775\nEpoch [440/10], Loss: 0.1773\nEpoch [445/10], Loss: 0.1771\nEpoch [450/10], Loss: 0.1769\nEpoch [455/10], Loss: 0.1767\nEpoch [460/10], Loss: 0.1765\nEpoch [465/10], Loss: 0.1763\nEpoch [470/10], Loss: 0.1761\nEpoch [475/10], Loss: 0.1759\nEpoch [480/10], Loss: 0.1758\nEpoch [485/10], Loss: 0.1756\nEpoch [490/10], Loss: 0.1754\nEpoch [495/10], Loss: 0.1752\nEpoch [500/10], Loss: 0.1751\n"
     ],
     "output_type": "stream"
    }
   ],
   "source": [
    "# Train the model\n",
    "for epoch in range(500):\n",
    "    # Convert numpy arrays to torch tensors\n",
    "    inputs = torch.from_numpy(x_train)\n",
    "    targets = torch.from_numpy(y_train)\n",
    "\n",
    "    # Forward pass\n",
    "    outputs = model(inputs)\n",
    "    loss = criterion(outputs, targets)\n",
    "    \n",
    "    # Backward and optimize\n",
    "    optimizer.zero_grad()\n",
    "    loss.backward()\n",
    "    optimizer.step()\n",
    "    \n",
    "    if (epoch+1) % 5 == 0:\n",
    "        print ('Epoch [{}/{}], Loss: {:.4f}'.format(epoch+1, 10, loss.item()))"
   ]
  },
  {
   "cell_type": "code",
   "execution_count": 6,
   "metadata": {
    "pycharm": {
     "is_executing": false,
     "name": "#%%\n"
    }
   },
   "outputs": [
    {
     "data": {
      "text/plain": "<Figure size 432x288 with 1 Axes>",
      "image/png": "[encoded data removed]"
     },
     "metadata": {
      "needs_background": "light"
     },
     "output_type": "display_data"
    }
   ],
   "source": [
    "# Plot the graph\n",
    "predicted = model(torch.from_numpy(x_train)).detach().numpy()\n",
    "plt.plot(x_train, y_train, 'ro', label='Original data')\n",
    "plt.plot(x_train, predicted, label='Fitted line')\n",
    "plt.legend()\n",
    "plt.show()"
   ]
  }
 ],
 "metadata": {
  "kernelspec": {
   "display_name": "Python 3",
   "language": "python",
   "name": "python3"
  },
  "language_info": {
   "codemirror_mode": {
    "name": "ipython",
    "version": 3
   },
   "file_extension": ".py",
   "mimetype": "text/x-python",
   "name": "python",
   "nbconvert_exporter": "python",
   "pygments_lexer": "ipython3",
   "version": "3.7.7"
  },
  "pycharm": {
   "stem_cell": {
    "cell_type": "raw",
    "source": [],
    "metadata": {
     "collapsed": false
    }
   }
  }
 },
 "nbformat": 4,
 "nbformat_minor": 1
}