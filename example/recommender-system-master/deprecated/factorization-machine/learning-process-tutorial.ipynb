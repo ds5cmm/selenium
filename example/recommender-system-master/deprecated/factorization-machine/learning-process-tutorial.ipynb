{
 "cells": [
  {
   "cell_type": "code",
   "execution_count": 1,
   "metadata": {},
   "outputs": [],
   "source": [
    "import numpy as np\n",
    "import xlearn as xl\n",
    "from sklearn.datasets import load_wine\n",
    "from sklearn.preprocessing import StandardScaler\n",
    "from sklearn.model_selection import train_test_split\n",
    "\n",
    "# Load dataset\n",
    "wine_data = load_wine()\n",
    "X = wine_data['data']\n",
    "y = (wine_data['target'] == 1)"
   ]
  },
  {
   "cell_type": "code",
   "execution_count": 2,
   "metadata": {},
   "outputs": [
    {
     "name": "stdout",
     "output_type": "stream",
     "text": [
      "13\n"
     ]
    }
   ],
   "source": [
    "print(len(X[0]))"
   ]
  },
  {
   "cell_type": "code",
   "execution_count": 3,
   "metadata": {},
   "outputs": [
    {
     "name": "stdout",
     "output_type": "stream",
     "text": [
      "[[1.423e+01 1.710e+00 2.430e+00 ... 1.040e+00 3.920e+00 1.065e+03]\n",
      " [1.320e+01 1.780e+00 2.140e+00 ... 1.050e+00 3.400e+00 1.050e+03]\n",
      " [1.316e+01 2.360e+00 2.670e+00 ... 1.030e+00 3.170e+00 1.185e+03]\n",
      " ...\n",
      " [1.327e+01 4.280e+00 2.260e+00 ... 5.900e-01 1.560e+00 8.350e+02]\n",
      " [1.317e+01 2.590e+00 2.370e+00 ... 6.000e-01 1.620e+00 8.400e+02]\n",
      " [1.413e+01 4.100e+00 2.740e+00 ... 6.100e-01 1.600e+00 5.600e+02]]\n"
     ]
    }
   ],
   "source": [
    "print(X)"
   ]
  },
  {
   "cell_type": "code",
   "execution_count": 4,
   "metadata": {},
   "outputs": [],
   "source": [
    "X_train, X_val, y_train, y_val = train_test_split(X, y, test_size=0.2, random_state=0)"
   ]
  },
  {
   "cell_type": "code",
   "execution_count": 5,
   "metadata": {},
   "outputs": [
    {
     "name": "stdout",
     "output_type": "stream",
     "text": [
      "[[1.369e+01 3.260e+00 2.540e+00 ... 9.600e-01 1.820e+00 6.800e+02]\n",
      " [1.269e+01 1.530e+00 2.260e+00 ... 9.600e-01 2.060e+00 4.950e+02]\n",
      " [1.162e+01 1.990e+00 2.280e+00 ... 1.160e+00 2.960e+00 3.450e+02]\n",
      " ...\n",
      " [1.242e+01 1.610e+00 2.190e+00 ... 1.060e+00 2.960e+00 3.450e+02]\n",
      " [1.390e+01 1.680e+00 2.120e+00 ... 9.100e-01 3.330e+00 9.850e+02]\n",
      " [1.416e+01 2.510e+00 2.480e+00 ... 6.200e-01 1.710e+00 6.600e+02]]\n"
     ]
    }
   ],
   "source": [
    "print(X_train)"
   ]
  },
  {
   "cell_type": "code",
   "execution_count": 6,
   "metadata": {},
   "outputs": [],
   "source": [
    "# Standardize input\n",
    "scaler = StandardScaler()\n",
    "X_train = scaler.fit_transform(X_train)\n",
    "X_val = scaler.transform(X_val)"
   ]
  },
  {
   "cell_type": "code",
   "execution_count": 7,
   "metadata": {},
   "outputs": [
    {
     "name": "stdout",
     "output_type": "stream",
     "text": [
      "[[ 0.87668336  0.79842885  0.64412971 ...  0.0290166  -1.06412236\n",
      "  -0.2059076 ]\n",
      " [-0.36659076 -0.7581304  -0.39779858 ...  0.0290166  -0.73083231\n",
      "  -0.81704676]\n",
      " [-1.69689407 -0.34424759 -0.32337513 ...  0.90197362  0.51900537\n",
      "  -1.31256499]\n",
      " ...\n",
      " [-0.70227477 -0.68615078 -0.65828065 ...  0.46549511  0.51900537\n",
      "  -1.31256499]\n",
      " [ 1.13777093 -0.62316862 -0.91876272 ... -0.18922266  1.03282752\n",
      "   0.80164614]\n",
      " [ 1.4610222   0.12361993  0.42085937 ... -1.45501034 -1.2168803\n",
      "  -0.2719767 ]]\n"
     ]
    }
   ],
   "source": [
    "print(X_train)"
   ]
  },
  {
   "cell_type": "code",
   "execution_count": 8,
   "metadata": {},
   "outputs": [],
   "source": [
    "fm_model = xl.FMModel(task='binary', \n",
    "                      init=0.1, \n",
    "                      epoch=10, \n",
    "                      k=4, \n",
    "                      lr=0.1, \n",
    "                      reg_lambda=0.01, \n",
    "                      opt='sgd', \n",
    "                      metric='acc')\n",
    "# Start to train\n",
    "fm_model.fit(X_train, \n",
    "             y_train, \n",
    "             eval_set=[X_val, y_val])\n",
    "\n",
    "# Generate predictions\n",
    "y_pred = fm_model.predict(X_val)"
   ]
  },
  {
   "cell_type": "code",
   "execution_count": 46,
   "metadata": {},
   "outputs": [
    {
     "name": "stdout",
     "output_type": "stream",
     "text": [
      "[      nan -0.739658]\n",
      "[     nan -2.25234]\n",
      "[     nan -1.07685]\n",
      "[     nan -1.23442]\n",
      "[    nan 0.83808]\n",
      "[      nan -0.457781]\n",
      "[      nan -0.137631]\n",
      "[      nan 0.0763631]\n",
      "[       nan 0.00716593]\n",
      "[     nan 0.569307]\n",
      "[     nan -2.19128]\n",
      "[    nan 1.13712]\n",
      "[     nan 0.473284]\n",
      "[     nan -2.05791]\n"
     ]
    }
   ],
   "source": [
    "for bias in fm_model.weights[0]:\n",
    "    print(bias)"
   ]
  },
  {
   "cell_type": "code",
   "execution_count": 45,
   "metadata": {},
   "outputs": [
    {
     "name": "stdout",
     "output_type": "stream",
     "text": [
      "['nan', '0.00', '0.00', '0.01', '0.01']\n",
      "['nan', '0.01', '0.01', '0.01', '0.01']\n",
      "['nan', '0.00', '0.01', '0.00', '0.01']\n",
      "['nan', '0.01', '0.01', '0.01', '0.01']\n",
      "['nan', '0.01', '0.01', '0.01', '0.01']\n",
      "['nan', '0.00', '0.00', '0.01', '0.01']\n",
      "['nan', '0.01', '0.01', '0.00', '0.01']\n",
      "['nan', '0.01', '0.01', '0.01', '0.01']\n",
      "['nan', '0.00', '0.01', '0.00', '0.01']\n",
      "['nan', '0.01', '0.01', '0.01', '0.00']\n",
      "['nan', '0.01', '0.00', '0.01', '0.01']\n",
      "['nan', '0.00', '0.01', '-0.00', '-0.00']\n",
      "['nan', '0.00', '0.01', '0.00', '0.00']\n"
     ]
    }
   ],
   "source": [
    "for column_w in fm_model.weights[1]:\n",
    "    print([\"{0:0.2f}\".format(i) for i in column_w])"
   ]
  },
  {
   "cell_type": "code",
   "execution_count": null,
   "metadata": {},
   "outputs": [],
   "source": []
  }
 ],
 "metadata": {
  "kernelspec": {
   "display_name": "Python 3",
   "language": "python",
   "name": "python3"
  },
  "language_info": {
   "codemirror_mode": {
    "name": "ipython",
    "version": 3
   },
   "file_extension": ".py",
   "mimetype": "text/x-python",
   "name": "python",
   "nbconvert_exporter": "python",
   "pygments_lexer": "ipython3",
   "version": "3.6.6"
  }
 },
 "nbformat": 4,
 "nbformat_minor": 2
}
