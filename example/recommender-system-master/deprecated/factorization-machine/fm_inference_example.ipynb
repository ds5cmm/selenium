{
 "cells": [
  {
   "cell_type": "code",
   "execution_count": 1,
   "metadata": {},
   "outputs": [],
   "source": [
    "import numpy as np\n",
    "\n",
    "b = 0.3 # global bias\n",
    "w = np.array([0.001, 0.02, 0.009, -0.001]) # feature bias\n",
    "v = np.array([[0.00516, 0.0212581, 0.150338, 0.22903], # feature vectors\n",
    "              [0.241989, 0.0474224, 0.128744, 0.0995021], \n",
    "              [0.0657265, 0.1858, 0.0223, 0.140097], \n",
    "              [0.145557, 0.202392, 0.14798, 0.127928]])\n",
    "\n",
    "# inference FM model\n",
    "def inference(data):\n",
    "    num_data = len(data)\n",
    "    scores = np.zeros(num_data)\n",
    "    for n in range(num_data):\n",
    "        feat_idx = data[n][0]\n",
    "        val = np.array(data[n][1])\n",
    "        \n",
    "        # feature bias score (linear score)\n",
    "        linear_feature_score = np.sum(w[feat_idx] * val)\n",
    "        \n",
    "        # cross score\n",
    "        vx = v[feat_idx] * (val.reshape(-1, 1))\n",
    "        s = np.sum(vx, axis=0)\n",
    "        cross_feature_score = 0.5 * np.sum((s - vx) * vx)\n",
    "        \n",
    "        # sum two score\n",
    "        scores[n] = b + linear_feature_score + cross_feature_score\n",
    "\n",
    "    # sigmoid transformation\n",
    "    scores = 1.0 / (1.0 + np.exp(-scores))\n",
    "    return scores"
   ]
  },
  {
   "cell_type": "code",
   "execution_count": 2,
   "metadata": {},
   "outputs": [
    {
     "data": {
      "text/plain": [
       "array([0.60569743, 0.57664115, 0.6571416 ])"
      ]
     },
     "execution_count": 2,
     "metadata": {},
     "output_type": "execute_result"
    }
   ],
   "source": [
    "data = [[[0, 1, 3],\n",
    "         [0.33, 1, 1]],\n",
    "        [[2],\n",
    "         [1]],\n",
    "        [[0, 1, 2, 3], # feature index \n",
    "         [0.96, 1, 1, 1]]] # feature value\n",
    "\n",
    "inference(data)"
   ]
  },
  {
   "cell_type": "markdown",
   "metadata": {},
   "source": [
    "-----"
   ]
  },
  {
   "cell_type": "markdown",
   "metadata": {},
   "source": [
    "### cross_feature_score in original paper"
   ]
  },
  {
   "cell_type": "markdown",
   "metadata": {},
   "source": [
    "![cross_feature_score 원래 수식](original.png)"
   ]
  },
  {
   "cell_type": "markdown",
   "metadata": {},
   "source": [
    "### cross_feature_score in numpy"
   ]
  },
  {
   "cell_type": "markdown",
   "metadata": {},
   "source": [
    "![cross_feature_score 수식 유도과정](induced.png)"
   ]
  },
  {
   "cell_type": "code",
   "execution_count": null,
   "metadata": {},
   "outputs": [],
   "source": []
  }
 ],
 "metadata": {
  "kernelspec": {
   "display_name": "Python 3",
   "language": "python",
   "name": "python3"
  },
  "language_info": {
   "codemirror_mode": {
    "name": "ipython",
    "version": 3
   },
   "file_extension": ".py",
   "mimetype": "text/x-python",
   "name": "python",
   "nbconvert_exporter": "python",
   "pygments_lexer": "ipython3",
   "version": "3.7.2"
  },
  "toc": {
   "base_numbering": 1,
   "nav_menu": {},
   "number_sections": true,
   "sideBar": true,
   "skip_h1_title": false,
   "title_cell": "Table of Contents",
   "title_sidebar": "Contents",
   "toc_cell": false,
   "toc_position": {},
   "toc_section_display": true,
   "toc_window_display": false
  },
  "pycharm": {
   "stem_cell": {
    "cell_type": "raw",
    "source": [],
    "metadata": {
     "collapsed": false
    }
   }
  }
 },
 "nbformat": 4,
 "nbformat_minor": 2
}