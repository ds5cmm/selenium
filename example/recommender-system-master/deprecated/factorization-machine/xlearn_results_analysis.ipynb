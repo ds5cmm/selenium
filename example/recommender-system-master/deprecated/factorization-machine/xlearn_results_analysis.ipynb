{
 "cells": [
  {
   "cell_type": "markdown",
   "metadata": {},
   "source": [
    "# [Quick Practice] \n",
    "-----\n",
    "-----\n",
    "## Post-Analysis Process - Factorization Machine\n",
    "#### Using xlearn python-wrapper module (https://xlearn-doc.readthedocs.io/en/latest/)\n",
    "\n",
    "- Using Titanic dataset. (https://www.kaggle.com/c/titanic)\n",
    "- Original paper (Steffen Rendle, https://www.csie.ntu.edu.tw/~b97053/paper/Rendle2010FM.pdf)\n",
    "- Basic Conceptual Description for FM in korean (http://yamalab.tistory.com/107)"
   ]
  },
  {
   "cell_type": "markdown",
   "metadata": {},
   "source": [
    "-----\n",
    "-----\n",
    "## Step 1 : prepare FM model"
   ]
  },
  {
   "cell_type": "code",
   "execution_count": 2,
   "metadata": {},
   "outputs": [],
   "source": [
    "import pandas as pd\n",
    "import numpy as np\n",
    "from sklearn.model_selection import train_test_split"
   ]
  },
  {
   "cell_type": "code",
   "execution_count": 3,
   "metadata": {},
   "outputs": [],
   "source": [
    "df1_path = \"../dataset/titanic_dataset.csv\"\n",
    "df2_path = \"../dataset/titanic_answer.csv\""
   ]
  },
  {
   "cell_type": "code",
   "execution_count": 4,
   "metadata": {},
   "outputs": [],
   "source": [
    "df1 = pd.read_csv(df1_path)\n",
    "df2 = pd.read_csv(df2_path)\n",
    "df = df1.append(df2)"
   ]
  },
  {
   "cell_type": "code",
   "execution_count": 5,
   "metadata": {},
   "outputs": [],
   "source": [
    "def age_discretize(x):\n",
    "    if x == np.nan:\n",
    "        return '10'\n",
    "    else:\n",
    "        x = int(x)\n",
    "        if x < 10:\n",
    "            return '1'\n",
    "        elif x < 20 and x >= 10:\n",
    "            return '2'\n",
    "        elif x < 30 and x >= 20:\n",
    "            return '3'\n",
    "        elif x < 40 and x >= 30:\n",
    "            return '4'\n",
    "        elif x < 50 and x >= 40:\n",
    "            return '5'\n",
    "        elif x < 60 and x >= 50:\n",
    "            return '6'\n",
    "        elif x < 70 and x >= 60:\n",
    "            return '7'\n",
    "        elif x < 80 and x >= 70:\n",
    "            return '8'\n",
    "        elif x < 90 and x >= 80:\n",
    "            return '9'\n",
    "        else:\n",
    "            return '10'\n",
    "\n",
    "def fare_discretize(x):\n",
    "    if x < 10:\n",
    "        return '1'\n",
    "    elif x < 20 and x >= 10:\n",
    "        return '2'\n",
    "    elif x < 30 and x >= 20:\n",
    "        return '3'\n",
    "    elif x < 40 and x >= 30:\n",
    "        return '4'\n",
    "    elif x < 50 and x >= 40:\n",
    "        return '5'\n",
    "    elif x < 60 and x >= 50:\n",
    "        return '6'\n",
    "    elif x < 70 and x >= 60:\n",
    "        return '7'\n",
    "    elif x < 80 and x >= 70:\n",
    "        return '8'\n",
    "    elif x < 90 and x >= 80:\n",
    "        return '9'\n",
    "    else:\n",
    "        return '10'"
   ]
  },
  {
   "cell_type": "code",
   "execution_count": 6,
   "metadata": {},
   "outputs": [],
   "source": [
    "df = df[['survived', 'pclass', 'sex', 'age', 'sibsp', 'parch', 'fare']]\n",
    "df = df.dropna()\n",
    "\n",
    "df['sex'] = df['sex'].apply(lambda x: '1' if x == \"female\" else '0')\n",
    "df['age'] = df['age'].apply(lambda x: age_discretize(x))\n",
    "df['fare'] = df['fare'].apply(lambda x: fare_discretize(int(x)))\n",
    "\n",
    "df['survived'] = df['survived'].astype('str')\n",
    "df['pclass'] = df['pclass'].astype('str')\n",
    "df['sibsp'] = df['sibsp'].astype('str')\n",
    "df['parch'] = df['parch'].astype('str')"
   ]
  },
  {
   "cell_type": "code",
   "execution_count": 7,
   "metadata": {},
   "outputs": [],
   "source": [
    "# make discretized label to 1~n dict\n",
    "def make_encoding_label_dict(col_unique):\n",
    "    encoded_dict = {}\n",
    "    for idx, unique in enumerate(col_unique):\n",
    "        encoded_dict[unique] = idx + 1\n",
    "\n",
    "    return encoded_dict\n",
    "\n",
    "\n",
    "# get new encoding result\n",
    "def get_newcode(key, label_dict):\n",
    "    com_len = len(label_dict)\n",
    "    if key == np.nan:\n",
    "        return\n",
    "    else:\n",
    "        if key in label_dict:\n",
    "            return label_dict[key]\n",
    "        else:\n",
    "            return com_len + 1"
   ]
  },
  {
   "cell_type": "code",
   "execution_count": 8,
   "metadata": {},
   "outputs": [],
   "source": [
    "encoded_sibsp_dict = make_encoding_label_dict(df.sibsp.value_counts().index.tolist())\n",
    "encoded_parch_dict = make_encoding_label_dict(df.parch.value_counts().index.tolist())"
   ]
  },
  {
   "cell_type": "code",
   "execution_count": 9,
   "metadata": {},
   "outputs": [],
   "source": [
    "df['sibsp'] = df['sibsp'].apply(lambda x: get_newcode(x, encoded_sibsp_dict))\n",
    "df['parch'] = df['parch'].apply(lambda x: get_newcode(x, encoded_parch_dict))"
   ]
  },
  {
   "cell_type": "code",
   "execution_count": 10,
   "metadata": {},
   "outputs": [],
   "source": [
    "col_len_dict = {'pclass': 3, 'sex': 1, 'age': 9, 'sibsp': 7, 'parch': 7, 'fare': 10}\n",
    "col_accum_index_dict = {}\n",
    "cumulative = 0\n",
    "for key, value in col_len_dict.items():\n",
    "    col_accum_index_dict[key] = cumulative\n",
    "    cumulative = cumulative + value\n",
    "\n",
    "train_df, test_df = train_test_split(df, test_size=0.2)"
   ]
  },
  {
   "cell_type": "code",
   "execution_count": 11,
   "metadata": {},
   "outputs": [],
   "source": [
    "txt_file = open('./dataset/train.txt', 'w')\n",
    "for idx, row in train_df.iterrows():\n",
    "    vec = []\n",
    "    label = row['survived']\n",
    "    vec.append(str(label))\n",
    "    row = row.drop(labels=['survived'])\n",
    "    for key, value in row.items():\n",
    "        if col_len_dict[key] == 1:\n",
    "            if value != '0':\n",
    "                col_idx = col_accum_index_dict[key]\n",
    "                out_val = value\n",
    "                vec.append(str(col_idx) + \":\" + str(out_val))\n",
    "        else:\n",
    "            col_idx = col_accum_index_dict[key] + (int(value) - 1)\n",
    "            out_val = 1\n",
    "            vec.append(str(col_idx) + \":\" + str(out_val))\n",
    "    txt_file.write(\"%s\\n\" % \" \".join(vec))\n",
    "txt_file.close()"
   ]
  },
  {
   "cell_type": "code",
   "execution_count": 12,
   "metadata": {},
   "outputs": [],
   "source": [
    "txt_file = open('./dataset/test.txt', 'w')\n",
    "for idx, row in test_df.iterrows():\n",
    "    vec = []\n",
    "    label = row['survived']\n",
    "    vec.append(str(label))\n",
    "    row = row.drop(labels=['survived'])\n",
    "    for key, value in row.items():\n",
    "        if col_len_dict[key] == 1:\n",
    "            if value != '0':\n",
    "                col_idx = col_accum_index_dict[key]\n",
    "                out_val = value\n",
    "                vec.append(str(col_idx) + \":\" + str(out_val))\n",
    "        else:\n",
    "            col_idx = col_accum_index_dict[key] + (int(value) - 1)\n",
    "            out_val = 1\n",
    "            vec.append(str(col_idx) + \":\" + str(out_val))\n",
    "    txt_file.write(\"%s\\n\" % \" \".join(vec))\n",
    "txt_file.close()"
   ]
  },
  {
   "cell_type": "markdown",
   "metadata": {},
   "source": [
    "-----\n",
    "-----\n",
    "## Step 2 : learn FM model"
   ]
  },
  {
   "cell_type": "code",
   "execution_count": 19,
   "metadata": {},
   "outputs": [],
   "source": [
    "import xlearn as xl\n",
    "\n",
    "def runner(param, txt_file='./model.txt', model_type='fm'):\n",
    "    if model_type == \"fm\":\n",
    "        model = xl.create_fm()\n",
    "    else:\n",
    "        model = xl.create_linear()\n",
    "\n",
    "    train_path = './dataset/train.txt'\n",
    "    test_path = './dataset/test.txt'\n",
    "\n",
    "    model.setTrain(train_path)\n",
    "    model.setValidate(test_path)\n",
    "\n",
    "    # Start to train : fit이 seTXTModel 보다 뒤에 있어야만 model.txt가 생성됨.\n",
    "    model.setTXTModel(txt_file)\n",
    "    model.fit(param, './model.out')\n",
    "\n",
    "    # Prediction task\n",
    "    model.setTest(test_path)\n",
    "    model.setSigmoid()\n",
    "\n",
    "    # Start to predict\n",
    "    model.predict(\"./model.out\", \"./output.txt\")"
   ]
  },
  {
   "cell_type": "code",
   "execution_count": 16,
   "metadata": {},
   "outputs": [],
   "source": [
    "# 실험군\n",
    "txt_file = './abnormal.txt'\n",
    "param = {'task':'binary',\n",
    "         'epoch': 3,\n",
    "         'lr': 0.002,\n",
    "         'lambda': 0.1,\n",
    "         'k': 4,\n",
    "         'metric': 'auc', \n",
    "         'opt': 'sgd'}\n",
    "runner(param, txt_file=txt_file, model_type='fm')"
   ]
  },
  {
   "cell_type": "code",
   "execution_count": 17,
   "metadata": {},
   "outputs": [],
   "source": [
    "# 대조군\n",
    "txt_file = './normal.txt'\n",
    "param = {'task':'binary',\n",
    "         'epoch': 15,\n",
    "         'lr': 0.1,\n",
    "         'lambda': 0.002,\n",
    "         'k': 8,\n",
    "         'metric': 'auc',\n",
    "         'opt': 'adagrad'}\n",
    "runner(param, txt_file=txt_file, model_type='fm')"
   ]
  },
  {
   "cell_type": "code",
   "execution_count": 20,
   "metadata": {},
   "outputs": [],
   "source": [
    "# 실험군2\n",
    "txt_file = './normal_lm.txt'\n",
    "param = {'task':'binary',\n",
    "         'epoch': 15,\n",
    "         'lr': 0.1,\n",
    "         'lambda': 0.002,\n",
    "         'k': 8,\n",
    "         'metric': 'auc',\n",
    "         'opt': 'adagrad'}\n",
    "runner(param, txt_file=txt_file, model_type='lm')"
   ]
  },
  {
   "cell_type": "markdown",
   "metadata": {},
   "source": [
    "-----\n",
    "-----\n",
    "## Step 3 : Analyze FM's vectors"
   ]
  },
  {
   "cell_type": "markdown",
   "metadata": {},
   "source": [
    "#### Compare normal params VS abnormal params"
   ]
  },
  {
   "cell_type": "code",
   "execution_count": 21,
   "metadata": {},
   "outputs": [],
   "source": [
    "txt_path = './normal.txt'\n",
    "\n",
    "k = 8\n",
    "w_0 = {}\n",
    "w_i = {}\n",
    "v_ik = {}\n",
    "with open(txt_path, 'r') as my_file:\n",
    "    lines = my_file.readlines()\n",
    "    for line in lines:\n",
    "        cut_line = line.strip().split(':')\n",
    "        if cut_line[0] == 'bias':\n",
    "            w_0[cut_line[0]] = cut_line[1]\n",
    "        elif \"i\" in cut_line[0]:\n",
    "            idx = int(cut_line[0].split('_')[1])\n",
    "            name = \"\"\n",
    "            for key, value in col_accum_index_dict.items():\n",
    "                if idx >= value:\n",
    "                    name = key\n",
    "            w_i[cut_line[0]+\"_\"+name] = cut_line[1]\n",
    "        else:\n",
    "            idx = int(cut_line[0].split('_')[1])\n",
    "            name = \"\"\n",
    "            for key, value in col_accum_index_dict.items():\n",
    "                if idx >= value:\n",
    "                    name = key\n",
    "            v_ik[cut_line[0]+\"_\"+name] = {}\n",
    "            v_k = cut_line[1].strip().split(' ')\n",
    "            for f in range(k):\n",
    "                v_ik[cut_line[0]+\"_\"+name][f] = float(v_k[f])"
   ]
  },
  {
   "cell_type": "code",
   "execution_count": 22,
   "metadata": {},
   "outputs": [],
   "source": [
    "normal_w_0 = w_0\n",
    "normal_w_i = w_i\n",
    "normal_v_ik = v_ik"
   ]
  },
  {
   "cell_type": "code",
   "execution_count": 23,
   "metadata": {},
   "outputs": [],
   "source": [
    "txt_path = './abnormal.txt'\n",
    "\n",
    "k = 4\n",
    "w_0 = {}\n",
    "w_i = {}\n",
    "v_ik = {}\n",
    "with open(txt_path, 'r') as my_file:\n",
    "    lines = my_file.readlines()\n",
    "    for line in lines:\n",
    "        cut_line = line.strip().split(':')\n",
    "        if cut_line[0] == 'bias':\n",
    "            w_0[cut_line[0]] = cut_line[1]\n",
    "        elif \"i\" in cut_line[0]:\n",
    "            idx = int(cut_line[0].split('_')[1])\n",
    "            name = \"\"\n",
    "            for key, value in col_accum_index_dict.items():\n",
    "                if idx >= value:\n",
    "                    name = key\n",
    "            w_i[cut_line[0]+\"_\"+name] = cut_line[1]\n",
    "        else:\n",
    "            idx = int(cut_line[0].split('_')[1])\n",
    "            name = \"\"\n",
    "            for key, value in col_accum_index_dict.items():\n",
    "                if idx >= value:\n",
    "                    name = key\n",
    "            v_ik[cut_line[0]+\"_\"+name] = {}\n",
    "            v_k = cut_line[1].strip().split(' ')\n",
    "            for f in range(k):\n",
    "                v_ik[cut_line[0]+\"_\"+name][f] = float(v_k[f])"
   ]
  },
  {
   "cell_type": "code",
   "execution_count": 24,
   "metadata": {},
   "outputs": [],
   "source": [
    "abnormal_w_0 = w_0\n",
    "abnormal_w_i = w_i\n",
    "abnormal_v_ik = v_ik"
   ]
  },
  {
   "cell_type": "markdown",
   "metadata": {},
   "source": [
    "-----"
   ]
  },
  {
   "cell_type": "code",
   "execution_count": 25,
   "metadata": {},
   "outputs": [
    {
     "data": {
      "text/plain": [
       "{'v_0_pclass': {0: 0.400319,\n",
       "  1: 0.352669,\n",
       "  2: 0.359188,\n",
       "  3: 0.642762,\n",
       "  4: 0.623286,\n",
       "  5: 0.39631,\n",
       "  6: 0.462284,\n",
       "  7: 0.34918},\n",
       " 'v_1_pclass': {0: 0.199432,\n",
       "  1: 0.338064,\n",
       "  2: 0.109668,\n",
       "  3: 0.297776,\n",
       "  4: 0.353532,\n",
       "  5: 0.341881,\n",
       "  6: 0.273858,\n",
       "  7: 0.271847},\n",
       " 'v_2_pclass': {0: -0.180413,\n",
       "  1: -0.134463,\n",
       "  2: -0.146963,\n",
       "  3: -0.235419,\n",
       "  4: -0.280593,\n",
       "  5: -0.220825,\n",
       "  6: -0.172713,\n",
       "  7: -0.18537},\n",
       " 'v_3_sex': {0: 0.825431,\n",
       "  1: 0.733178,\n",
       "  2: 0.566521,\n",
       "  3: 1.04348,\n",
       "  4: 1.09738,\n",
       "  5: 0.794821,\n",
       "  6: 0.795387,\n",
       "  7: 0.615887},\n",
       " 'v_4_age': {0: 0.185203,\n",
       "  1: 0.251949,\n",
       "  2: 0.16626,\n",
       "  3: 0.338533,\n",
       "  4: 0.355777,\n",
       "  5: 0.335893,\n",
       "  6: 0.251114,\n",
       "  7: 0.174202},\n",
       " 'v_5_age': {0: 0.194197,\n",
       "  1: 0.16021,\n",
       "  2: 0.15305,\n",
       "  3: 0.300725,\n",
       "  4: 0.237944,\n",
       "  5: 0.24251,\n",
       "  6: 0.11375,\n",
       "  7: 0.0910059},\n",
       " 'v_6_age': {0: 0.164841,\n",
       "  1: 0.196545,\n",
       "  2: 0.110489,\n",
       "  3: 0.156233,\n",
       "  4: 0.260107,\n",
       "  5: 0.141504,\n",
       "  6: 0.192645,\n",
       "  7: 0.119276},\n",
       " 'v_7_age': {0: 0.153113,\n",
       "  1: 0.112446,\n",
       "  2: 0.171611,\n",
       "  3: 0.239641,\n",
       "  4: 0.205832,\n",
       "  5: 0.0716161,\n",
       "  6: 0.170648,\n",
       "  7: 0.0847802},\n",
       " 'v_8_age': {0: 0.126629,\n",
       "  1: 0.0600203,\n",
       "  2: 0.0328893,\n",
       "  3: 0.0933851,\n",
       "  4: 0.156178,\n",
       "  5: 0.0520225,\n",
       "  6: 0.137249,\n",
       "  7: 0.116639},\n",
       " 'v_9_age': {0: 0.0413959,\n",
       "  1: 0.0806397,\n",
       "  2: -0.033492,\n",
       "  3: -0.0474656,\n",
       "  4: 0.0863132,\n",
       "  5: 0.00677991,\n",
       "  6: -0.00229664,\n",
       "  7: -0.00767853},\n",
       " 'v_10_age': {0: 0.0421461,\n",
       "  1: 0.0606502,\n",
       "  2: -0.102752,\n",
       "  3: -0.0513665,\n",
       "  4: -0.0885218,\n",
       "  5: -0.0361026,\n",
       "  6: -0.0260025,\n",
       "  7: -0.00262462},\n",
       " 'v_11_age': {0: -0.00913981,\n",
       "  1: 0.0310902,\n",
       "  2: 0.14823,\n",
       "  3: 0.0761476,\n",
       "  4: 0.149044,\n",
       "  5: 0.0200941,\n",
       "  6: 0.00337803,\n",
       "  7: 0.0276411},\n",
       " 'v_12_age': {0: 0.116448,\n",
       "  1: 0.0383954,\n",
       "  2: 0.169139,\n",
       "  3: 0.186818,\n",
       "  4: 0.0622562,\n",
       "  5: 0.0619474,\n",
       "  6: 0.0473348,\n",
       "  7: 0.241411},\n",
       " 'v_13_sibsp': {0: 0.258435,\n",
       "  1: 0.233577,\n",
       "  2: 0.202469,\n",
       "  3: 0.344567,\n",
       "  4: 0.354707,\n",
       "  5: 0.27612,\n",
       "  6: 0.218964,\n",
       "  7: 0.200353},\n",
       " 'v_14_sibsp': {0: 0.146875,\n",
       "  1: 0.134766,\n",
       "  2: 0.088623,\n",
       "  3: 0.24547,\n",
       "  4: 0.201353,\n",
       "  5: 0.208568,\n",
       "  6: 0.165561,\n",
       "  7: 0.182361},\n",
       " 'v_15_sibsp': {0: 0.0523088,\n",
       "  1: 0.0866908,\n",
       "  2: 0.117189,\n",
       "  3: 0.2137,\n",
       "  4: 0.180822,\n",
       "  5: 0.224768,\n",
       "  6: 0.143533,\n",
       "  7: 0.200005},\n",
       " 'v_16_sibsp': {0: 0.0112409,\n",
       "  1: -0.0642577,\n",
       "  2: 0.0721326,\n",
       "  3: -0.0642472,\n",
       "  4: 0.00265157,\n",
       "  5: -0.116152,\n",
       "  6: -0.00875786,\n",
       "  7: 0.0582118},\n",
       " 'v_17_sibsp': {0: 0.136504,\n",
       "  1: 0.13118,\n",
       "  2: 0.106798,\n",
       "  3: 0.0746262,\n",
       "  4: 0.0342228,\n",
       "  5: -0.0812413,\n",
       "  6: -0.0260948,\n",
       "  7: 0.05872},\n",
       " 'v_18_sibsp': {0: 0.118511,\n",
       "  1: 0.0241995,\n",
       "  2: 0.106465,\n",
       "  3: 0.0736909,\n",
       "  4: 0.130962,\n",
       "  5: 0.0660104,\n",
       "  6: 0.170958,\n",
       "  7: 0.0305583},\n",
       " 'v_19_sibsp': {0: 0.175958,\n",
       "  1: 0.221767,\n",
       "  2: 0.00759511,\n",
       "  3: 0.218665,\n",
       "  4: 0.0470274,\n",
       "  5: 0.0977355,\n",
       "  6: 0.137211,\n",
       "  7: 0.0658408},\n",
       " 'v_20_parch': {0: 0.191055,\n",
       "  1: 0.0748617,\n",
       "  2: 0.0868473,\n",
       "  3: 0.21981,\n",
       "  4: 0.186817,\n",
       "  5: 0.153561,\n",
       "  6: 0.142467,\n",
       "  7: 0.0655828},\n",
       " 'v_21_parch': {0: 0.243233,\n",
       "  1: 0.171069,\n",
       "  2: 0.151918,\n",
       "  3: 0.179386,\n",
       "  4: 0.344706,\n",
       "  5: 0.24595,\n",
       "  6: 0.18168,\n",
       "  7: 0.18419},\n",
       " 'v_22_parch': {0: 0.200684,\n",
       "  1: 0.133633,\n",
       "  2: 0.112028,\n",
       "  3: 0.156984,\n",
       "  4: 0.252588,\n",
       "  5: 0.292273,\n",
       "  6: 0.106441,\n",
       "  7: 0.196639},\n",
       " 'v_23_parch': {0: 0.0917205,\n",
       "  1: 0.228712,\n",
       "  2: 0.0195226,\n",
       "  3: 0.0175042,\n",
       "  4: 0.220887,\n",
       "  5: 0.134848,\n",
       "  6: 0.233502,\n",
       "  7: 0.0158746},\n",
       " 'v_24_parch': {0: -0.0157922,\n",
       "  1: 0.15486,\n",
       "  2: 0.000954314,\n",
       "  3: 0.17566,\n",
       "  4: 0.0345054,\n",
       "  5: 0.0247413,\n",
       "  6: 0.151151,\n",
       "  7: 0.0637088},\n",
       " 'v_25_parch': {0: 0.165506,\n",
       "  1: 0.107363,\n",
       "  2: 0.203461,\n",
       "  3: 0.128491,\n",
       "  4: 0.00408267,\n",
       "  5: 0.182046,\n",
       "  6: 0.121729,\n",
       "  7: -0.0219981},\n",
       " 'v_26_parch': {0: 0.116452,\n",
       "  1: 0.190352,\n",
       "  2: 0.170288,\n",
       "  3: 0.207154,\n",
       "  4: 0.169242,\n",
       "  5: 0.0397451,\n",
       "  6: 0.0706741,\n",
       "  7: 0.127208},\n",
       " 'v_27_fare': {0: -0.0282596,\n",
       "  1: 0.00928235,\n",
       "  2: 0.0288383,\n",
       "  3: -0.0220369,\n",
       "  4: -0.021895,\n",
       "  5: 0.0155345,\n",
       "  6: -0.011085,\n",
       "  7: -0.0192752},\n",
       " 'v_28_fare': {0: 0.0747844,\n",
       "  1: 0.0458702,\n",
       "  2: 0.137706,\n",
       "  3: 0.079724,\n",
       "  4: 0.129983,\n",
       "  5: 0.00998518,\n",
       "  6: 0.0661034,\n",
       "  7: 0.0276084},\n",
       " 'v_29_fare': {0: 0.123426,\n",
       "  1: 0.16798,\n",
       "  2: 0.199895,\n",
       "  3: 0.252544,\n",
       "  4: 0.209901,\n",
       "  5: 0.126253,\n",
       "  6: 0.133325,\n",
       "  7: 0.131901},\n",
       " 'v_30_fare': {0: 0.0765817,\n",
       "  1: 0.0659729,\n",
       "  2: 0.0648661,\n",
       "  3: 0.239117,\n",
       "  4: 0.123755,\n",
       "  5: 0.189423,\n",
       "  6: 0.191951,\n",
       "  7: 0.184134},\n",
       " 'v_31_fare': {0: 0.0288811,\n",
       "  1: -0.0283128,\n",
       "  2: -0.0396132,\n",
       "  3: -0.0514138,\n",
       "  4: 0.0686794,\n",
       "  5: -0.0592444,\n",
       "  6: -0.0111174,\n",
       "  7: 0.0523363},\n",
       " 'v_32_fare': {0: 0.255283,\n",
       "  1: 0.216202,\n",
       "  2: 0.109536,\n",
       "  3: 0.234349,\n",
       "  4: 0.261068,\n",
       "  5: 0.201466,\n",
       "  6: 0.294573,\n",
       "  7: 0.218779},\n",
       " 'v_33_fare': {0: 0.185194,\n",
       "  1: 0.158089,\n",
       "  2: 0.215635,\n",
       "  3: 0.0415899,\n",
       "  4: 0.0472478,\n",
       "  5: 0.0351491,\n",
       "  6: 0.217233,\n",
       "  7: 0.0863808},\n",
       " 'v_34_fare': {0: 0.154089,\n",
       "  1: 0.0267018,\n",
       "  2: 0.153874,\n",
       "  3: 0.140717,\n",
       "  4: 0.0213428,\n",
       "  5: 0.0714526,\n",
       "  6: 0.198722,\n",
       "  7: 0.0638527},\n",
       " 'v_35_fare': {0: 0.234573,\n",
       "  1: 0.0860157,\n",
       "  2: 0.289958,\n",
       "  3: 0.351155,\n",
       "  4: 0.289943,\n",
       "  5: 0.149648,\n",
       "  6: 0.188167,\n",
       "  7: 0.22461},\n",
       " 'v_36_fare': {0: 0.275228,\n",
       "  1: 0.265355,\n",
       "  2: 0.193199,\n",
       "  3: 0.313704,\n",
       "  4: 0.350907,\n",
       "  5: 0.27738,\n",
       "  6: 0.160412,\n",
       "  7: 0.140545}}"
      ]
     },
     "execution_count": 25,
     "metadata": {},
     "output_type": "execute_result"
    }
   ],
   "source": [
    "normal_v_ik"
   ]
  },
  {
   "cell_type": "code",
   "execution_count": 26,
   "metadata": {
    "scrolled": true
   },
   "outputs": [
    {
     "data": {
      "text/plain": [
       "{'v_0_pclass': {0: 0.00478509, 1: 0.0293586, 2: 0.181161, 3: 0.266345},\n",
       " 'v_1_pclass': {0: 0.280182, 1: 0.0535095, 2: 0.150008, 3: 0.114339},\n",
       " 'v_2_pclass': {0: 0.0579785, 1: 0.184763, 2: 0.0168584, 3: 0.13759},\n",
       " 'v_3_sex': {0: 0.171069, 1: 0.231763, 2: 0.17343, 3: 0.153521},\n",
       " 'v_4_age': {0: 0.278755, 1: 0.316059, 2: 0.23145, 3: 0.307385},\n",
       " 'v_5_age': {0: 0.0905827, 1: 0.130135, 2: 0.277736, 3: 0.200771},\n",
       " 'v_6_age': {0: 0.248811, 1: 0.265027, 2: 0.0456175, 3: 0.237603},\n",
       " 'v_7_age': {0: 0.267126, 1: 0.0849783, 2: 0.277671, 3: 0.12168},\n",
       " 'v_8_age': {0: 0.0945298, 1: 0.158157, 2: 0.122372, 3: 0.243639},\n",
       " 'v_9_age': {0: 0.219531, 1: 0.173384, 2: 0.18909, 3: 0.0298281},\n",
       " 'v_10_age': {0: 0.197263, 1: 0.139684, 2: 0.194196, 3: 0.273528},\n",
       " 'v_11_age': {0: 0.161658, 1: 0.25383, 2: 0.0233558, 3: 0.0627722},\n",
       " 'v_12_age': {0: 0.0738047, 1: 0.257434, 2: 0.0277635, 3: 0.0599174},\n",
       " 'v_13_sibsp': {0: 0.140818, 1: 0.131212, 2: 0.177868, 3: 0.0689824},\n",
       " 'v_14_sibsp': {0: 0.128345, 1: 0.120586, 2: 0.265054, 3: 0.288676},\n",
       " 'v_15_sibsp': {0: 0.186876, 1: 0.0528876, 2: 0.226751, 3: 0.108406},\n",
       " 'v_16_sibsp': {0: 0.147924, 1: 0.0236542, 2: 0.0410878, 3: 0.0556312},\n",
       " 'v_17_sibsp': {0: 0.144456, 1: 0.0117716, 2: 0.16476, 3: 0.152617},\n",
       " 'v_18_sibsp': {0: 0.190263, 1: 0.221366, 2: 0.0303476, 3: 0.0215018},\n",
       " 'v_19_sibsp': {0: 0.274575, 1: 0.128498, 2: 0.0628632, 3: 0.0544583},\n",
       " 'v_20_parch': {0: 0.214554, 1: 0.221801, 2: 0.0219408, 3: 0.19602},\n",
       " 'v_21_parch': {0: 0.192118, 1: 0.207192, 2: 0.18966, 3: 0.18167},\n",
       " 'v_22_parch': {0: 0.0486118, 1: 0.0810745, 2: 0.252549, 3: 0.187702},\n",
       " 'v_23_parch': {0: 0.294798, 1: 0.0894045, 2: 0.0651042, 3: 0.0888883},\n",
       " 'v_24_parch': {0: 0.130266, 1: 0.0313811, 2: 0.213035, 3: 0.207871},\n",
       " 'v_25_parch': {0: 0.0410954, 1: 0.049651, 2: 0.0291296, 3: 0.312167},\n",
       " 'v_26_parch': {0: 0.178253, 1: 0.0139628, 2: 0.181312, 3: 0.242324},\n",
       " 'v_27_fare': {0: 0.127859, 1: 0.12119, 2: -0.00320058, 3: 0.0540973},\n",
       " 'v_28_fare': {0: 0.0577541, 1: 0.168018, 2: 0.0326111, 3: 0.177728},\n",
       " 'v_29_fare': {0: 0.0508993, 1: 0.210928, 2: 0.0737121, 3: 0.20047},\n",
       " 'v_30_fare': {0: 0.0131815, 1: 0.0549678, 2: 0.116298, 3: 0.23824},\n",
       " 'v_31_fare': {0: 0.128122, 1: 0.268968, 2: 0.18367, 3: 0.245483},\n",
       " 'v_32_fare': {0: 0.224764, 1: 0.104282, 2: 0.268834, 3: 0.173721},\n",
       " 'v_33_fare': {0: 0.255094, 1: 0.0483023, 2: 0.191314, 3: 0.259066},\n",
       " 'v_34_fare': {0: 0.307608, 1: 0.294996, 2: 0.253311, 3: 0.256827},\n",
       " 'v_35_fare': {0: 0.188171, 1: 0.00370647, 2: 0.0509119, 3: 0.168008},\n",
       " 'v_36_fare': {0: 0.242687, 1: 0.0958861, 2: 0.192647, 3: 0.179734}}"
      ]
     },
     "execution_count": 26,
     "metadata": {},
     "output_type": "execute_result"
    }
   ],
   "source": [
    "abnormal_v_ik"
   ]
  },
  {
   "cell_type": "code",
   "execution_count": 27,
   "metadata": {},
   "outputs": [],
   "source": [
    "normal_max_list = []\n",
    "normal_min_list = []\n",
    "for feature, vk in normal_v_ik.items():\n",
    "    vk_max = max(vk.keys(), key=(lambda k: vk[k]))\n",
    "    vk_min = min(vk.keys(), key=(lambda k: vk[k]))\n",
    "    normal_max_list.append(vk[vk_max])\n",
    "    normal_min_list.append(vk[vk_min])\n",
    "    \n",
    "abnormal_max_list = []\n",
    "abnormal_min_list = []\n",
    "for feature, vk in abnormal_v_ik.items():\n",
    "    vk_max = max(vk.keys(), key=(lambda k: vk[k]))\n",
    "    vk_min = min(vk.keys(), key=(lambda k: vk[k]))\n",
    "    abnormal_max_list.append(vk[vk_max])\n",
    "    abnormal_min_list.append(vk[vk_min])"
   ]
  },
  {
   "cell_type": "markdown",
   "metadata": {},
   "source": [
    "-----"
   ]
  },
  {
   "cell_type": "markdown",
   "metadata": {},
   "source": [
    "#### k'th vector complexity"
   ]
  },
  {
   "cell_type": "code",
   "execution_count": 28,
   "metadata": {},
   "outputs": [],
   "source": [
    "%matplotlib inline\n",
    "\n",
    "import matplotlib.pyplot as plt"
   ]
  },
  {
   "cell_type": "code",
   "execution_count": 29,
   "metadata": {},
   "outputs": [
    {
     "data": {
      "text/plain": [
       "<matplotlib.collections.PathCollection at 0x11a164780>"
      ]
     },
     "execution_count": 29,
     "metadata": {},
     "output_type": "execute_result"
    },
    {
     "data": {
      "image/png": "[encoded data removed]",
      "text/plain": [
       "<Figure size 432x288 with 1 Axes>"
      ]
     },
     "metadata": {
      "needs_background": "light"
     },
     "output_type": "display_data"
    }
   ],
   "source": [
    "plt.scatter(normal_max_list, normal_min_list)"
   ]
  },
  {
   "cell_type": "code",
   "execution_count": 30,
   "metadata": {},
   "outputs": [
    {
     "data": {
      "text/plain": [
       "<matplotlib.collections.PathCollection at 0x11a4b2a20>"
      ]
     },
     "execution_count": 30,
     "metadata": {},
     "output_type": "execute_result"
    },
    {
     "data": {
      "image/png": "[encoded data removed]",
      "text/plain": [
       "<Figure size 432x288 with 1 Axes>"
      ]
     },
     "metadata": {
      "needs_background": "light"
     },
     "output_type": "display_data"
    }
   ],
   "source": [
    "plt.scatter(abnormal_max_list, abnormal_min_list)"
   ]
  },
  {
   "cell_type": "markdown",
   "metadata": {},
   "source": [
    "-----"
   ]
  },
  {
   "cell_type": "markdown",
   "metadata": {},
   "source": [
    "#### Linearity"
   ]
  },
  {
   "cell_type": "code",
   "execution_count": 53,
   "metadata": {},
   "outputs": [],
   "source": [
    "txt_path = './normal.txt'\n",
    "k = 8\n",
    "fm_w_i = []\n",
    "with open(txt_path, 'r') as my_file:\n",
    "    lines = my_file.readlines()\n",
    "    for line in lines:\n",
    "        cut_line = line.strip().split(':')\n",
    "        if cut_line[0] == 'bias':\n",
    "            pass\n",
    "        elif \"i\" in cut_line[0]:\n",
    "            fm_w_i.append(float(cut_line[1]))\n",
    "        else:\n",
    "            pass\n",
    "        \n",
    "txt_path = './normal_lm.txt'\n",
    "lm_w_i = []\n",
    "with open(txt_path, 'r') as my_file:\n",
    "    lines = my_file.readlines()\n",
    "    for line in lines:\n",
    "        cut_line = line.strip().split(':')\n",
    "        if cut_line[0] == 'bias':\n",
    "            pass\n",
    "        elif \"i\" in cut_line[0]:\n",
    "            lm_w_i.append(float(cut_line[1]))\n",
    "        else:\n",
    "            pass\n",
    "\n",
    "txt_path = './abnormal.txt'\n",
    "ab_fm_w_i = []\n",
    "with open(txt_path, 'r') as my_file:\n",
    "    lines = my_file.readlines()\n",
    "    for line in lines:\n",
    "        cut_line = line.strip().split(':')\n",
    "        if cut_line[0] == 'bias':\n",
    "            pass\n",
    "        elif \"i\" in cut_line[0]:\n",
    "            ab_fm_w_i.append(float(cut_line[1]))\n",
    "        else:\n",
    "            pass"
   ]
  },
  {
   "cell_type": "code",
   "execution_count": 58,
   "metadata": {},
   "outputs": [
    {
     "name": "stdout",
     "output_type": "stream",
     "text": [
      "0.933334 0.697534\n",
      "-0.410232 -0.195406\n",
      "-1.3791 -0.872573\n",
      "3.69925 2.19188\n",
      "0.95069 0.807101\n",
      "-0.158493 -0.0436003\n",
      "0.0251544 0.0652274\n",
      "-0.376571 -0.246276\n",
      "-0.406419 -0.324781\n",
      "-0.565122 -0.605323\n",
      "-1.27856 -1.0971\n",
      "-0.611346 -0.706398\n",
      "0.316248 0.456947\n",
      "-0.0755953 0.067273\n",
      "0.0920035 -0.00852037\n",
      "-0.149759 -0.194567\n",
      "-1.48062 -1.35969\n",
      "-0.738207 -0.771669\n",
      "-0.812889 -0.896865\n",
      "-0.176677 -0.243702\n",
      "-0.753834 -0.405495\n",
      "0.465632 0.197116\n",
      "0.028186 -0.0713094\n",
      "-0.0357641 -0.0500735\n",
      "-0.500573 -0.541103\n",
      "-0.505677 -0.561933\n",
      "-0.153069 -0.163747\n",
      "-0.754558 -0.276774\n",
      "-0.47638 -0.332201\n",
      "-0.388432 -0.279011\n",
      "-0.306356 -0.248344\n",
      "-0.931949 -0.930945\n",
      "1.03137 0.666009\n",
      "-0.232937 -0.32495\n",
      "-0.384167 -0.368437\n",
      "0.871214 0.784447\n",
      "0.713645 0.142283\n"
     ]
    },
    {
     "data": {
      "text/plain": [
       "<matplotlib.collections.PathCollection at 0x11b3a14e0>"
      ]
     },
     "execution_count": 58,
     "metadata": {},
     "output_type": "execute_result"
    },
    {
     "data": {
      "image/png": "[encoded data removed]",
      "text/plain": [
       "<Figure size 432x288 with 1 Axes>"
      ]
     },
     "metadata": {
      "needs_background": "light"
     },
     "output_type": "display_data"
    }
   ],
   "source": [
    "for fm, lm in zip(fm_w_i, lm_w_i):\n",
    "    print(fm, lm)\n",
    "plt.scatter(fm_w_i, lm_w_i)"
   ]
  },
  {
   "cell_type": "code",
   "execution_count": 59,
   "metadata": {},
   "outputs": [
    {
     "name": "stdout",
     "output_type": "stream",
     "text": [
      "0.0855354 0.697534\n",
      "-0.0252733 -0.195406\n",
      "-0.168789 -0.872573\n",
      "0.19058 2.19188\n",
      "0.0236748 0.807101\n",
      "-0.021068 -0.0436003\n",
      "-0.0600047 0.0652274\n",
      "-0.0278912 -0.246276\n",
      "-0.0156629 -0.324781\n",
      "-0.000845398 -0.605323\n",
      "-0.0155581 -1.0971\n",
      "-0.00479632 -0.706398\n",
      "0.00145513 0.456947\n",
      "-0.10386 0.067273\n",
      "0.0282485 -0.00852037\n",
      "-0.000881696 -0.194567\n",
      "-0.017722 -1.35969\n",
      "-0.00563841 -0.771669\n",
      "-0.00602382 -0.896865\n",
      "-0.0012319 -0.243702\n",
      "-0.137248 -0.405495\n",
      "0.0355722 0.197116\n",
      "0.014577 -0.0713094\n",
      "0.00144274 -0.0500735\n",
      "-0.00346068 -0.541103\n",
      "-0.00243364 -0.561933\n",
      "-0.00125652 -0.163747\n",
      "-0.137602 -0.276774\n",
      "-0.0384033 -0.332201\n",
      "-0.00850181 -0.279011\n",
      "-0.00319256 -0.248344\n",
      "-0.00836082 -0.930945\n",
      "0.0232926 0.666009\n",
      "0.000412743 -0.32495\n",
      "-0.00173488 -0.368437\n",
      "0.0117113 0.784447\n",
      "0.0468903 0.142283\n"
     ]
    },
    {
     "data": {
      "text/plain": [
       "<matplotlib.collections.PathCollection at 0x11b865ba8>"
      ]
     },
     "execution_count": 59,
     "metadata": {},
     "output_type": "execute_result"
    },
    {
     "data": {
      "image/png": "[encoded data removed]",
      "text/plain": [
       "<Figure size 432x288 with 1 Axes>"
      ]
     },
     "metadata": {
      "needs_background": "light"
     },
     "output_type": "display_data"
    }
   ],
   "source": [
    "for fm, lm in zip(ab_fm_w_i, lm_w_i):\n",
    "    print(fm, lm)\n",
    "plt.scatter(ab_fm_w_i, lm_w_i)"
   ]
  },
  {
   "cell_type": "code",
   "execution_count": 65,
   "metadata": {},
   "outputs": [
    {
     "name": "stdout",
     "output_type": "stream",
     "text": [
      "normal situation's linearity : (0.9651562957302593, 5.793922493363502e-22)\n",
      "abnormal situation's linearity : (0.5774535984475556, 0.00018251623012776068)\n"
     ]
    }
   ],
   "source": [
    "from scipy.stats.stats import pearsonr   \n",
    "print (\"normal situation's linearity :\", pearsonr(fm_w_i, lm_w_i))\n",
    "print (\"abnormal situation's linearity :\", pearsonr(ab_fm_w_i, lm_w_i))"
   ]
  },
  {
   "cell_type": "code",
   "execution_count": null,
   "metadata": {},
   "outputs": [],
   "source": []
  }
 ],
 "metadata": {
  "kernelspec": {
   "display_name": "Python 3",
   "language": "python",
   "name": "python3"
  },
  "language_info": {
   "codemirror_mode": {
    "name": "ipython",
    "version": 3
   },
   "file_extension": ".py",
   "mimetype": "text/x-python",
   "name": "python",
   "nbconvert_exporter": "python",
   "pygments_lexer": "ipython3",
   "version": "3.6.6"
  }
 },
 "nbformat": 4,
 "nbformat_minor": 2
}
