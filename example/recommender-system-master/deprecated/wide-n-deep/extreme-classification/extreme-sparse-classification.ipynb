{
 "cells": [
  {
   "cell_type": "markdown",
   "metadata": {},
   "source": [
    "## Import extreme multi-label dataset\n",
    "- in extreme-sparse dataset, test wide n deep "
   ]
  },
  {
   "cell_type": "code",
   "execution_count": 1,
   "metadata": {},
   "outputs": [
    {
     "name": "stderr",
     "output_type": "stream",
     "text": [
      "/home/admin_user/anaconda3/envs/gsshop/lib/python3.6/importlib/_bootstrap.py:219: RuntimeWarning: numpy.dtype size changed, may indicate binary incompatibility. Expected 96, got 88\n",
      "  return f(*args, **kwds)\n",
      "/home/admin_user/anaconda3/envs/gsshop/lib/python3.6/importlib/_bootstrap.py:219: RuntimeWarning: numpy.dtype size changed, may indicate binary incompatibility. Expected 96, got 88\n",
      "  return f(*args, **kwds)\n"
     ]
    }
   ],
   "source": [
    "import os\n",
    "\n",
    "import pandas as pd\n",
    "import numpy as np\n",
    "from scipy.io import loadmat"
   ]
  },
  {
   "cell_type": "code",
   "execution_count": 2,
   "metadata": {},
   "outputs": [
    {
     "name": "stdout",
     "output_type": "stream",
     "text": [
      "data/bibtex\n"
     ]
    }
   ],
   "source": [
    "dataset=\"bibtex\"\n",
    "data_dir='data/{}'.format(dataset)\n",
    "print(data_dir)\n",
    "def load_input():\n",
    "    data = list(loadmat(data_dir + '/input.mat')['data'][0][0])\n",
    "    return data[:4]"
   ]
  },
  {
   "cell_type": "code",
   "execution_count": 3,
   "metadata": {},
   "outputs": [],
   "source": [
    "train_X, train_Y, test_X, test_Y = load_input()"
   ]
  },
  {
   "cell_type": "code",
   "execution_count": 4,
   "metadata": {},
   "outputs": [
    {
     "name": "stdout",
     "output_type": "stream",
     "text": [
      "(4880, 1836)\n",
      "(4880, 159)\n"
     ]
    }
   ],
   "source": [
    "train_X = train_X.toarray()\n",
    "train_Y = train_Y.toarray()\n",
    "test_X = test_X.toarray()\n",
    "test_Y = test_Y.toarray()\n",
    "\n",
    "print(train_X.shape)\n",
    "print(train_Y.shape)"
   ]
  },
  {
   "cell_type": "code",
   "execution_count": 5,
   "metadata": {},
   "outputs": [
    {
     "data": {
      "text/html": [
       "<div>\n",
       "<style scoped>\n",
       "    .dataframe tbody tr th:only-of-type {\n",
       "        vertical-align: middle;\n",
       "    }\n",
       "\n",
       "    .dataframe tbody tr th {\n",
       "        vertical-align: top;\n",
       "    }\n",
       "\n",
       "    .dataframe thead th {\n",
       "        text-align: right;\n",
       "    }\n",
       "</style>\n",
       "<table border=\"1\" class=\"dataframe\">\n",
       "  <thead>\n",
       "    <tr style=\"text-align: right;\">\n",
       "      <th></th>\n",
       "      <th>0</th>\n",
       "      <th>1</th>\n",
       "      <th>2</th>\n",
       "      <th>3</th>\n",
       "      <th>4</th>\n",
       "      <th>5</th>\n",
       "      <th>6</th>\n",
       "      <th>7</th>\n",
       "      <th>8</th>\n",
       "      <th>9</th>\n",
       "      <th>...</th>\n",
       "      <th>1826</th>\n",
       "      <th>1827</th>\n",
       "      <th>1828</th>\n",
       "      <th>1829</th>\n",
       "      <th>1830</th>\n",
       "      <th>1831</th>\n",
       "      <th>1832</th>\n",
       "      <th>1833</th>\n",
       "      <th>1834</th>\n",
       "      <th>1835</th>\n",
       "    </tr>\n",
       "  </thead>\n",
       "  <tbody>\n",
       "    <tr>\n",
       "      <th>0</th>\n",
       "      <td>0.0</td>\n",
       "      <td>0.0</td>\n",
       "      <td>0.0</td>\n",
       "      <td>0.0</td>\n",
       "      <td>0.0</td>\n",
       "      <td>0.0</td>\n",
       "      <td>0.0</td>\n",
       "      <td>0.0</td>\n",
       "      <td>0.0</td>\n",
       "      <td>0.0</td>\n",
       "      <td>...</td>\n",
       "      <td>0.0</td>\n",
       "      <td>0.0</td>\n",
       "      <td>0.0</td>\n",
       "      <td>0.0</td>\n",
       "      <td>0.0</td>\n",
       "      <td>0.0</td>\n",
       "      <td>0.0</td>\n",
       "      <td>0.0</td>\n",
       "      <td>0.0</td>\n",
       "      <td>0.0</td>\n",
       "    </tr>\n",
       "    <tr>\n",
       "      <th>1</th>\n",
       "      <td>0.0</td>\n",
       "      <td>0.0</td>\n",
       "      <td>0.0</td>\n",
       "      <td>0.0</td>\n",
       "      <td>0.0</td>\n",
       "      <td>0.0</td>\n",
       "      <td>0.0</td>\n",
       "      <td>0.0</td>\n",
       "      <td>0.0</td>\n",
       "      <td>0.0</td>\n",
       "      <td>...</td>\n",
       "      <td>1.0</td>\n",
       "      <td>0.0</td>\n",
       "      <td>0.0</td>\n",
       "      <td>0.0</td>\n",
       "      <td>0.0</td>\n",
       "      <td>0.0</td>\n",
       "      <td>0.0</td>\n",
       "      <td>0.0</td>\n",
       "      <td>0.0</td>\n",
       "      <td>0.0</td>\n",
       "    </tr>\n",
       "    <tr>\n",
       "      <th>2</th>\n",
       "      <td>0.0</td>\n",
       "      <td>0.0</td>\n",
       "      <td>0.0</td>\n",
       "      <td>0.0</td>\n",
       "      <td>0.0</td>\n",
       "      <td>0.0</td>\n",
       "      <td>0.0</td>\n",
       "      <td>0.0</td>\n",
       "      <td>0.0</td>\n",
       "      <td>0.0</td>\n",
       "      <td>...</td>\n",
       "      <td>0.0</td>\n",
       "      <td>0.0</td>\n",
       "      <td>0.0</td>\n",
       "      <td>0.0</td>\n",
       "      <td>0.0</td>\n",
       "      <td>0.0</td>\n",
       "      <td>0.0</td>\n",
       "      <td>0.0</td>\n",
       "      <td>0.0</td>\n",
       "      <td>0.0</td>\n",
       "    </tr>\n",
       "    <tr>\n",
       "      <th>3</th>\n",
       "      <td>0.0</td>\n",
       "      <td>0.0</td>\n",
       "      <td>0.0</td>\n",
       "      <td>0.0</td>\n",
       "      <td>0.0</td>\n",
       "      <td>0.0</td>\n",
       "      <td>0.0</td>\n",
       "      <td>0.0</td>\n",
       "      <td>0.0</td>\n",
       "      <td>0.0</td>\n",
       "      <td>...</td>\n",
       "      <td>0.0</td>\n",
       "      <td>0.0</td>\n",
       "      <td>0.0</td>\n",
       "      <td>0.0</td>\n",
       "      <td>0.0</td>\n",
       "      <td>0.0</td>\n",
       "      <td>0.0</td>\n",
       "      <td>0.0</td>\n",
       "      <td>0.0</td>\n",
       "      <td>0.0</td>\n",
       "    </tr>\n",
       "    <tr>\n",
       "      <th>4</th>\n",
       "      <td>0.0</td>\n",
       "      <td>0.0</td>\n",
       "      <td>0.0</td>\n",
       "      <td>0.0</td>\n",
       "      <td>0.0</td>\n",
       "      <td>0.0</td>\n",
       "      <td>0.0</td>\n",
       "      <td>0.0</td>\n",
       "      <td>0.0</td>\n",
       "      <td>0.0</td>\n",
       "      <td>...</td>\n",
       "      <td>0.0</td>\n",
       "      <td>0.0</td>\n",
       "      <td>0.0</td>\n",
       "      <td>0.0</td>\n",
       "      <td>0.0</td>\n",
       "      <td>0.0</td>\n",
       "      <td>0.0</td>\n",
       "      <td>0.0</td>\n",
       "      <td>0.0</td>\n",
       "      <td>0.0</td>\n",
       "    </tr>\n",
       "  </tbody>\n",
       "</table>\n",
       "<p>5 rows × 1836 columns</p>\n",
       "</div>"
      ],
      "text/plain": [
       "   0     1     2     3     4     5     6     7     8     9     ...   1826  \\\n",
       "0   0.0   0.0   0.0   0.0   0.0   0.0   0.0   0.0   0.0   0.0  ...    0.0   \n",
       "1   0.0   0.0   0.0   0.0   0.0   0.0   0.0   0.0   0.0   0.0  ...    1.0   \n",
       "2   0.0   0.0   0.0   0.0   0.0   0.0   0.0   0.0   0.0   0.0  ...    0.0   \n",
       "3   0.0   0.0   0.0   0.0   0.0   0.0   0.0   0.0   0.0   0.0  ...    0.0   \n",
       "4   0.0   0.0   0.0   0.0   0.0   0.0   0.0   0.0   0.0   0.0  ...    0.0   \n",
       "\n",
       "   1827  1828  1829  1830  1831  1832  1833  1834  1835  \n",
       "0   0.0   0.0   0.0   0.0   0.0   0.0   0.0   0.0   0.0  \n",
       "1   0.0   0.0   0.0   0.0   0.0   0.0   0.0   0.0   0.0  \n",
       "2   0.0   0.0   0.0   0.0   0.0   0.0   0.0   0.0   0.0  \n",
       "3   0.0   0.0   0.0   0.0   0.0   0.0   0.0   0.0   0.0  \n",
       "4   0.0   0.0   0.0   0.0   0.0   0.0   0.0   0.0   0.0  \n",
       "\n",
       "[5 rows x 1836 columns]"
      ]
     },
     "execution_count": 5,
     "metadata": {},
     "output_type": "execute_result"
    }
   ],
   "source": [
    "pd.DataFrame(train_X).head()"
   ]
  },
  {
   "cell_type": "code",
   "execution_count": 7,
   "metadata": {},
   "outputs": [
    {
     "data": {
      "text/plain": [
       "(4880, 3672)"
      ]
     },
     "execution_count": 7,
     "metadata": {},
     "output_type": "execute_result"
    }
   ],
   "source": [
    "extreme_x_train = np.concatenate((train_X, train_X), axis=1)\n",
    "extreme_x_train = np.concatenate((extreme_x_train, extreme_x_train), axis=1)\n",
    "extreme_x_train = np.concatenate((extreme_x_train, extreme_x_train), axis=1)\n",
    "extreme_x_train.shape"
   ]
  },
  {
   "cell_type": "code",
   "execution_count": 8,
   "metadata": {},
   "outputs": [
    {
     "data": {
      "text/plain": [
       "(2515, 3672)"
      ]
     },
     "execution_count": 8,
     "metadata": {},
     "output_type": "execute_result"
    }
   ],
   "source": [
    "extreme_x_test = np.concatenate((test_X, test_X), axis=1)\n",
    "extreme_x_test = np.concatenate((extreme_x_test, extreme_x_test), axis=1)\n",
    "extreme_x_test = np.concatenate((extreme_x_test, extreme_x_test), axis=1)\n",
    "extreme_x_test.shape"
   ]
  },
  {
   "cell_type": "code",
   "execution_count": 9,
   "metadata": {},
   "outputs": [
    {
     "data": {
      "text/plain": [
       "(4880, 10176)"
      ]
     },
     "execution_count": 9,
     "metadata": {},
     "output_type": "execute_result"
    }
   ],
   "source": [
    "extreme_y_train = np.concatenate((train_Y, train_Y), axis=1)\n",
    "extreme_y_train = np.concatenate((extreme_y_train, extreme_y_train), axis=1)\n",
    "extreme_y_train = np.concatenate((extreme_y_train, extreme_y_train), axis=1)\n",
    "extreme_y_train = np.concatenate((extreme_y_train, extreme_y_train), axis=1)\n",
    "extreme_y_train = np.concatenate((extreme_y_train, extreme_y_train), axis=1)\n",
    "extreme_y_train = np.concatenate((extreme_y_train, extreme_y_train), axis=1)\n",
    "extreme_y_train.shape"
   ]
  },
  {
   "cell_type": "code",
   "execution_count": 12,
   "metadata": {},
   "outputs": [
    {
     "data": {
      "text/plain": [
       "(2515, 10176)"
      ]
     },
     "execution_count": 12,
     "metadata": {},
     "output_type": "execute_result"
    }
   ],
   "source": [
    "extreme_y_test = np.concatenate((test_Y, test_Y), axis=1)\n",
    "extreme_y_test = np.concatenate((extreme_y_test, extreme_y_test), axis=1)\n",
    "extreme_y_test = np.concatenate((extreme_y_test, extreme_y_test), axis=1)\n",
    "extreme_y_test = np.concatenate((extreme_y_test, extreme_y_test), axis=1)\n",
    "extreme_y_test = np.concatenate((extreme_y_test, extreme_y_test), axis=1)\n",
    "extreme_y_test = np.concatenate((extreme_y_test, extreme_y_test), axis=1)\n",
    "extreme_y_test.shape"
   ]
  },
  {
   "cell_type": "markdown",
   "metadata": {},
   "source": [
    "## Coding wide-n-deep with keras"
   ]
  },
  {
   "cell_type": "code",
   "execution_count": null,
   "metadata": {},
   "outputs": [
    {
     "name": "stdout",
     "output_type": "stream",
     "text": [
      "Train on 3904 samples, validate on 976 samples\n",
      "Epoch 1/10\n",
      "3904/3904 [==============================] - 22s 6ms/step - loss: 1398.1033 - acc: 0.0000e+00 - val_loss: 1407.1631 - val_acc: 0.0000e+00\n",
      "Epoch 2/10\n",
      "3904/3904 [==============================] - 18s 5ms/step - loss: 1329.0627 - acc: 0.0036 - val_loss: 1335.6464 - val_acc: 0.0041\n",
      "Epoch 3/10\n",
      "3904/3904 [==============================] - 18s 5ms/step - loss: 1258.5543 - acc: 0.0020 - val_loss: 1291.5097 - val_acc: 0.0000e+00\n",
      "Epoch 4/10\n",
      "3904/3904 [==============================] - 18s 5ms/step - loss: 1208.5334 - acc: 7.6844e-04 - val_loss: 1258.6562 - val_acc: 0.0000e+00\n",
      "Epoch 5/10\n",
      "3904/3904 [==============================] - 18s 5ms/step - loss: 1161.7479 - acc: 0.0015 - val_loss: 1234.7146 - val_acc: 0.0000e+00\n",
      "Epoch 6/10\n",
      "3904/3904 [==============================] - 18s 5ms/step - loss: 1124.3823 - acc: 0.0018 - val_loss: 1238.5021 - val_acc: 0.0000e+00\n",
      "Epoch 7/10\n",
      "3904/3904 [==============================] - 18s 5ms/step - loss: 1092.7718 - acc: 0.0036 - val_loss: 1231.2147 - val_acc: 0.0041\n",
      "Epoch 8/10\n",
      "3904/3904 [==============================] - 18s 5ms/step - loss: 1062.4918 - acc: 0.0041 - val_loss: 1227.2887 - val_acc: 0.0010\n",
      "Epoch 9/10\n",
      "3904/3904 [==============================] - 19s 5ms/step - loss: 1031.6325 - acc: 0.0036 - val_loss: 1223.6106 - val_acc: 0.0010\n",
      "Epoch 10/10\n",
      "3500/3904 [=========================>....] - ETA: 1s - loss: 1009.9177 - acc: 0.0083"
     ]
    }
   ],
   "source": [
    "from scipy.io import loadmat\n",
    "\n",
    "from keras.models import Sequential, Model\n",
    "from keras.layers import Input, Dense, concatenate\n",
    "from keras.optimizers import Adam\n",
    "\n",
    "\n",
    "# dataset\n",
    "dataset = \"bibtex\"\n",
    "data_dir = 'data/{}'.format(dataset)\n",
    "\n",
    "def load_input():\n",
    "    data = list(loadmat(data_dir + '/input.mat')['data'][0][0])\n",
    "    return data[:4]\n",
    "\n",
    "\n",
    "class Deep:\n",
    "    def __init__(self, batch_size, epochs, learning_rate, input_dim, output_dim):\n",
    "        self.learning_rate = learning_rate\n",
    "        self.epochs = epochs\n",
    "        self.batch_size = batch_size\n",
    "        self.input_dim = input_dim\n",
    "        self.output_dim = output_dim\n",
    "        self.model = self.classifier()\n",
    "\n",
    "    def classifier(self):\n",
    "        model = Sequential()\n",
    "        model.add(Dense(5000, activation='relu', input_dim=self.input_dim))\n",
    "        model.add(Dense(2500, activation='relu'))\n",
    "        model.add(Dense(500, activation='relu'))\n",
    "        model.add(Dense(50, activation='relu'))\n",
    "        model.add(Dense(self.output_dim, activation='softmax'))\n",
    "\n",
    "        optimizer = Adam(lr=self.learning_rate, beta_1=0.9, beta_2=0.999)\n",
    "        model.compile(loss='categorical_crossentropy',\n",
    "                      optimizer=optimizer,\n",
    "                      metrics=['accuracy'])\n",
    "        return model\n",
    "\n",
    "    def fit(self, x, y):\n",
    "        self.model.fit(x, y, epochs=self.epochs, batch_size=self.batch_size, validation_split=0.2)\n",
    "\n",
    "    def print_performance(self, x, y):\n",
    "        performance_test = self.model.evaluate(x, y, batch_size=self.batch_size)\n",
    "        print('Test Loss and Accuracy ->', performance_test)\n",
    "\n",
    "\n",
    "class Wide:\n",
    "    def __init__(self, batch_size, epochs, learning_rate, input_dim, output_dim):\n",
    "        self.learning_rate = learning_rate\n",
    "        self.epochs = epochs\n",
    "        self.batch_size = batch_size\n",
    "        self.input_dim = input_dim\n",
    "        self.output_dim = output_dim\n",
    "        self.model = self.classifier()\n",
    "\n",
    "    def classifier(self):\n",
    "        model = Sequential()\n",
    "        model.add(Dense(self.output_dim, activation='softmax', input_dim=self.input_dim))\n",
    "\n",
    "        optimizer = Adam(lr=self.learning_rate, beta_1=0.9, beta_2=0.999)\n",
    "        model.compile(loss='categorical_crossentropy',\n",
    "                      optimizer=optimizer,\n",
    "                      metrics=['accuracy'])\n",
    "        return model\n",
    "\n",
    "    def fit(self, x, y):\n",
    "        self.model.fit(x, y, epochs=self.epochs, batch_size=self.batch_size, validation_split=0.2)\n",
    "\n",
    "    def print_performance(self, x, y):\n",
    "        performance_test = self.model.evaluate(x, y, batch_size=self.batch_size)\n",
    "        print('Test Loss and Accuracy ->', performance_test)\n",
    "\n",
    "\n",
    "class WideAndDeep:\n",
    "    def __init__(self, batch_size, epochs, learning_rate, input_dim, output_dim):\n",
    "        self.learning_rate = learning_rate\n",
    "        self.epochs = epochs\n",
    "        self.batch_size = batch_size\n",
    "        self.input_dim = input_dim\n",
    "        self.output_dim = output_dim\n",
    "        self.model = self.classifier()\n",
    "\n",
    "    def classifier(self):\n",
    "        optimizer = Adam(lr=self.learning_rate, beta_1=0.9, beta_2=0.999)\n",
    "\n",
    "        # wide part\n",
    "        wide = Input(shape=(self.input_dim,))\n",
    "\n",
    "        # deep part\n",
    "        deep_input = Input(shape=(self.input_dim,))\n",
    "        deep = Dense(5000, activation='relu')(deep_input)\n",
    "        deep = Dense(2500, activation='relu')(deep)\n",
    "        deep = Dense(500, activation='relu')(deep)\n",
    "        deep = Dense(50, activation='relu')(deep)\n",
    "\n",
    "        # concatenate : wide and deep\n",
    "        wide_n_deep = concatenate([wide, deep])\n",
    "        wide_n_deep = Dense(self.output_dim, activation='softmax')(wide_n_deep)\n",
    "        model = Model(inputs=[wide, deep_input], outputs=wide_n_deep)\n",
    "        model.compile(loss='categorical_crossentropy',\n",
    "                      optimizer=optimizer,\n",
    "                      metrics=['accuracy'])\n",
    "        return model\n",
    "\n",
    "    def fit(self, wide_x, deep_x, y):\n",
    "        self.model.fit([wide_x, deep_x], y, epochs=self.epochs, batch_size=self.batch_size, validation_split=0.2)\n",
    "\n",
    "    def print_performance(self, wide_x, deep_x, y):\n",
    "        performance_test = self.model.evaluate([wide_x, deep_x], y, batch_size=self.batch_size)\n",
    "        print('Test Loss and Accuracy ->', performance_test)\n",
    "\n",
    "\n",
    "def main(model_param):\n",
    "    # prepare dataset\n",
    "    x_train, y_train, x_test, y_test = load_input()\n",
    "    x_train = x_train.toarray()\n",
    "    y_train = y_train.toarray()\n",
    "    x_test = x_test.toarray()\n",
    "    y_test = y_test.toarray()\n",
    "\n",
    "    # extreme test\n",
    "    extreme_x_train = np.concatenate((x_train, x_train), axis=1)\n",
    "    extreme_x_train = np.concatenate((extreme_x_train, extreme_x_train), axis=1)\n",
    "    extreme_x_train = np.concatenate((extreme_x_train, extreme_x_train), axis=1)\n",
    "    extreme_x_test = np.concatenate((x_test, x_test), axis=1)\n",
    "    extreme_x_test = np.concatenate((extreme_x_test, extreme_x_test), axis=1)\n",
    "    extreme_x_test = np.concatenate((extreme_x_test, extreme_x_test), axis=1)\n",
    "    extreme_y_train = np.concatenate((y_train, y_train), axis=1)\n",
    "    extreme_y_train = np.concatenate((extreme_y_train, extreme_y_train), axis=1)\n",
    "    extreme_y_train = np.concatenate((extreme_y_train, extreme_y_train), axis=1)\n",
    "    extreme_y_train = np.concatenate((extreme_y_train, extreme_y_train), axis=1)\n",
    "    extreme_y_train = np.concatenate((extreme_y_train, extreme_y_train), axis=1)\n",
    "    extreme_y_train = np.concatenate((extreme_y_train, extreme_y_train), axis=1)\n",
    "    extreme_y_test = np.concatenate((y_test, y_test), axis=1)\n",
    "    extreme_y_test = np.concatenate((extreme_y_test, extreme_y_test), axis=1)\n",
    "    extreme_y_test = np.concatenate((extreme_y_test, extreme_y_test), axis=1)\n",
    "    extreme_y_test = np.concatenate((extreme_y_test, extreme_y_test), axis=1)\n",
    "    extreme_y_test = np.concatenate((extreme_y_test, extreme_y_test), axis=1)\n",
    "    extreme_y_test = np.concatenate((extreme_y_test, extreme_y_test), axis=1)\n",
    "\n",
    "    x_train = extreme_x_train\n",
    "    y_train = extreme_y_train\n",
    "    x_test = extreme_x_test\n",
    "    y_test = extreme_y_test\n",
    "\n",
    "    # prepare hyper parameter\n",
    "    batch_size = 500\n",
    "    epochs = 10\n",
    "    learning_rate = 0.001\n",
    "    input_dim = x_train.shape[1]\n",
    "    output_dim = y_train.shape[1]\n",
    "    \n",
    "\n",
    "    if model_param == \"deep\":\n",
    "        deep = Deep(batch_size, epochs, learning_rate, input_dim, output_dim)\n",
    "        deep.fit(x_train, y_train)\n",
    "        deep.print_performance(x_test, y_test)\n",
    "    elif model_param == 'wide':\n",
    "        wide = Wide(batch_size, epochs, learning_rate, input_dim, output_dim)\n",
    "        wide.fit(x_train, y_train)\n",
    "        wide.print_performance(x_test, y_test)\n",
    "    else:\n",
    "        wide_n_deep = WideAndDeep(batch_size, epochs, learning_rate, input_dim, output_dim)\n",
    "        wide_n_deep.fit(x_train, x_train, y_train)\n",
    "        wide_n_deep.print_performance(x_test, x_test, y_test)\n",
    "\n",
    "        # prediction for individual and y_column rank\n",
    "        x_predict_test = x_test[np.newaxis, 0, :]\n",
    "        y_predict_test = y_test[0]\n",
    "        result = wide_n_deep.model.predict([x_predict_test, x_predict_test])\n",
    "        print('result predicted:', result)\n",
    "        print('result real:', y_predict_test)\n",
    "\n",
    "        # select top 10 y's column index in result(softmax prediction)\n",
    "        top_10_y_column = result[0].argsort()[-10:][::-1].tolist()\n",
    "        print('result top 10:', top_10_y_column)\n",
    "\n",
    "\n",
    "if __name__ == '__main__':\n",
    "    main('deep')"
   ]
  },
  {
   "cell_type": "markdown",
   "metadata": {},
   "source": [
    "## result\n",
    "- extreme sparse classification is working\n",
    "- but wide and deep is too slow\n",
    "- deep, wide is little slow\n",
    "- so, X features must be reduction"
   ]
  },
  {
   "cell_type": "code",
   "execution_count": null,
   "metadata": {},
   "outputs": [],
   "source": []
  }
 ],
 "metadata": {
  "kernelspec": {
   "display_name": "Python 3",
   "language": "python",
   "name": "python3"
  },
  "language_info": {
   "codemirror_mode": {
    "name": "ipython",
    "version": 3
   },
   "file_extension": ".py",
   "mimetype": "text/x-python",
   "name": "python",
   "nbconvert_exporter": "python",
   "pygments_lexer": "ipython3",
   "version": "3.6.6"
  }
 },
 "nbformat": 4,
 "nbformat_minor": 2
}
