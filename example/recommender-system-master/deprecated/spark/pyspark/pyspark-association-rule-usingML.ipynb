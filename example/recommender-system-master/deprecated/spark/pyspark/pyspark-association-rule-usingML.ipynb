{
 "cells": [
  {
   "cell_type": "code",
   "execution_count": null,
   "metadata": {
    "collapsed": true
   },
   "outputs": [],
   "source": [
    "from pyspark import SparkContext\n",
    "from pyspark.sql import SQLContext\n",
    "from pyspark.sql import Window\n",
    "from pyspark.sql.types import *\n",
    "from pyspark.sql import functions as F # same as numpy\n",
    "from pyspark.ml.fpm import FPGrowth\n",
    "\n",
    "sc = SparkContext()\n",
    "sqlContext = SQLContext(sc)\n",
    "inputfile = '{your_transaction_data_path}'"
   ]
  },
  {
   "cell_type": "markdown",
   "metadata": {},
   "source": [
    "## Data Import"
   ]
  },
  {
   "cell_type": "markdown",
   "metadata": {},
   "source": [
    "- item, customer id의 중복을 제거한 transaction 데이터로 정리"
   ]
  },
  {
   "cell_type": "code",
   "execution_count": null,
   "metadata": {
    "collapsed": true
   },
   "outputs": [],
   "source": [
    "df = sqlContext.read.format('com.databricks.spark.csv').options(header='true').load(inputfile)\n",
    "df_nodup = df.select('item_id', 'customer_id').dropDuplicates()"
   ]
  },
  {
   "cell_type": "markdown",
   "metadata": {},
   "source": [
    "## Frequent Pattern Mining(Association Rule)을 위한 Data Reshaping"
   ]
  },
  {
   "cell_type": "markdown",
   "metadata": {},
   "source": [
    "- (customerid : itemids) --> 109931 : [112312, 144231 ...] 의 형태로 Dataframe 정리"
   ]
  },
  {
   "cell_type": "code",
   "execution_count": null,
   "metadata": {
    "collapsed": true
   },
   "outputs": [],
   "source": [
    "df_nodup = df_nodup.groupby(\"customer_id\").agg(F.collect_list(\"item_id\"))\n",
    "df_nodup = df_nodup.withColumnRenamed(\"collect_list(item_id)\", \"items\")\n",
    "df_nodup = df_nodup.where(F.size(F.col(\"items\")) > 1)"
   ]
  },
  {
   "cell_type": "markdown",
   "metadata": {},
   "source": [
    "## Association Rule의 수치 계산"
   ]
  },
  {
   "cell_type": "markdown",
   "metadata": {},
   "source": [
    "- 상품 to 상품의 confidence 구하기"
   ]
  },
  {
   "cell_type": "code",
   "execution_count": null,
   "metadata": {
    "collapsed": true
   },
   "outputs": [],
   "source": [
    "# Apriori Rule의 cutoff value를 파라미터로 입력해준다. \n",
    "fp = FPGrowth(itemsCol=\"items\", minSupport=0.0001, minConfidence=0.0001)\n",
    "fpm = fp.fit(df_nodup)\n",
    "\n",
    "# 선행절과 후행절의 offset을 1로 지정하여, 1개의 상품 to 상품의 연관규칙과 confidence를 찾는 예시\n",
    "result_confidence = fpm.associationRules\n",
    "result_confidence = result_confidence.where(F.size(F.col(\"antecedent\")) == 1)\n",
    "result_confidence = result_confidence.where(F.size(F.col(\"consequent\")) == 1)\n",
    "\n",
    "join_udf = F.udf(lambda x: \",\".join(x))\n",
    "result_confidence = result_confidence.withColumn(\"antecedent\", join_udf(F.col(\"antecedent\")))\n",
    "result_confidence = result_confidence.withColumn(\"consequent\", join_udf(F.col(\"consequent\")))\n",
    "result_confidence = result_confidence.withColumnRenamed(\"antecedent\", \"f_item\")\n",
    "result_confidence = result_confidence.withColumnRenamed(\"consequent\", \"n_item\")"
   ]
  },
  {
   "cell_type": "markdown",
   "metadata": {},
   "source": [
    "- 상품 to 상품의 support, confience 구하기"
   ]
  },
  {
   "cell_type": "code",
   "execution_count": null,
   "metadata": {
    "collapsed": true
   },
   "outputs": [],
   "source": [
    "# Set의 빈도수 체크\n",
    "base_count = fpm.freqItemsets.count()\n",
    "\n",
    "# size가 2인 set의 support를 계산 (상품 to 상품 계산에 활용)\n",
    "result_support = fpm.freqItemsets\n",
    "result_support = result_support.where(F.size(F.col(\"items\")) == 2)\n",
    "result_support = result_support.withColumn('support', result_support['freq'] / base_count)\n",
    "\n",
    "# 위에서 구한 confidence 정보와 support 계산 결과를 left join하여 하나의 result로\n",
    "cond = [result_confidence.f_item == result_support.items[0], result_confidence.n_item == result_support.items[1]]\n",
    "result_confidence.join(result_support, cond, 'inner').select('f_item','n_item','confidence','support').show(5)"
   ]
  },
  {
   "cell_type": "code",
   "execution_count": null,
   "metadata": {
    "collapsed": true
   },
   "outputs": [],
   "source": [
    "# 결과는 아래와 같은 형태로 나옴\n",
    "+--------+--------+-------------------+--------------------+\n",
    "| f_item | n_item |         confidence|             support|\n",
    "+--------+--------+-------------------+--------------------+\n",
    "|29631069|16563825|0.12121212121212122|4.695386782486207E-4|\n",
    "|29652938|31077931|                0.4|2.347693391243103...|\n",
    "|30184064|30020144|0.06060606060606061|2.347693391243103...|\n",
    "|30513164|29318926|                0.5|2.347693391243103...|\n",
    "|31082011|31090768|0.08333333333333333|2.347693391243103...|\n",
    "+--------+--------+-------------------+--------------------+"
   ]
  }
 ],
 "metadata": {
  "kernelspec": {
   "display_name": "Python 3",
   "language": "python",
   "name": "python3"
  },
  "language_info": {
   "codemirror_mode": {
    "name": "ipython",
    "version": 3
   },
   "file_extension": ".py",
   "mimetype": "text/x-python",
   "name": "python",
   "nbconvert_exporter": "python",
   "pygments_lexer": "ipython3",
   "version": "3.6.2"
  }
 },
 "nbformat": 4,
 "nbformat_minor": 2
}
