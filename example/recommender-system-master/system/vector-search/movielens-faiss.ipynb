{
 "cells": [
  {
   "cell_type": "markdown",
   "metadata": {},
   "source": [
    "## Pre-test"
   ]
  },
  {
   "cell_type": "code",
   "execution_count": 445,
   "metadata": {},
   "outputs": [],
   "source": [
    "import matplotlib.pyplot as plt"
   ]
  },
  {
   "cell_type": "code",
   "execution_count": 1,
   "metadata": {},
   "outputs": [],
   "source": [
    "import numpy as np\n",
    "m_dimension = 5\n",
    "m_rows = 20\n",
    "m_x = np.random.randint(5, size=(m_rows, m_dimension))\n",
    "\n",
    "u_dimension = 5\n",
    "u_rows = 7\n",
    "u_x = np.random.randint(5, size=(u_rows, u_dimension))"
   ]
  },
  {
   "cell_type": "code",
   "execution_count": 2,
   "metadata": {},
   "outputs": [
    {
     "data": {
      "text/plain": [
       "(20, 5)"
      ]
     },
     "execution_count": 2,
     "metadata": {},
     "output_type": "execute_result"
    }
   ],
   "source": [
    "m_x.shape"
   ]
  },
  {
   "cell_type": "code",
   "execution_count": 3,
   "metadata": {},
   "outputs": [
    {
     "data": {
      "text/plain": [
       "(7, 5)"
      ]
     },
     "execution_count": 3,
     "metadata": {},
     "output_type": "execute_result"
    }
   ],
   "source": [
    "u_x.shape"
   ]
  },
  {
   "cell_type": "code",
   "execution_count": 4,
   "metadata": {},
   "outputs": [
    {
     "data": {
      "text/plain": [
       "(7, 20)"
      ]
     },
     "execution_count": 4,
     "metadata": {},
     "output_type": "execute_result"
    }
   ],
   "source": [
    "r_x = np.dot(u_x, m_x.T)\n",
    "r_x.shape"
   ]
  },
  {
   "cell_type": "code",
   "execution_count": 5,
   "metadata": {},
   "outputs": [],
   "source": [
    "import faiss\n",
    "m_index = faiss.IndexFlatIP(m_dimension)\n",
    "m_index.add(m_x.astype('float32'))"
   ]
  },
  {
   "cell_type": "code",
   "execution_count": 6,
   "metadata": {},
   "outputs": [],
   "source": [
    "rating, prefer_m_indexs = m_index.search(u_x[0].reshape(-1, u_dimension).astype('float32'), 5)"
   ]
  },
  {
   "cell_type": "code",
   "execution_count": 7,
   "metadata": {},
   "outputs": [
    {
     "data": {
      "text/plain": [
       "array([[28., 27., 26., 25., 23.]], dtype=float32)"
      ]
     },
     "execution_count": 7,
     "metadata": {},
     "output_type": "execute_result"
    }
   ],
   "source": [
    "rating"
   ]
  },
  {
   "cell_type": "code",
   "execution_count": 8,
   "metadata": {},
   "outputs": [
    {
     "data": {
      "text/plain": [
       "array([[14,  2,  5,  4,  1]])"
      ]
     },
     "execution_count": 8,
     "metadata": {},
     "output_type": "execute_result"
    }
   ],
   "source": [
    "prefer_m_indexs"
   ]
  },
  {
   "cell_type": "code",
   "execution_count": 9,
   "metadata": {},
   "outputs": [
    {
     "data": {
      "text/plain": [
       "18"
      ]
     },
     "execution_count": 9,
     "metadata": {},
     "output_type": "execute_result"
    }
   ],
   "source": [
    "r_x[0][11]"
   ]
  },
  {
   "cell_type": "markdown",
   "metadata": {},
   "source": [
    "## MovieLens Dataset"
   ]
  },
  {
   "cell_type": "code",
   "execution_count": 448,
   "metadata": {},
   "outputs": [],
   "source": [
    "import pandas as pd\n",
    "\n",
    "rating_url = 'https://raw.githubusercontent.com/yoonkt200/python-data-analysis/master/data/ml-1m/ratings.dat'\n",
    "rating_df = pd.io.parsers.read_csv(rating_url, names=['user_id', 'movie_id', 'rating', 'time'], delimiter='::', engine ='python')\n",
    "\n",
    "movie_url = 'https://raw.githubusercontent.com/yoonkt200/python-data-analysis/master/data/ml-1m/movies.dat'\n",
    "movie_df = pd.io.parsers.read_csv(movie_url, names=['movie_id', 'title', 'genre'], delimiter='::', engine ='python', encoding='ISO-8859-1')\n",
    "\n",
    "user_url = 'https://raw.githubusercontent.com/yoonkt200/python-data-analysis/master/data/ml-1m/users.dat'\n",
    "user_df = pd.io.parsers.read_csv(user_url, names=['user_id', 'gender', 'age', 'occupation', 'zipcode'], delimiter='::', engine ='python')"
   ]
  },
  {
   "cell_type": "code",
   "execution_count": 449,
   "metadata": {},
   "outputs": [
    {
     "name": "stdout",
     "output_type": "stream",
     "text": [
      "user: 6040\n",
      "movie: 3706\n"
     ]
    }
   ],
   "source": [
    "print(\"user:\", len(rating_df['user_id'].unique()))\n",
    "print(\"movie:\", len(rating_df['movie_id'].unique()))"
   ]
  },
  {
   "cell_type": "markdown",
   "metadata": {},
   "source": [
    "-----\n",
    "#### 1) Data Preprocessing"
   ]
  },
  {
   "cell_type": "code",
   "execution_count": 450,
   "metadata": {},
   "outputs": [
    {
     "data": {
      "text/plain": [
       "975768738"
      ]
     },
     "execution_count": 450,
     "metadata": {},
     "output_type": "execute_result"
    }
   ],
   "source": [
    "rating_df['time'].quantile(q=0.8, interpolation='nearest')"
   ]
  },
  {
   "cell_type": "code",
   "execution_count": 451,
   "metadata": {},
   "outputs": [],
   "source": [
    "train_rating_df = rating_df[rating_df['time'] < 975768738][['user_id', 'movie_id', 'rating']]\n",
    "test_rating_df = rating_df[rating_df['time'] >= 975768738][['user_id', 'movie_id', 'rating']]"
   ]
  },
  {
   "cell_type": "code",
   "execution_count": 452,
   "metadata": {},
   "outputs": [],
   "source": [
    "from surprise import Dataset, Reader\n",
    "\n",
    "reader = Reader(rating_scale=(1, 5))\n",
    "data = Dataset.load_from_df(df=train_rating_df, reader=reader)\n",
    "train_data = data.build_full_trainset()"
   ]
  },
  {
   "cell_type": "markdown",
   "metadata": {},
   "source": [
    "-----"
   ]
  },
  {
   "cell_type": "markdown",
   "metadata": {},
   "source": [
    "### 1. Latent Factor Model\n",
    "#### 1) Default indexing"
   ]
  },
  {
   "cell_type": "code",
   "execution_count": 453,
   "metadata": {},
   "outputs": [
    {
     "data": {
      "text/plain": [
       "<surprise.prediction_algorithms.matrix_factorization.SVD at 0x7fa0aad42700>"
      ]
     },
     "execution_count": 453,
     "metadata": {},
     "output_type": "execute_result"
    }
   ],
   "source": [
    "from surprise import SVD\n",
    "from surprise import accuracy\n",
    "\n",
    "algo = SVD(n_factors=50)\n",
    "algo.fit(train_data)"
   ]
  },
  {
   "cell_type": "code",
   "execution_count": 454,
   "metadata": {},
   "outputs": [],
   "source": [
    "u_dimension = algo.pu.shape[0]\n",
    "m_dimension = algo.qi.shape[0]"
   ]
  },
  {
   "cell_type": "code",
   "execution_count": 455,
   "metadata": {},
   "outputs": [],
   "source": [
    "m_index = faiss.IndexFlatIP(algo.n_factors)\n",
    "m_index.add(algo.qi.astype('float32'))"
   ]
  },
  {
   "cell_type": "code",
   "execution_count": 456,
   "metadata": {},
   "outputs": [],
   "source": [
    "rating, prefer_m_indexs = m_index.search(algo.pu[0].reshape(-1, algo.n_factors).astype('float32'), 5)"
   ]
  },
  {
   "cell_type": "code",
   "execution_count": 457,
   "metadata": {},
   "outputs": [
    {
     "data": {
      "text/plain": [
       "array([[0.3983068 , 0.34619325, 0.3440023 , 0.3175459 , 0.31554127]],\n",
       "      dtype=float32)"
      ]
     },
     "execution_count": 457,
     "metadata": {},
     "output_type": "execute_result"
    }
   ],
   "source": [
    "rating"
   ]
  },
  {
   "cell_type": "code",
   "execution_count": 458,
   "metadata": {},
   "outputs": [
    {
     "data": {
      "text/plain": [
       "array([[ 625,  817, 1268,  849,   53]])"
      ]
     },
     "execution_count": 458,
     "metadata": {},
     "output_type": "execute_result"
    }
   ],
   "source": [
    "prefer_m_indexs  # SVD inner indexed ids"
   ]
  },
  {
   "cell_type": "markdown",
   "metadata": {},
   "source": [
    "-----\n",
    "#### 2) Indexing with ids"
   ]
  },
  {
   "cell_type": "code",
   "execution_count": 459,
   "metadata": {},
   "outputs": [],
   "source": [
    "movie_ids = []\n",
    "for inner_movie_id in algo.trainset.all_items():\n",
    "    raw_movie_id = algo.trainset.to_raw_iid(iiid=inner_movie_id)\n",
    "    movie_ids.append(raw_movie_id)"
   ]
  },
  {
   "cell_type": "code",
   "execution_count": 460,
   "metadata": {},
   "outputs": [],
   "source": [
    "m_index = faiss.IndexFlatIP(algo.n_factors)\n",
    "m_index = faiss.IndexIDMap2(m_index)\n",
    "m_index.add_with_ids(algo.qi.astype('float32'), np.array(movie_ids))"
   ]
  },
  {
   "cell_type": "code",
   "execution_count": 461,
   "metadata": {},
   "outputs": [],
   "source": [
    "inner_user_id = algo.trainset.to_inner_uid(635)  # userid 635인 유저의 matrix index\n",
    "user_latent_vector = algo.pu[inner_user_id].reshape(-1, algo.n_factors).astype('float32')  # 해당 유저의 latent vector\n",
    "rating, prefer_m_ids = m_index.search(user_latent_vector, 5)"
   ]
  },
  {
   "cell_type": "code",
   "execution_count": 462,
   "metadata": {},
   "outputs": [
    {
     "data": {
      "text/plain": [
       "array([[0.3983068 , 0.34619325, 0.3440023 , 0.3175459 , 0.31554127]],\n",
       "      dtype=float32)"
      ]
     },
     "execution_count": 462,
     "metadata": {},
     "output_type": "execute_result"
    }
   ],
   "source": [
    "rating"
   ]
  },
  {
   "cell_type": "code",
   "execution_count": 463,
   "metadata": {},
   "outputs": [
    {
     "data": {
      "text/plain": [
       "array([[2710,  671, 1914, 2393,  260]])"
      ]
     },
     "execution_count": 463,
     "metadata": {},
     "output_type": "execute_result"
    }
   ],
   "source": [
    "prefer_m_ids  # real movie ids"
   ]
  },
  {
   "cell_type": "markdown",
   "metadata": {},
   "source": [
    "-----"
   ]
  },
  {
   "cell_type": "markdown",
   "metadata": {},
   "source": [
    "#### 3) Top k MAP"
   ]
  },
  {
   "cell_type": "code",
   "execution_count": 464,
   "metadata": {},
   "outputs": [],
   "source": [
    "user_watch_movielist_dict = train_rating_df.groupby('user_id')['movie_id'].apply(lambda x : set(x.tolist())).to_dict()"
   ]
  },
  {
   "cell_type": "code",
   "execution_count": 465,
   "metadata": {},
   "outputs": [],
   "source": [
    "user_recommendations = {}\n",
    "for user in test_rating_df['user_id'].unique():\n",
    "    try:\n",
    "        inner_user_id = algo.trainset.to_inner_uid(user)\n",
    "        user_latent_vector = algo.pu[inner_user_id].reshape(-1, algo.n_factors).astype('float32')\n",
    "        _, prefer_m_ids = m_index.search(user_latent_vector, 200)\n",
    "        user_recommendations[user] = prefer_m_ids.reshape(-1,).tolist()\n",
    "    except:\n",
    "#         print(\"User\", user, \"has no history. exclude for recommendation\")\n",
    "        continue"
   ]
  },
  {
   "cell_type": "code",
   "execution_count": 466,
   "metadata": {},
   "outputs": [
    {
     "name": "stdout",
     "output_type": "stream",
     "text": [
      "min rec result no: 25\n"
     ]
    }
   ],
   "source": [
    "# except movie id already watched\n",
    "min_rec_no = 200\n",
    "for user in user_recommendations:\n",
    "    user_recommendations[user] = [movie_id for movie_id in user_recommendations[user] if movie_id not in user_watch_movielist_dict[user]]\n",
    "    rec_no = len(user_recommendations[user])\n",
    "    if min_rec_no > rec_no:\n",
    "        min_rec_no = rec_no\n",
    "print(\"min rec result no:\", min_rec_no)"
   ]
  },
  {
   "cell_type": "code",
   "execution_count": 467,
   "metadata": {},
   "outputs": [],
   "source": [
    "def get_map_topk(user_recommendations, user_testset, k):\n",
    "    user_metric = []\n",
    "    for user in user_recommendations:\n",
    "        test_list = user_testset[user]\n",
    "        reco_list = user_recommendations[user][:k]\n",
    "        user_metric.append((user, reco_list, test_list))\n",
    "  \n",
    "    precision_list = []\n",
    "    for user in user_metric:\n",
    "        predictive_values = user[1]\n",
    "        actual_values = user[2]\n",
    "        tp = [pv for pv in predictive_values if pv in actual_values]\n",
    "        precision = len(tp) / len(predictive_values)\n",
    "        precision_list.append(precision)\n",
    "    return sum(precision_list) / len(precision_list)"
   ]
  },
  {
   "cell_type": "code",
   "execution_count": 468,
   "metadata": {},
   "outputs": [
    {
     "data": {
      "text/plain": [
       "0.11981627296587906"
      ]
     },
     "execution_count": 468,
     "metadata": {},
     "output_type": "execute_result"
    }
   ],
   "source": [
    "user_testset = test_rating_df.groupby('user_id')['movie_id'].apply(lambda x: set(x.tolist())).to_dict()\n",
    "get_map_topk(user_recommendations, user_testset, 20)"
   ]
  },
  {
   "cell_type": "code",
   "execution_count": 469,
   "metadata": {},
   "outputs": [
    {
     "data": {
      "image/png": "[encoded data removed]",
      "text/plain": [
       "<Figure size 432x288 with 1 Axes>"
      ]
     },
     "metadata": {
      "needs_background": "light"
     },
     "output_type": "display_data"
    }
   ],
   "source": [
    "k_param_list = []\n",
    "map_list = []\n",
    "for k in range(5, 100):\n",
    "    map_list.append(get_map_topk(user_recommendations, user_testset, k))\n",
    "    k_param_list.append(k)\n",
    "\n",
    "plt.plot(k_param_list, map_list)\n",
    "plt.title('MAP by top k recommendation')\n",
    "plt.ylabel('MAP', fontsize=12)\n",
    "plt.xlabel('k', fontsize=12)\n",
    "plt.show()"
   ]
  },
  {
   "cell_type": "markdown",
   "metadata": {},
   "source": [
    "-----\n",
    "### 2. DeepMF Model"
   ]
  },
  {
   "cell_type": "markdown",
   "metadata": {},
   "source": [
    "#### 1) Feature Engineering for Vectorize"
   ]
  },
  {
   "cell_type": "markdown",
   "metadata": {},
   "source": [
    "##### [1] User profiling"
   ]
  },
  {
   "cell_type": "code",
   "execution_count": 388,
   "metadata": {},
   "outputs": [
    {
     "data": {
      "text/plain": [
       "20         2096\n",
       "30         1193\n",
       "10         1103\n",
       "50          876\n",
       "40          550\n",
       "outlier     222\n",
       "Name: age_bucket, dtype: int64"
      ]
     },
     "execution_count": 388,
     "metadata": {},
     "output_type": "execute_result"
    }
   ],
   "source": [
    "def age_bucketize(age):\n",
    "    if age == 1:\n",
    "        return 'outlier'\n",
    "    else:\n",
    "        return str(age)[0] + \"0\"\n",
    "\n",
    "user_df['age_bucket'] = user_df['age'].apply(lambda x: age_bucketize(x))\n",
    "user_df['age_bucket'].value_counts()"
   ]
  },
  {
   "cell_type": "code",
   "execution_count": 389,
   "metadata": {},
   "outputs": [
    {
     "name": "stdout",
     "output_type": "stream",
     "text": [
      "{'F': 0, 'M': 1}\n"
     ]
    }
   ],
   "source": [
    "gender_list = user_df['gender'].unique()\n",
    "gender_index = {}\n",
    "for idx, gender in enumerate(gender_list):\n",
    "    gender_index[gender] = idx\n",
    "print(gender_index)"
   ]
  },
  {
   "cell_type": "code",
   "execution_count": 390,
   "metadata": {},
   "outputs": [
    {
     "name": "stdout",
     "output_type": "stream",
     "text": [
      "{'outlier': 0, '50': 1, '20': 2, '40': 3, '30': 4, '10': 5}\n"
     ]
    }
   ],
   "source": [
    "age_list = user_df['age_bucket'].unique()\n",
    "age_index = {}\n",
    "for idx, age in enumerate(age_list):\n",
    "    age_index[age] = idx\n",
    "print(age_index)"
   ]
  },
  {
   "cell_type": "code",
   "execution_count": 391,
   "metadata": {},
   "outputs": [
    {
     "name": "stdout",
     "output_type": "stream",
     "text": [
      "{10: 0, 16: 1, 15: 2, 7: 3, 20: 4, 9: 5, 1: 6, 12: 7, 17: 8, 0: 9, 3: 10, 14: 11, 4: 12, 11: 13, 8: 14, 19: 15, 2: 16, 18: 17, 5: 18, 13: 19, 6: 20}\n"
     ]
    }
   ],
   "source": [
    "occupation_list = user_df['occupation'].unique()\n",
    "occupation_index = {}\n",
    "for idx, occupation in enumerate(occupation_list):\n",
    "    occupation_index[occupation] = idx\n",
    "print(occupation_index)"
   ]
  },
  {
   "cell_type": "markdown",
   "metadata": {},
   "source": [
    "-----\n",
    "##### [2] Movie profiling"
   ]
  },
  {
   "cell_type": "code",
   "execution_count": 392,
   "metadata": {},
   "outputs": [],
   "source": [
    "movie_df['main_genre'] = movie_df['genre'].apply(lambda x: x.split(\"|\")[0])\n",
    "movie_df['parsed_genre'] = movie_df['genre'].apply(lambda x: x.split(\"|\"))\n",
    "movie_df['released_year_area'] = movie_df['title'].apply(lambda x: x[-5:-2]+\"0\")\n",
    "movie_df = movie_df[['movie_id', 'main_genre', 'parsed_genre', 'released_year_area']]"
   ]
  },
  {
   "cell_type": "code",
   "execution_count": 393,
   "metadata": {},
   "outputs": [
    {
     "name": "stdout",
     "output_type": "stream",
     "text": [
      "{'Western': 0, 'Animation': 1, 'Horror': 2, 'Thriller': 3, 'Adventure': 4, 'Drama': 5, 'Documentary': 6, 'Comedy': 7, 'War': 8, 'Romance': 9, 'Musical': 10, 'Mystery': 11, 'Film-Noir': 12, 'Fantasy': 13, 'Sci-Fi': 14, 'Action': 15, 'Crime': 16, \"Children's\": 17}\n"
     ]
    }
   ],
   "source": [
    "unique_genre = set([y for x in movie_df['parsed_genre'].tolist() for y in x])\n",
    "genre_index = {}\n",
    "for idx, genre in enumerate(unique_genre):\n",
    "    genre_index[genre] = idx\n",
    "print(genre_index)"
   ]
  },
  {
   "cell_type": "code",
   "execution_count": 394,
   "metadata": {},
   "outputs": [
    {
     "name": "stdout",
     "output_type": "stream",
     "text": [
      "{'1990': 0, '1970': 1, '1980': 2, '1960': 3, '1930': 4, '1940': 5, '1950': 6, '1920': 7, '1910': 8, '2000': 9}\n"
     ]
    }
   ],
   "source": [
    "year_list = movie_df['released_year_area'].unique()\n",
    "year_index = {}\n",
    "for idx, year in enumerate(year_list):\n",
    "    year_index[year] = idx\n",
    "print(year_index)"
   ]
  },
  {
   "cell_type": "markdown",
   "metadata": {},
   "source": [
    "-----\n",
    "##### [3] Movie embedding (Meta-Prod2Vec)"
   ]
  },
  {
   "cell_type": "code",
   "execution_count": 395,
   "metadata": {},
   "outputs": [],
   "source": [
    "movie_meta_dict = movie_df.set_index('movie_id')[['released_year_area', 'main_genre']].to_dict()"
   ]
  },
  {
   "cell_type": "code",
   "execution_count": 396,
   "metadata": {},
   "outputs": [],
   "source": [
    "user_watch_list = rating_df.groupby('user_id')['movie_id'].apply(lambda x: x.tolist())"
   ]
  },
  {
   "cell_type": "code",
   "execution_count": 397,
   "metadata": {},
   "outputs": [],
   "source": [
    "movie2vec_dataset = []\n",
    "for movie_list in user_watch_list:\n",
    "    meta_list = []\n",
    "    for movie_id in movie_list:\n",
    "        word_meta_1 = \"movie_id:\" + str(movie_id)\n",
    "        word_meta_2 = \"year:\" + movie_meta_dict['released_year_area'][movie_id]\n",
    "        word_meta_3 = \"genre:\" + movie_meta_dict['main_genre'][movie_id]\n",
    "        meta_list.append(word_meta_1)\n",
    "        meta_list.append(word_meta_2)\n",
    "        meta_list.append(word_meta_3)\n",
    "    movie2vec_dataset.append(meta_list)"
   ]
  },
  {
   "cell_type": "code",
   "execution_count": 398,
   "metadata": {},
   "outputs": [],
   "source": [
    "from gensim.models import Word2Vec\n",
    "\n",
    "# model = Word2Vec(movie2vec_dataset,\n",
    "#                  size=100,\n",
    "#                  window=6,\n",
    "#                  sg=1,\n",
    "#                  hs=0,\n",
    "#                  negative=20,\n",
    "#                  min_count=1,\n",
    "#                  iter=20)"
   ]
  },
  {
   "cell_type": "code",
   "execution_count": 399,
   "metadata": {},
   "outputs": [],
   "source": [
    "# model.save('movie2vec.model')"
   ]
  },
  {
   "cell_type": "code",
   "execution_count": 400,
   "metadata": {},
   "outputs": [],
   "source": [
    "model = Word2Vec.load('movie2vec.model')"
   ]
  },
  {
   "cell_type": "code",
   "execution_count": 401,
   "metadata": {},
   "outputs": [
    {
     "name": "stdout",
     "output_type": "stream",
     "text": [
      "3706\n",
      "(3734, 100)\n"
     ]
    }
   ],
   "source": [
    "print(len(rating_df['movie_id'].unique()))\n",
    "print(model.wv.vectors.shape)"
   ]
  },
  {
   "cell_type": "markdown",
   "metadata": {},
   "source": [
    "-----\n",
    "##### [4] Movie Vector Transform"
   ]
  },
  {
   "cell_type": "code",
   "execution_count": 402,
   "metadata": {},
   "outputs": [],
   "source": [
    "movie_df = movie_df[['movie_id', 'released_year_area', 'main_genre', 'parsed_genre']]\n",
    "movie_df['released_year_area'] = movie_df['released_year_area'].apply(lambda x: year_index[x])\n",
    "movie_df['parsed_genre'] = movie_df['parsed_genre'].apply(lambda x: [genre_index[genre] for genre in x])\n",
    "movie_df['main_genre'] = movie_df['main_genre'].apply(lambda x: genre_index[x])"
   ]
  },
  {
   "cell_type": "code",
   "execution_count": 403,
   "metadata": {},
   "outputs": [
    {
     "data": {
      "text/html": [
       "<div>\n",
       "<style scoped>\n",
       "    .dataframe tbody tr th:only-of-type {\n",
       "        vertical-align: middle;\n",
       "    }\n",
       "\n",
       "    .dataframe tbody tr th {\n",
       "        vertical-align: top;\n",
       "    }\n",
       "\n",
       "    .dataframe thead th {\n",
       "        text-align: right;\n",
       "    }\n",
       "</style>\n",
       "<table border=\"1\" class=\"dataframe\">\n",
       "  <thead>\n",
       "    <tr style=\"text-align: right;\">\n",
       "      <th></th>\n",
       "      <th>movie_id</th>\n",
       "      <th>released_year_area</th>\n",
       "      <th>main_genre</th>\n",
       "      <th>parsed_genre</th>\n",
       "    </tr>\n",
       "  </thead>\n",
       "  <tbody>\n",
       "    <tr>\n",
       "      <th>0</th>\n",
       "      <td>1</td>\n",
       "      <td>0</td>\n",
       "      <td>1</td>\n",
       "      <td>[1, 17, 7]</td>\n",
       "    </tr>\n",
       "    <tr>\n",
       "      <th>1</th>\n",
       "      <td>2</td>\n",
       "      <td>0</td>\n",
       "      <td>4</td>\n",
       "      <td>[4, 17, 13]</td>\n",
       "    </tr>\n",
       "    <tr>\n",
       "      <th>2</th>\n",
       "      <td>3</td>\n",
       "      <td>0</td>\n",
       "      <td>7</td>\n",
       "      <td>[7, 9]</td>\n",
       "    </tr>\n",
       "    <tr>\n",
       "      <th>3</th>\n",
       "      <td>4</td>\n",
       "      <td>0</td>\n",
       "      <td>7</td>\n",
       "      <td>[7, 5]</td>\n",
       "    </tr>\n",
       "    <tr>\n",
       "      <th>4</th>\n",
       "      <td>5</td>\n",
       "      <td>0</td>\n",
       "      <td>7</td>\n",
       "      <td>[7]</td>\n",
       "    </tr>\n",
       "  </tbody>\n",
       "</table>\n",
       "</div>"
      ],
      "text/plain": [
       "   movie_id  released_year_area  main_genre parsed_genre\n",
       "0         1                   0           1   [1, 17, 7]\n",
       "1         2                   0           4  [4, 17, 13]\n",
       "2         3                   0           7       [7, 9]\n",
       "3         4                   0           7       [7, 5]\n",
       "4         5                   0           7          [7]"
      ]
     },
     "execution_count": 403,
     "metadata": {},
     "output_type": "execute_result"
    }
   ],
   "source": [
    "movie_df.head()"
   ]
  },
  {
   "cell_type": "code",
   "execution_count": 404,
   "metadata": {},
   "outputs": [],
   "source": [
    "year_area_dimension = len(year_index)\n",
    "genre_dimension = len(genre_index)\n",
    "def get_sparse_vector(movie_id, released_year_area, main_genre, parsed_genre):\n",
    "    year_vector = np.zeros(year_area_dimension)\n",
    "    year_vector[released_year_area] = 1\n",
    "    main_genre_vector = np.zeros(genre_dimension)\n",
    "    main_genre_vector[main_genre] = 1\n",
    "    parsed_genre_vector = np.zeros(genre_dimension)\n",
    "    for genre in parsed_genre:\n",
    "        parsed_genre_vector[genre] = 1\n",
    "    try:\n",
    "        meta2prod_embedding_vector = model.wv.get_vector('movie_id:' + str(movie_id))\n",
    "    except:\n",
    "        meta2prod_embedding_vector = np.zeros(100)\n",
    "    return np.concatenate((year_vector, main_genre_vector, parsed_genre_vector, meta2prod_embedding_vector), axis=None)"
   ]
  },
  {
   "cell_type": "code",
   "execution_count": 405,
   "metadata": {},
   "outputs": [],
   "source": [
    "movie_df['sparse_vector'] = movie_df.apply(lambda x: get_sparse_vector(x['movie_id'], x['released_year_area'], x['main_genre'], x['parsed_genre']), axis=1)"
   ]
  },
  {
   "cell_type": "code",
   "execution_count": 406,
   "metadata": {},
   "outputs": [
    {
     "data": {
      "text/html": [
       "<div>\n",
       "<style scoped>\n",
       "    .dataframe tbody tr th:only-of-type {\n",
       "        vertical-align: middle;\n",
       "    }\n",
       "\n",
       "    .dataframe tbody tr th {\n",
       "        vertical-align: top;\n",
       "    }\n",
       "\n",
       "    .dataframe thead th {\n",
       "        text-align: right;\n",
       "    }\n",
       "</style>\n",
       "<table border=\"1\" class=\"dataframe\">\n",
       "  <thead>\n",
       "    <tr style=\"text-align: right;\">\n",
       "      <th></th>\n",
       "      <th>movie_id</th>\n",
       "      <th>sparse_vector</th>\n",
       "    </tr>\n",
       "  </thead>\n",
       "  <tbody>\n",
       "    <tr>\n",
       "      <th>0</th>\n",
       "      <td>1</td>\n",
       "      <td>[1.0, 0.0, 0.0, 0.0, 0.0, 0.0, 0.0, 0.0, 0.0, ...</td>\n",
       "    </tr>\n",
       "    <tr>\n",
       "      <th>1</th>\n",
       "      <td>2</td>\n",
       "      <td>[1.0, 0.0, 0.0, 0.0, 0.0, 0.0, 0.0, 0.0, 0.0, ...</td>\n",
       "    </tr>\n",
       "    <tr>\n",
       "      <th>2</th>\n",
       "      <td>3</td>\n",
       "      <td>[1.0, 0.0, 0.0, 0.0, 0.0, 0.0, 0.0, 0.0, 0.0, ...</td>\n",
       "    </tr>\n",
       "    <tr>\n",
       "      <th>3</th>\n",
       "      <td>4</td>\n",
       "      <td>[1.0, 0.0, 0.0, 0.0, 0.0, 0.0, 0.0, 0.0, 0.0, ...</td>\n",
       "    </tr>\n",
       "    <tr>\n",
       "      <th>4</th>\n",
       "      <td>5</td>\n",
       "      <td>[1.0, 0.0, 0.0, 0.0, 0.0, 0.0, 0.0, 0.0, 0.0, ...</td>\n",
       "    </tr>\n",
       "  </tbody>\n",
       "</table>\n",
       "</div>"
      ],
      "text/plain": [
       "   movie_id                                      sparse_vector\n",
       "0         1  [1.0, 0.0, 0.0, 0.0, 0.0, 0.0, 0.0, 0.0, 0.0, ...\n",
       "1         2  [1.0, 0.0, 0.0, 0.0, 0.0, 0.0, 0.0, 0.0, 0.0, ...\n",
       "2         3  [1.0, 0.0, 0.0, 0.0, 0.0, 0.0, 0.0, 0.0, 0.0, ...\n",
       "3         4  [1.0, 0.0, 0.0, 0.0, 0.0, 0.0, 0.0, 0.0, 0.0, ...\n",
       "4         5  [1.0, 0.0, 0.0, 0.0, 0.0, 0.0, 0.0, 0.0, 0.0, ..."
      ]
     },
     "execution_count": 406,
     "metadata": {},
     "output_type": "execute_result"
    }
   ],
   "source": [
    "movie_df = movie_df[['movie_id', 'sparse_vector']]\n",
    "movie_df.head()"
   ]
  },
  {
   "cell_type": "markdown",
   "metadata": {},
   "source": [
    "-----\n",
    "##### [5] User Vector Transform"
   ]
  },
  {
   "cell_type": "code",
   "execution_count": 407,
   "metadata": {},
   "outputs": [],
   "source": [
    "user_df = user_df[['user_id', 'gender', 'age_bucket', 'occupation']]\n",
    "user_df['gender'] = user_df['gender'].apply(lambda x: gender_index[x])\n",
    "user_df['age_bucket'] = user_df['age_bucket'].apply(lambda x: age_index[x])\n",
    "user_df['occupation'] = user_df['occupation'].apply(lambda x: occupation_index[x])"
   ]
  },
  {
   "cell_type": "code",
   "execution_count": 408,
   "metadata": {},
   "outputs": [
    {
     "data": {
      "text/html": [
       "<div>\n",
       "<style scoped>\n",
       "    .dataframe tbody tr th:only-of-type {\n",
       "        vertical-align: middle;\n",
       "    }\n",
       "\n",
       "    .dataframe tbody tr th {\n",
       "        vertical-align: top;\n",
       "    }\n",
       "\n",
       "    .dataframe thead th {\n",
       "        text-align: right;\n",
       "    }\n",
       "</style>\n",
       "<table border=\"1\" class=\"dataframe\">\n",
       "  <thead>\n",
       "    <tr style=\"text-align: right;\">\n",
       "      <th></th>\n",
       "      <th>user_id</th>\n",
       "      <th>gender</th>\n",
       "      <th>age_bucket</th>\n",
       "      <th>occupation</th>\n",
       "    </tr>\n",
       "  </thead>\n",
       "  <tbody>\n",
       "    <tr>\n",
       "      <th>0</th>\n",
       "      <td>1</td>\n",
       "      <td>0</td>\n",
       "      <td>0</td>\n",
       "      <td>0</td>\n",
       "    </tr>\n",
       "    <tr>\n",
       "      <th>1</th>\n",
       "      <td>2</td>\n",
       "      <td>1</td>\n",
       "      <td>1</td>\n",
       "      <td>1</td>\n",
       "    </tr>\n",
       "    <tr>\n",
       "      <th>2</th>\n",
       "      <td>3</td>\n",
       "      <td>1</td>\n",
       "      <td>2</td>\n",
       "      <td>2</td>\n",
       "    </tr>\n",
       "    <tr>\n",
       "      <th>3</th>\n",
       "      <td>4</td>\n",
       "      <td>1</td>\n",
       "      <td>3</td>\n",
       "      <td>3</td>\n",
       "    </tr>\n",
       "    <tr>\n",
       "      <th>4</th>\n",
       "      <td>5</td>\n",
       "      <td>1</td>\n",
       "      <td>2</td>\n",
       "      <td>4</td>\n",
       "    </tr>\n",
       "  </tbody>\n",
       "</table>\n",
       "</div>"
      ],
      "text/plain": [
       "   user_id  gender  age_bucket  occupation\n",
       "0        1       0           0           0\n",
       "1        2       1           1           1\n",
       "2        3       1           2           2\n",
       "3        4       1           3           3\n",
       "4        5       1           2           4"
      ]
     },
     "execution_count": 408,
     "metadata": {},
     "output_type": "execute_result"
    }
   ],
   "source": [
    "user_df.head()"
   ]
  },
  {
   "cell_type": "code",
   "execution_count": 409,
   "metadata": {},
   "outputs": [],
   "source": [
    "gender_dimension = len(gender_index)\n",
    "age_dimension = len(age_index)\n",
    "occupation_dimension = len(occupation_index)\n",
    "def get_user_sparse_vector(user_id, gender, age, occupation):\n",
    "    gender_vector = np.zeros(gender_dimension)\n",
    "    gender_vector[gender] = 1\n",
    "    age_vector = np.zeros(age_dimension)\n",
    "    age_vector[age] = 1\n",
    "    occupation_vector = np.zeros(occupation_dimension)\n",
    "    occupation_vector[occupation] = 1\n",
    "    return np.concatenate((gender_vector, age_vector, occupation_vector), axis=None)"
   ]
  },
  {
   "cell_type": "code",
   "execution_count": 410,
   "metadata": {},
   "outputs": [
    {
     "data": {
      "text/html": [
       "<div>\n",
       "<style scoped>\n",
       "    .dataframe tbody tr th:only-of-type {\n",
       "        vertical-align: middle;\n",
       "    }\n",
       "\n",
       "    .dataframe tbody tr th {\n",
       "        vertical-align: top;\n",
       "    }\n",
       "\n",
       "    .dataframe thead th {\n",
       "        text-align: right;\n",
       "    }\n",
       "</style>\n",
       "<table border=\"1\" class=\"dataframe\">\n",
       "  <thead>\n",
       "    <tr style=\"text-align: right;\">\n",
       "      <th></th>\n",
       "      <th>user_id</th>\n",
       "      <th>user_sparse_vector</th>\n",
       "    </tr>\n",
       "  </thead>\n",
       "  <tbody>\n",
       "    <tr>\n",
       "      <th>0</th>\n",
       "      <td>1</td>\n",
       "      <td>[1.0, 0.0, 1.0, 0.0, 0.0, 0.0, 0.0, 0.0, 1.0, ...</td>\n",
       "    </tr>\n",
       "    <tr>\n",
       "      <th>1</th>\n",
       "      <td>2</td>\n",
       "      <td>[0.0, 1.0, 0.0, 1.0, 0.0, 0.0, 0.0, 0.0, 0.0, ...</td>\n",
       "    </tr>\n",
       "    <tr>\n",
       "      <th>2</th>\n",
       "      <td>3</td>\n",
       "      <td>[0.0, 1.0, 0.0, 0.0, 1.0, 0.0, 0.0, 0.0, 0.0, ...</td>\n",
       "    </tr>\n",
       "    <tr>\n",
       "      <th>3</th>\n",
       "      <td>4</td>\n",
       "      <td>[0.0, 1.0, 0.0, 0.0, 0.0, 1.0, 0.0, 0.0, 0.0, ...</td>\n",
       "    </tr>\n",
       "    <tr>\n",
       "      <th>4</th>\n",
       "      <td>5</td>\n",
       "      <td>[0.0, 1.0, 0.0, 0.0, 1.0, 0.0, 0.0, 0.0, 0.0, ...</td>\n",
       "    </tr>\n",
       "  </tbody>\n",
       "</table>\n",
       "</div>"
      ],
      "text/plain": [
       "   user_id                                 user_sparse_vector\n",
       "0        1  [1.0, 0.0, 1.0, 0.0, 0.0, 0.0, 0.0, 0.0, 1.0, ...\n",
       "1        2  [0.0, 1.0, 0.0, 1.0, 0.0, 0.0, 0.0, 0.0, 0.0, ...\n",
       "2        3  [0.0, 1.0, 0.0, 0.0, 1.0, 0.0, 0.0, 0.0, 0.0, ...\n",
       "3        4  [0.0, 1.0, 0.0, 0.0, 0.0, 1.0, 0.0, 0.0, 0.0, ...\n",
       "4        5  [0.0, 1.0, 0.0, 0.0, 1.0, 0.0, 0.0, 0.0, 0.0, ..."
      ]
     },
     "execution_count": 410,
     "metadata": {},
     "output_type": "execute_result"
    }
   ],
   "source": [
    "user_df['user_sparse_vector'] = user_df.apply(lambda x: get_user_sparse_vector(x['user_id'], x['gender'], x['age_bucket'], x['occupation']), axis=1)\n",
    "user_df = user_df[['user_id', 'user_sparse_vector']]\n",
    "user_df.head()"
   ]
  },
  {
   "cell_type": "markdown",
   "metadata": {},
   "source": [
    "#### 2) DeepMF Model"
   ]
  },
  {
   "cell_type": "markdown",
   "metadata": {},
   "source": [
    "-----\n",
    "##### [1] Make Trainset"
   ]
  },
  {
   "cell_type": "code",
   "execution_count": 411,
   "metadata": {},
   "outputs": [
    {
     "data": {
      "text/html": [
       "<div>\n",
       "<style scoped>\n",
       "    .dataframe tbody tr th:only-of-type {\n",
       "        vertical-align: middle;\n",
       "    }\n",
       "\n",
       "    .dataframe tbody tr th {\n",
       "        vertical-align: top;\n",
       "    }\n",
       "\n",
       "    .dataframe thead th {\n",
       "        text-align: right;\n",
       "    }\n",
       "</style>\n",
       "<table border=\"1\" class=\"dataframe\">\n",
       "  <thead>\n",
       "    <tr style=\"text-align: right;\">\n",
       "      <th></th>\n",
       "      <th>user_id</th>\n",
       "      <th>movie_id</th>\n",
       "      <th>rating</th>\n",
       "      <th>time</th>\n",
       "    </tr>\n",
       "  </thead>\n",
       "  <tbody>\n",
       "    <tr>\n",
       "      <th>0</th>\n",
       "      <td>1</td>\n",
       "      <td>1193</td>\n",
       "      <td>5</td>\n",
       "      <td>978300760</td>\n",
       "    </tr>\n",
       "    <tr>\n",
       "      <th>1</th>\n",
       "      <td>1</td>\n",
       "      <td>661</td>\n",
       "      <td>3</td>\n",
       "      <td>978302109</td>\n",
       "    </tr>\n",
       "    <tr>\n",
       "      <th>2</th>\n",
       "      <td>1</td>\n",
       "      <td>914</td>\n",
       "      <td>3</td>\n",
       "      <td>978301968</td>\n",
       "    </tr>\n",
       "    <tr>\n",
       "      <th>3</th>\n",
       "      <td>1</td>\n",
       "      <td>3408</td>\n",
       "      <td>4</td>\n",
       "      <td>978300275</td>\n",
       "    </tr>\n",
       "    <tr>\n",
       "      <th>4</th>\n",
       "      <td>1</td>\n",
       "      <td>2355</td>\n",
       "      <td>5</td>\n",
       "      <td>978824291</td>\n",
       "    </tr>\n",
       "  </tbody>\n",
       "</table>\n",
       "</div>"
      ],
      "text/plain": [
       "   user_id  movie_id  rating       time\n",
       "0        1      1193       5  978300760\n",
       "1        1       661       3  978302109\n",
       "2        1       914       3  978301968\n",
       "3        1      3408       4  978300275\n",
       "4        1      2355       5  978824291"
      ]
     },
     "execution_count": 411,
     "metadata": {},
     "output_type": "execute_result"
    }
   ],
   "source": [
    "rating_df.head()"
   ]
  },
  {
   "cell_type": "code",
   "execution_count": 412,
   "metadata": {},
   "outputs": [],
   "source": [
    "# # 유저가 해당 시점(time)에서 최근 시청한 영화중 4점 이상을 준 리스트만 5개 추출\n",
    "# def recent_5_liked_mid(user_id, movie_id, rating, time):\n",
    "#     subset_df = rating_df[rating_df['user_id']==user_id]\n",
    "#     sorted_df = subset_df.sort_values('time')\n",
    "#     filtered_df = sorted_df[(sorted_df['time'] <= time) & (sorted_df['movie_id'] != movie_id) & (sorted_df['rating'] > 3)]\n",
    "#     filtered_list = filtered_df['movie_id'].tolist()\n",
    "#     if len(filtered_list) > 4:\n",
    "#         return filtered_list[-5:]\n",
    "#     else:\n",
    "#         return filtered_list\n",
    "\n",
    "# # user profile feature\n",
    "# rating_df['recent_5_liked_mid'] = rating_df.apply(lambda x: recent_5_liked_mid(x['user_id'], x['movie_id'], x['rating'],  x['time']), axis=1)"
   ]
  },
  {
   "cell_type": "code",
   "execution_count": 413,
   "metadata": {},
   "outputs": [],
   "source": [
    "# # 시간 단축용\n",
    "# rating_df.to_csv(\"recent_liked_data.csv\", index=False, header=True)"
   ]
  },
  {
   "cell_type": "code",
   "execution_count": 414,
   "metadata": {},
   "outputs": [],
   "source": [
    "import ast\n",
    "\n",
    "rating_df = pd.read_csv(\"recent_liked_data.csv\")\n",
    "rating_df['recent_5_liked_mid'] = rating_df['recent_5_liked_mid'].apply(lambda x: ast.literal_eval(x))"
   ]
  },
  {
   "cell_type": "code",
   "execution_count": 415,
   "metadata": {},
   "outputs": [],
   "source": [
    "# user profile feature: 유저가 최근 본 5개의 좋아하는 영화의 벡터를 average pooling\n",
    "mid_vector_dict = movie_df.set_index('movie_id')[['sparse_vector']].to_dict()\n",
    "mid_vector_dimension = movie_df['sparse_vector'][0].shape[0]\n",
    "def average_pooling(mid_list):\n",
    "    if mid_list == []:\n",
    "        return np.zeros(mid_vector_dimension)\n",
    "    return np.average(np.array([mid_vector_dict['sparse_vector'][mid] for mid in mid_list]), axis=0)\n",
    "\n",
    "rating_df['averaged_context_vector'] = rating_df['recent_5_liked_mid'].apply(lambda x: average_pooling(x))"
   ]
  },
  {
   "cell_type": "code",
   "execution_count": 416,
   "metadata": {},
   "outputs": [],
   "source": [
    "# user input vector 생성 - 앞서 추출한 2개의 profile 벡터를 concatenate\n",
    "uid_vector_dict = user_df.set_index('user_id')[['user_sparse_vector']].to_dict()\n",
    "def concat_user_feature(x):\n",
    "    return np.concatenate((uid_vector_dict['user_sparse_vector'][x['user_id']], x['averaged_context_vector']), axis=None)\n",
    "\n",
    "rating_df['user_input'] = rating_df.apply(lambda x: concat_user_feature(x), axis=1)"
   ]
  },
  {
   "cell_type": "code",
   "execution_count": 417,
   "metadata": {},
   "outputs": [],
   "source": [
    "# movie input vector 생성\n",
    "rating_df['movie_input'] = rating_df['movie_id'].apply(lambda x: mid_vector_dict['sparse_vector'][x])"
   ]
  },
  {
   "cell_type": "code",
   "execution_count": 418,
   "metadata": {},
   "outputs": [],
   "source": [
    "rating_df = rating_df[['user_id', 'movie_id', 'time', 'rating', 'user_input', 'movie_input']]\n",
    "train_rating_df = rating_df[rating_df['time'] < 975768738]\n",
    "test_rating_df = rating_df[rating_df['time'] >= 975768738]"
   ]
  },
  {
   "cell_type": "markdown",
   "metadata": {},
   "source": [
    "-----\n",
    "##### [2] Training"
   ]
  },
  {
   "cell_type": "code",
   "execution_count": 337,
   "metadata": {},
   "outputs": [],
   "source": [
    "from keras.models import Sequential, Model\n",
    "from keras import layers\n",
    "from keras.layers import Input, Dense, concatenate, Flatten\n",
    "from keras.optimizers import Adam"
   ]
  },
  {
   "cell_type": "code",
   "execution_count": 480,
   "metadata": {},
   "outputs": [],
   "source": [
    "class DeepMF:\n",
    "    def __init__(self, learning_rate, epochs, batch_size, user_input_dim, movie_input_dim):\n",
    "        self.learning_rate = learning_rate\n",
    "        self.epochs = epochs\n",
    "        self.batch_size = batch_size\n",
    "        self.user_input_dim = user_input_dim\n",
    "        self.movie_input_dim = movie_input_dim\n",
    "        self.model = self.deep_mf()\n",
    "\n",
    "    def deep_mf(self):\n",
    "        optimizer = Adam(lr=self.learning_rate, beta_1=0.9, beta_2=0.999)\n",
    "\n",
    "        # user input\n",
    "        user_input = layers.Input(shape=(self.user_input_dim,))\n",
    "        user_hidden_layer = layers.Dense(200, activation='relu')(user_input)\n",
    "        user_embedding1 = layers.Dense(100, activation='relu')(user_hidden_layer)\n",
    "        user_embedding = layers.Dense(100, activation='relu')(user_embedding1)\n",
    "        user_vec = layers.Flatten(name='user_vec')(user_embedding)\n",
    "\n",
    "        # movie input\n",
    "        movie_input = layers.Input(shape=(self.movie_input_dim,))\n",
    "        movie_hidden_layer = layers.Dense(200, activation='relu')(movie_input)\n",
    "        movie_embedding1 = layers.Dense(100, activation='relu')(movie_hidden_layer)\n",
    "        movie_embedding = layers.Dense(100, activation='relu')(movie_embedding1)\n",
    "        movie_vec = layers.Flatten(name='movie_vec')(movie_embedding)\n",
    "\n",
    "        # concatenate : dot product\n",
    "        dot_vec = layers.dot([user_vec, movie_vec], axes=1, name='dot_vec')\n",
    "        model = Model(inputs=[user_input, movie_input], outputs=dot_vec)\n",
    "        model.compile(loss='mean_squared_error',\n",
    "                      optimizer=optimizer,\n",
    "                      metrics=['mse'])\n",
    "        return model\n",
    "\n",
    "    def fit(self, user_input, movie_input, rating):\n",
    "        self.model.fit([user_input, movie_input], rating, epochs=self.epochs, batch_size=self.batch_size, validation_split=0.2)\n",
    "\n",
    "    def print_performance(self, user_input, movie_input, rating):\n",
    "        performance_test = self.model.evaluate([user_input, movie_input], rating, batch_size=self.batch_size)\n",
    "        print('Test MSE ->', performance_test[0])"
   ]
  },
  {
   "cell_type": "code",
   "execution_count": 339,
   "metadata": {},
   "outputs": [],
   "source": [
    "user_input_dim = rating_df['user_input'][0].shape[0]\n",
    "movie_input_dim = rating_df['movie_input'][0].shape[0]\n",
    "deep_mf_model = DeepMF(learning_rate=0.001, epochs=10, batch_size=2000, user_input_dim=user_input_dim, movie_input_dim=movie_input_dim)"
   ]
  },
  {
   "cell_type": "code",
   "execution_count": 340,
   "metadata": {},
   "outputs": [],
   "source": [
    "x_train_user_input = np.array(train_rating_df['user_input'].tolist())\n",
    "x_train_movie_input = np.array(train_rating_df['movie_input'].tolist())\n",
    "x_test_user_input = np.array(test_rating_df['user_input'].tolist())\n",
    "x_test_movie_input = np.array(test_rating_df['movie_input'].tolist())\n",
    "y_train = np.array(train_rating_df['rating'].tolist())\n",
    "y_test = np.array(test_rating_df['rating'].tolist())"
   ]
  },
  {
   "cell_type": "code",
   "execution_count": 481,
   "metadata": {},
   "outputs": [
    {
     "name": "stdout",
     "output_type": "stream",
     "text": [
      "Epoch 1/10\n",
      "321/321 [==============================] - 3s 10ms/step - loss: 0.7695 - mse: 0.7695 - val_loss: 1.0614 - val_mse: 1.0614\n",
      "Epoch 2/10\n",
      "321/321 [==============================] - 3s 9ms/step - loss: 0.7655 - mse: 0.7655 - val_loss: 1.0597 - val_mse: 1.0597\n",
      "Epoch 3/10\n",
      "321/321 [==============================] - 3s 9ms/step - loss: 0.7604 - mse: 0.7604 - val_loss: 1.0748 - val_mse: 1.0748\n",
      "Epoch 4/10\n",
      "321/321 [==============================] - 3s 9ms/step - loss: 0.7574 - mse: 0.7574 - val_loss: 1.0656 - val_mse: 1.0656\n",
      "Epoch 5/10\n",
      "321/321 [==============================] - 3s 10ms/step - loss: 0.7541 - mse: 0.7541 - val_loss: 1.0637 - val_mse: 1.0637\n",
      "Epoch 6/10\n",
      "321/321 [==============================] - 3s 9ms/step - loss: 0.7500 - mse: 0.7500 - val_loss: 1.1129 - val_mse: 1.1129\n",
      "Epoch 7/10\n",
      "321/321 [==============================] - 3s 9ms/step - loss: 0.7463 - mse: 0.7463 - val_loss: 1.0803 - val_mse: 1.0803\n",
      "Epoch 8/10\n",
      "321/321 [==============================] - 3s 10ms/step - loss: 0.7429 - mse: 0.7429 - val_loss: 1.0911 - val_mse: 1.0911\n",
      "Epoch 9/10\n",
      "321/321 [==============================] - 3s 9ms/step - loss: 0.7397 - mse: 0.7397 - val_loss: 1.1157 - val_mse: 1.1157\n",
      "Epoch 10/10\n",
      "321/321 [==============================] - 3s 9ms/step - loss: 0.7379 - mse: 0.7379 - val_loss: 1.0828 - val_mse: 1.0828\n",
      "101/101 [==============================] - 0s 4ms/step - loss: 1.0266 - mse: 1.0266\n",
      "Test MSE -> 1.0266183614730835\n"
     ]
    }
   ],
   "source": [
    "deep_mf_model.fit(x_train_user_input, x_train_movie_input, y_train)\n",
    "deep_mf_model.print_performance(x_test_user_input, x_test_movie_input, y_test)"
   ]
  },
  {
   "cell_type": "markdown",
   "metadata": {},
   "source": [
    "#### 3) Top k MAP"
   ]
  },
  {
   "cell_type": "markdown",
   "metadata": {},
   "source": [
    "-----\n",
    "##### [1] Indexing with ids"
   ]
  },
  {
   "cell_type": "code",
   "execution_count": 419,
   "metadata": {},
   "outputs": [],
   "source": [
    "user_latent_vector = deep_mf_model.model.get_layer(\"user_vec\").output\n",
    "movie_latent_vector = deep_mf_model.model.get_layer(\"movie_vec\").output\n",
    "ul = Model(inputs=deep_mf_model.model.input, outputs=user_latent_vector)\n",
    "ml = Model(inputs=deep_mf_model.model.input, outputs=movie_latent_vector)"
   ]
  },
  {
   "cell_type": "code",
   "execution_count": 420,
   "metadata": {},
   "outputs": [
    {
     "data": {
      "text/plain": [
       "array([[0.        , 0.        , 0.        , 0.2118307 , 0.39384124,\n",
       "        0.44420186, 0.68785644, 0.        , 0.18666789, 0.        ,\n",
       "        0.08292237, 0.        , 0.14650297, 0.07845943, 0.        ,\n",
       "        0.3322051 , 0.        , 0.        , 0.51575035, 0.        ,\n",
       "        0.        , 0.        , 0.        , 0.39354   , 0.1441606 ,\n",
       "        0.23438841, 0.19207948, 0.40197614, 0.        , 0.16835178,\n",
       "        0.26801333, 0.        , 0.4057256 , 0.        , 0.        ,\n",
       "        0.        , 0.        , 0.        , 0.6913568 , 0.05967681,\n",
       "        0.        , 0.7048268 , 0.        , 0.0596898 , 0.        ,\n",
       "        0.00784562, 0.0749912 , 0.5008796 , 0.        , 0.        ,\n",
       "        0.3745381 , 0.28445244, 0.        , 0.02602228, 0.12675786,\n",
       "        0.17107771, 0.        , 0.        , 0.        , 0.        ,\n",
       "        0.1847147 , 0.        , 0.24969955, 0.2765935 , 0.        ,\n",
       "        0.        , 0.        , 0.        , 0.        , 0.12705211,\n",
       "        0.02005998, 0.11206055, 0.29233396, 0.2365064 , 0.6715687 ,\n",
       "        0.30641547, 0.39850864, 0.        , 0.04857082, 0.        ,\n",
       "        0.        , 0.        , 0.        , 0.        , 0.03441907,\n",
       "        0.25027624, 0.5050304 , 0.        , 0.        , 0.18532029,\n",
       "        0.        , 0.        , 0.        , 0.2184254 , 0.02000559,\n",
       "        0.13026458, 0.        , 0.05741521, 0.        , 0.18944868]],\n",
       "      dtype=float32)"
      ]
     },
     "execution_count": 420,
     "metadata": {},
     "output_type": "execute_result"
    }
   ],
   "source": [
    "# user latent vector\n",
    "user_test_latent_vector = ul.predict([x_test_user_input[0].reshape(1,-1), x_test_movie_input[0].reshape(1,-1)])\n",
    "user_test_latent_vector"
   ]
  },
  {
   "cell_type": "code",
   "execution_count": 421,
   "metadata": {},
   "outputs": [],
   "source": [
    "# movie latent vectors in trainset\n",
    "dummy_shape = (np.array(movie_df['sparse_vector'].tolist()).shape[0], user_input_dim)\n",
    "movie_latent_vectors = ml.predict([np.zeros(dummy_shape), np.array(movie_df['sparse_vector'].tolist())])"
   ]
  },
  {
   "cell_type": "code",
   "execution_count": 422,
   "metadata": {},
   "outputs": [],
   "source": [
    "embedding_dimension = 100\n",
    "\n",
    "movie_ids = []\n",
    "for index, row in movie_df.iterrows():\n",
    "    movie_ids.append(row['movie_id'])\n",
    "    \n",
    "m_index = faiss.IndexFlatIP(embedding_dimension)\n",
    "m_index = faiss.IndexIDMap2(m_index)\n",
    "m_index.add_with_ids(movie_latent_vectors, np.array(movie_ids))\n",
    "\n",
    "rating, prefer_m_indexs = m_index.search(user_test_latent_vector, 5)"
   ]
  },
  {
   "cell_type": "code",
   "execution_count": 423,
   "metadata": {},
   "outputs": [
    {
     "data": {
      "text/plain": [
       "array([[5.052394 , 4.9196625, 4.8863444, 4.883404 , 4.871982 ]],\n",
       "      dtype=float32)"
      ]
     },
     "execution_count": 423,
     "metadata": {},
     "output_type": "execute_result"
    }
   ],
   "source": [
    "rating"
   ]
  },
  {
   "cell_type": "code",
   "execution_count": 424,
   "metadata": {},
   "outputs": [
    {
     "data": {
      "text/plain": [
       "array([[  50,  608,  527,  922, 1237]])"
      ]
     },
     "execution_count": 424,
     "metadata": {},
     "output_type": "execute_result"
    }
   ],
   "source": [
    "prefer_m_indexs"
   ]
  },
  {
   "cell_type": "markdown",
   "metadata": {},
   "source": [
    "-----\n",
    "##### [2] Get MAP"
   ]
  },
  {
   "cell_type": "code",
   "execution_count": 425,
   "metadata": {},
   "outputs": [],
   "source": [
    "def get_latest_context_vector(x):\n",
    "    return x.sort_values('time')['user_input'].index[-1]\n",
    "latest_context_vector_index = rating_df.groupby('user_id').apply(lambda x: get_latest_context_vector(x))"
   ]
  },
  {
   "cell_type": "code",
   "execution_count": 434,
   "metadata": {},
   "outputs": [],
   "source": [
    "user_watch_movielist_dict = train_rating_df.groupby('user_id')['movie_id'].apply(lambda x : set(x.tolist())).to_dict()\n",
    "dummy_shape = (1, movie_input_dim)\n",
    "train_user_set = set(train_rating_df['user_id'].unique().tolist())\n",
    "\n",
    "user_recommendations = {}\n",
    "for user in test_rating_df['user_id'].unique():\n",
    "    if user in train_user_set:\n",
    "        user_latent_vector = ul.predict([rating_df.iloc[latest_context_vector_index[user], -2].reshape(1,-1), np.zeros(dummy_shape)])\n",
    "        _, prefer_m_ids = m_index.search(user_latent_vector, 200)\n",
    "        user_recommendations[user] = prefer_m_ids.reshape(-1,).tolist()\n",
    "    else:\n",
    "#         print(\"User\", user, \"has no history. exclude for recommendation\")\n",
    "        continue"
   ]
  },
  {
   "cell_type": "code",
   "execution_count": 437,
   "metadata": {},
   "outputs": [
    {
     "name": "stdout",
     "output_type": "stream",
     "text": [
      "min rec result no: 26\n"
     ]
    }
   ],
   "source": [
    "min_rec_no = 200\n",
    "for user in user_recommendations:\n",
    "    user_recommendations[user] = [movie_id for movie_id in user_recommendations[user] if movie_id not in user_watch_movielist_dict[user]]\n",
    "    rec_no = len(user_recommendations[user])\n",
    "    if min_rec_no > rec_no:\n",
    "        min_rec_no = rec_no\n",
    "print(\"min rec result no:\", min_rec_no)"
   ]
  },
  {
   "cell_type": "code",
   "execution_count": 439,
   "metadata": {},
   "outputs": [
    {
     "data": {
      "text/plain": [
       "0.13079615048118967"
      ]
     },
     "execution_count": 439,
     "metadata": {},
     "output_type": "execute_result"
    }
   ],
   "source": [
    "def get_map_topk(user_recommendations, user_testset, k):\n",
    "    user_metric = []\n",
    "    for user in user_recommendations:\n",
    "        test_list = user_testset[user]\n",
    "        reco_list = user_recommendations[user][:k]\n",
    "        user_metric.append((user, reco_list, test_list))\n",
    "  \n",
    "    precision_list = []\n",
    "    for user in user_metric:\n",
    "        predictive_values = user[1]\n",
    "        actual_values = user[2]\n",
    "        tp = [pv for pv in predictive_values if pv in actual_values]\n",
    "        precision = len(tp) / len(predictive_values)\n",
    "        precision_list.append(precision)\n",
    "    return sum(precision_list) / len(precision_list)\n",
    "\n",
    "user_testset = test_rating_df.groupby('user_id')['movie_id'].apply(lambda x: set(x.tolist())).to_dict()\n",
    "get_map_topk(user_recommendations, user_testset, 20)"
   ]
  },
  {
   "cell_type": "code",
   "execution_count": 447,
   "metadata": {},
   "outputs": [
    {
     "data": {
      "image/png": "[encoded data removed]",
      "text/plain": [
       "<Figure size 432x288 with 1 Axes>"
      ]
     },
     "metadata": {
      "needs_background": "light"
     },
     "output_type": "display_data"
    }
   ],
   "source": [
    "k_param_list = []\n",
    "map_list = []\n",
    "for k in range(5, 100):\n",
    "    map_list.append(get_map_topk(user_recommendations, user_testset, k))\n",
    "    k_param_list.append(k)\n",
    "\n",
    "plt.plot(k_param_list, map_list)\n",
    "plt.title('MAP by top k recommendation')\n",
    "plt.ylabel('MAP', fontsize=12)\n",
    "plt.xlabel('k', fontsize=12)\n",
    "plt.show()"
   ]
  },
  {
   "cell_type": "markdown",
   "metadata": {},
   "source": [
    "- SVD 대비 5~7% 정도 성능 향상 (MAP 기준 0.14 -> 0.15)"
   ]
  },
  {
   "cell_type": "markdown",
   "metadata": {},
   "source": [
    "-----\n",
    "### 3. Faiss With Large Dataset"
   ]
  },
  {
   "cell_type": "code",
   "execution_count": 470,
   "metadata": {},
   "outputs": [],
   "source": [
    "embedding_vector_1m = ml.predict([x_train_user_input, x_train_movie_input])"
   ]
  },
  {
   "cell_type": "code",
   "execution_count": 471,
   "metadata": {},
   "outputs": [],
   "source": [
    "m_index = faiss.IndexFlatIP(100)\n",
    "m_index.add(embedding_vector_1m)"
   ]
  },
  {
   "cell_type": "code",
   "execution_count": 476,
   "metadata": {},
   "outputs": [
    {
     "name": "stdout",
     "output_type": "stream",
     "text": [
      "---29.67272925376892s seconds---\n"
     ]
    }
   ],
   "source": [
    "import time\n",
    "\n",
    "# start_time을 체크\n",
    "start_time = time.time()\n",
    "for i in range(1000):\n",
    "    rating, prefer_m_indexs = m_index.search(user_test_latent_vector, 5)\n",
    "\n",
    "print(\"---{}s seconds---\".format(time.time()-start_time))"
   ]
  },
  {
   "cell_type": "markdown",
   "metadata": {},
   "source": [
    "- 1백만 개의 벡터를 인덱싱 (1M, 100) 차원\n",
    "- dot product 연산 시, 0.03 time per transaction (Local PC Memory 32GB, CPU mode)\n",
    "- 메모리 큰 서버 스펙에 GPU 모드로 하면 0.01 이하로 될 것으로 추정"
   ]
  },
  {
   "cell_type": "markdown",
   "metadata": {},
   "source": [
    "-----\n",
    "### 4. DeepMF + Faiss + Yogiyo Dataset"
   ]
  },
  {
   "cell_type": "code",
   "execution_count": null,
   "metadata": {},
   "outputs": [],
   "source": []
  },
  {
   "cell_type": "code",
   "execution_count": null,
   "metadata": {},
   "outputs": [],
   "source": []
  },
  {
   "cell_type": "code",
   "execution_count": null,
   "metadata": {},
   "outputs": [],
   "source": []
  },
  {
   "cell_type": "markdown",
   "metadata": {},
   "source": [
    "-----\n",
    "### 5. GCMC Modeling"
   ]
  },
  {
   "cell_type": "code",
   "execution_count": null,
   "metadata": {},
   "outputs": [],
   "source": []
  }
 ],
 "metadata": {
  "kernelspec": {
   "display_name": "Python 3",
   "language": "python",
   "name": "python3"
  },
  "language_info": {
   "codemirror_mode": {
    "name": "ipython",
    "version": 3
   },
   "file_extension": ".py",
   "mimetype": "text/x-python",
   "name": "python",
   "nbconvert_exporter": "python",
   "pygments_lexer": "ipython3",
   "version": "3.8.8"
  }
 },
 "nbformat": 4,
 "nbformat_minor": 4
}
